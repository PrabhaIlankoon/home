{
 "cells": [
  {
   "cell_type": "markdown",
   "metadata": {},
   "source": [
    "# Keras - Classifying MNIST dataset with MLP (Version 2)"
   ]
  },
  {
   "cell_type": "markdown",
   "metadata": {},
   "source": [
    "From Wikipedia, the free encyclopedia (https://en.wikipedia.org/wiki/MNIST_database)\n",
    "\n",
    "The MNIST database (Modified National Institute of Standards and Technology database) is a large database of handwritten digits that is commonly used for training various image processing systems.The database is also widely used for training and testing in the field of machine learning. It was created by \"re-mixing\" the samples from NIST's original datasets. The creators felt that since NIST's training dataset was taken from American Census Bureau employees, while the testing dataset was taken from American high school students, it was not well-suited for machine learning experiments. Furthermore, the black and white images from NIST were normalized to fit into a 28x28 pixel bounding box and anti-aliased, which introduced grayscale levels.\n",
    "\n",
    "The MNIST database contains 60,000 training images and 10,000 testing images. Half of the training set and half of the test set were taken from NIST's training dataset, while the other half of the training set and the other half of the test set were taken from NIST's testing dataset. There have been a number of scientific papers on attempts to achieve the lowest error rate; one paper, using a hierarchical system of convolutional neural networks, manages to get an error rate on the MNIST database of 0.23 percent. The original creators of the database keep a list of some of the methods tested on it. In their original paper, they use a support vector machine to get an error rate of 0.8 percent.An extended dataset similar to MNIST called EMNIST has been published in 2017, which contains 240,000 training images, and 40,000 testing images of handwritten digits.\n",
    "\n",
    "THE MNIST DATABASE of handwritten digits - http://yann.lecun.com/exdb/mnist/"
   ]
  },
  {
   "cell_type": "markdown",
   "metadata": {},
   "source": [
    "### Loading the MNIST dataset"
   ]
  },
  {
   "cell_type": "code",
   "execution_count": 64,
   "metadata": {},
   "outputs": [
    {
     "name": "stdout",
     "output_type": "stream",
     "text": [
      "x_train shape =  (60000, 28, 28) y_train shape =  (60000,)\n",
      "x_test shape =  (10000, 28, 28) y_test shape =  (10000,)\n"
     ]
    }
   ],
   "source": [
    "from keras.datasets import mnist #importing the MNIST dataset\n",
    "(x_train, y_train), (x_test, y_test) = mnist.load_data()\n",
    "print \"x_train shape = \", x_train.shape, \"y_train shape = \", y_train.shape\n",
    "print \"x_test shape = \", x_test.shape, \"y_test shape = \", y_test.shape"
   ]
  },
  {
   "cell_type": "markdown",
   "metadata": {},
   "source": [
    "### Plotting digits"
   ]
  },
  {
   "cell_type": "code",
   "execution_count": 65,
   "metadata": {},
   "outputs": [
    {
     "data": {
      "text/plain": [
       "<matplotlib.image.AxesImage at 0x7fded42da3d0>"
      ]
     },
     "execution_count": 65,
     "metadata": {},
     "output_type": "execute_result"
    },
    {
     "data": {
      "image/png": "[encoded data removed]",
      "text/plain": [
       "<matplotlib.figure.Figure at 0x7fded4795910>"
      ]
     },
     "metadata": {},
     "output_type": "display_data"
    }
   ],
   "source": [
    "import matplotlib.pyplot as plt\n",
    "%matplotlib inline\n",
    "plt.imshow(x_train[0]) #plots the first digit stored in the training dataset"
   ]
  },
  {
   "cell_type": "code",
   "execution_count": 66,
   "metadata": {},
   "outputs": [
    {
     "data": {
      "text/plain": [
       "<matplotlib.image.AxesImage at 0x7fded4211110>"
      ]
     },
     "execution_count": 66,
     "metadata": {},
     "output_type": "execute_result"
    },
    {
     "data": {
      "image/png": "[encoded data removed]",
      "text/plain": [
       "<matplotlib.figure.Figure at 0x7fded42c3b50>"
      ]
     },
     "metadata": {},
     "output_type": "display_data"
    }
   ],
   "source": [
    "plt.imshow(x_test[0]) #plots the first digit stored in the testing dataset"
   ]
  },
  {
   "cell_type": "markdown",
   "metadata": {},
   "source": [
    "### Casting inputs to float32"
   ]
  },
  {
   "cell_type": "code",
   "execution_count": 67,
   "metadata": {
    "collapsed": true
   },
   "outputs": [],
   "source": [
    "x_train = x_train.astype('float32')\n",
    "x_test  = x_test.astype('float32')"
   ]
  },
  {
   "cell_type": "markdown",
   "metadata": {},
   "source": [
    "### Reshaping inputs"
   ]
  },
  {
   "cell_type": "code",
   "execution_count": 68,
   "metadata": {},
   "outputs": [
    {
     "name": "stdout",
     "output_type": "stream",
     "text": [
      "(60000, 28, 28) => (60000, 784)\n",
      "(10000, 28, 28) => (10000, 784)\n"
     ]
    }
   ],
   "source": [
    "INPUT_DIM = 784 #28 by 28\n",
    "\n",
    "x_train_reshape = x_train.reshape(60000, INPUT_DIM)\n",
    "x_test_reshape = x_test.reshape(10000, INPUT_DIM)\n",
    "print x_train.shape, \"=>\", x_train_reshape.shape\n",
    "print x_test.shape,  \"=>\", x_test_reshape.shape"
   ]
  },
  {
   "cell_type": "markdown",
   "metadata": {},
   "source": [
    "### Normalizing the inputs"
   ]
  },
  {
   "cell_type": "code",
   "execution_count": 69,
   "metadata": {
    "collapsed": true
   },
   "outputs": [],
   "source": [
    "x_train_reshape /= 255\n",
    "x_test_reshape  /= 255"
   ]
  },
  {
   "cell_type": "markdown",
   "metadata": {},
   "source": [
    "### Converting labels to one-hot vectors"
   ]
  },
  {
   "cell_type": "code",
   "execution_count": 70,
   "metadata": {},
   "outputs": [
    {
     "name": "stdout",
     "output_type": "stream",
     "text": [
      "Dimension of y_train_one_hot =  (60000, 10)\n",
      "Dimension of y_test_one_hot  =  (10000, 10)\n",
      "5 => [ 0.  0.  0.  0.  0.  1.  0.  0.  0.  0.]\n",
      "7 => [ 0.  0.  0.  0.  0.  0.  0.  1.  0.  0.]\n"
     ]
    }
   ],
   "source": [
    "from keras.utils import np_utils\n",
    "\n",
    "NB_CLASSES = 10 # (number of classes)\n",
    "y_train_one_hot = np_utils.to_categorical(y_train, NB_CLASSES) #nb_classes = 10 (number of classes)\n",
    "y_test_one_hot  = np_utils.to_categorical(y_test, NB_CLASSES)\n",
    "print \"Dimension of y_train_one_hot = \", y_train_one_hot.shape\n",
    "print \"Dimension of y_test_one_hot  = \", y_test_one_hot.shape\n",
    "print y_train[0], \"=>\", y_train_one_hot[0]\n",
    "print y_test[0],  \"=>\", y_test_one_hot[0]"
   ]
  },
  {
   "cell_type": "markdown",
   "metadata": {},
   "source": [
    "### Building the MLP model"
   ]
  },
  {
   "cell_type": "code",
   "execution_count": 71,
   "metadata": {},
   "outputs": [
    {
     "name": "stdout",
     "output_type": "stream",
     "text": [
      "_________________________________________________________________\n",
      "Layer (type)                 Output Shape              Param #   \n",
      "=================================================================\n",
      "dense_14 (Dense)             (None, 512)               401920    \n",
      "_________________________________________________________________\n",
      "dense_15 (Dense)             (None, 512)               262656    \n",
      "_________________________________________________________________\n",
      "dense_16 (Dense)             (None, 10)                5130      \n",
      "=================================================================\n",
      "Total params: 669,706\n",
      "Trainable params: 669,706\n",
      "Non-trainable params: 0\n",
      "_________________________________________________________________\n"
     ]
    }
   ],
   "source": [
    "from keras.models import Sequential\n",
    "from keras.layers import Dense, Activation\n",
    "\n",
    "#MLP - Two hidden layers (512 neurons in each layer) + Softmax layer (10 classes)\n",
    "model = Sequential()\n",
    "model.add(Dense(512, activation='relu', input_shape=(INPUT_DIM,)))\n",
    "model.add(Dense(512, activation='relu'))\n",
    "model.add(Dense(10, activation='softmax'))\n",
    "model.summary()"
   ]
  },
  {
   "cell_type": "markdown",
   "metadata": {},
   "source": [
    "### Compiling the model"
   ]
  },
  {
   "cell_type": "code",
   "execution_count": 72,
   "metadata": {
    "collapsed": true
   },
   "outputs": [],
   "source": [
    "from keras.optimizers import SGD\n",
    "\n",
    "OPTIMIZER = SGD(lr=0.1)\n",
    "model.compile(optimizer=OPTIMIZER, loss='categorical_crossentropy', metrics=['accuracy'])"
   ]
  },
  {
   "cell_type": "markdown",
   "metadata": {},
   "source": [
    "### Fitting the model with early stopping criteria"
   ]
  },
  {
   "cell_type": "code",
   "execution_count": 74,
   "metadata": {},
   "outputs": [
    {
     "name": "stdout",
     "output_type": "stream",
     "text": [
      "Train on 48000 samples, validate on 12000 samples\n",
      "Epoch 1/50\n",
      "48000/48000 [==============================] - 5s - loss: 0.0839 - acc: 0.9762 - val_loss: 0.1045 - val_acc: 0.9701\n",
      "Epoch 2/50\n",
      "48000/48000 [==============================] - 6s - loss: 0.0716 - acc: 0.9799 - val_loss: 0.0973 - val_acc: 0.9709\n",
      "Epoch 3/50\n",
      "48000/48000 [==============================] - 5s - loss: 0.0619 - acc: 0.9829 - val_loss: 0.0966 - val_acc: 0.9704\n",
      "Epoch 4/50\n",
      "48000/48000 [==============================] - 5s - loss: 0.0538 - acc: 0.9854 - val_loss: 0.0916 - val_acc: 0.9721\n",
      "Epoch 5/50\n",
      "48000/48000 [==============================] - 6s - loss: 0.0461 - acc: 0.9876 - val_loss: 0.0830 - val_acc: 0.9742\n",
      "Epoch 6/50\n",
      "48000/48000 [==============================] - 6s - loss: 0.0408 - acc: 0.9895 - val_loss: 0.0811 - val_acc: 0.9750\n",
      "Epoch 7/50\n",
      "48000/48000 [==============================] - 6s - loss: 0.0356 - acc: 0.9908 - val_loss: 0.0829 - val_acc: 0.9745\n",
      "Epoch 8/50\n",
      "48000/48000 [==============================] - 6s - loss: 0.0308 - acc: 0.9924 - val_loss: 0.0795 - val_acc: 0.9757\n",
      "Epoch 9/50\n",
      "48000/48000 [==============================] - 6s - loss: 0.0269 - acc: 0.9937 - val_loss: 0.0771 - val_acc: 0.9773\n",
      "Epoch 10/50\n",
      "48000/48000 [==============================] - 6s - loss: 0.0233 - acc: 0.9949 - val_loss: 0.0784 - val_acc: 0.9766\n",
      "Epoch 11/50\n",
      "48000/48000 [==============================] - 6s - loss: 0.0207 - acc: 0.9962 - val_loss: 0.0750 - val_acc: 0.9778\n",
      "Epoch 12/50\n",
      "48000/48000 [==============================] - 7s - loss: 0.0185 - acc: 0.9964 - val_loss: 0.0771 - val_acc: 0.9767\n",
      "Epoch 13/50\n",
      "48000/48000 [==============================] - 7s - loss: 0.0156 - acc: 0.9975 - val_loss: 0.0781 - val_acc: 0.9773\n",
      "Epoch 14/50\n",
      "48000/48000 [==============================] - 7s - loss: 0.0137 - acc: 0.9980 - val_loss: 0.0753 - val_acc: 0.9781\n",
      "Epoch 00013: early stopping\n"
     ]
    }
   ],
   "source": [
    "from keras.callbacks import EarlyStopping\n",
    "\n",
    "BATCH_SIZE = 128\n",
    "EPOCHES = 50\n",
    "VERBOSE = 1\n",
    "VALIDATION_SPLIT = 0.2\n",
    "\n",
    "#Monitor the validation lost and if it is not improved (min_delta=0.001) for 2 (patience=2) epoches stops \n",
    "#the training, mode = direction of improvement (increase/decrease) - auto means Keras decides it automatically \n",
    "ES = EarlyStopping(monitor='val_loss', min_delta=0.001, patience=2, verbose=VERBOSE, mode='auto')\n",
    "\n",
    "model_history = model.fit(x=x_train_reshape, y=y_train_one_hot, batch_size=BATCH_SIZE, \n",
    "                          epochs=EPOCHES, verbose=VERBOSE, validation_split=VALIDATION_SPLIT, \n",
    "                          callbacks=[ES])"
   ]
  },
  {
   "cell_type": "markdown",
   "metadata": {},
   "source": [
    "### Evaluating the model"
   ]
  },
  {
   "cell_type": "code",
   "execution_count": 75,
   "metadata": {},
   "outputs": [
    {
     "name": "stdout",
     "output_type": "stream",
     "text": [
      "('Test score:', 0.065197175257850903)\n",
      "('Test accuracy:', 0.98029999999999995)\n"
     ]
    }
   ],
   "source": [
    "score = model.evaluate(x_test_reshape, y_test_one_hot, verbose=2) \n",
    "print('Test score:', score[0]) \n",
    "print('Test accuracy:', score[1])"
   ]
  },
  {
   "cell_type": "markdown",
   "metadata": {},
   "source": [
    "### Predicting the class"
   ]
  },
  {
   "cell_type": "code",
   "execution_count": 76,
   "metadata": {},
   "outputs": [
    {
     "name": "stdout",
     "output_type": "stream",
     "text": [
      "True class =  7 Predicted class =  7\n"
     ]
    }
   ],
   "source": [
    "y_probability = model.predict(x_test_reshape)\n",
    "y_classes = y_probability.argmax(axis=-1)\n",
    "print \"True class = \", y_test[0], \"Predicted class = \", y_classes[0]"
   ]
  },
  {
   "cell_type": "markdown",
   "metadata": {},
   "source": [
    "### Plotting the model performances"
   ]
  },
  {
   "cell_type": "code",
   "execution_count": 77,
   "metadata": {},
   "outputs": [
    {
     "data": {
      "image/png": "[encoded data removed]",
      "text/plain": [
       "<matplotlib.figure.Figure at 0x7fded5707f50>"
      ]
     },
     "metadata": {},
     "output_type": "display_data"
    },
    {
     "data": {
      "image/png": "[encoded data removed]",
      "text/plain": [
       "<matplotlib.figure.Figure at 0x7fded3d504d0>"
      ]
     },
     "metadata": {},
     "output_type": "display_data"
    }
   ],
   "source": [
    "import matplotlib.pyplot as plt\n",
    "%matplotlib inline\n",
    "\n",
    "def plot_history(network_history):\n",
    "    plt.figure()\n",
    "    plt.xlabel('Epochs')\n",
    "    plt.ylabel('Loss')\n",
    "    plt.plot(network_history.history['loss'])\n",
    "    plt.plot(network_history.history['val_loss'])\n",
    "    plt.legend(['Training', 'Validation'])\n",
    "\n",
    "    plt.figure()\n",
    "    plt.xlabel('Epochs')\n",
    "    plt.ylabel('Accuracy')\n",
    "    plt.plot(network_history.history['acc'])\n",
    "    plt.plot(network_history.history['val_acc'])\n",
    "    plt.legend(['Training', 'Validation'], loc='lower right')\n",
    "    plt.show()\n",
    "\n",
    "plot_history(model_history)"
   ]
  },
  {
   "cell_type": "markdown",
   "metadata": {},
   "source": [
    "### Saving the trained model and its weights"
   ]
  },
  {
   "cell_type": "code",
   "execution_count": 79,
   "metadata": {
    "collapsed": true
   },
   "outputs": [],
   "source": [
    "json_string = model.to_json() # as json \n",
    "open('mlp_mnist_v2_model.json', 'w').write(json_string)\n",
    "# save the weights in h5 format \n",
    "model.save_weights('mlp_mnist_v2_wts.h5')"
   ]
  },
  {
   "cell_type": "markdown",
   "metadata": {},
   "source": [
    "### Retrieving a trained model and its weights"
   ]
  },
  {
   "cell_type": "code",
   "execution_count": 80,
   "metadata": {},
   "outputs": [
    {
     "name": "stdout",
     "output_type": "stream",
     "text": [
      "_________________________________________________________________\n",
      "Layer (type)                 Output Shape              Param #   \n",
      "=================================================================\n",
      "dense_14 (Dense)             (None, 512)               401920    \n",
      "_________________________________________________________________\n",
      "dense_15 (Dense)             (None, 512)               262656    \n",
      "_________________________________________________________________\n",
      "dense_16 (Dense)             (None, 10)                5130      \n",
      "=================================================================\n",
      "Total params: 669,706\n",
      "Trainable params: 669,706\n",
      "Non-trainable params: 0\n",
      "_________________________________________________________________\n",
      "('Test score:', 0.065197175257850903)\n",
      "('Test accuracy:', 0.98029999999999995)\n",
      "True class =  7 Predicted class =  7\n"
     ]
    }
   ],
   "source": [
    "from keras.models import model_from_json\n",
    "model1 = model_from_json(open('mlp_mnist_v2_model.json').read())\n",
    "model1.load_weights('mlp_mnist_v2_wts.h5')\n",
    "model1.summary()\n",
    "model1.compile(optimizer='sgd', loss='categorical_crossentropy', metrics=['accuracy'])\n",
    "score = model1.evaluate(x_test_reshape, y_test_one_hot, verbose=0) \n",
    "print('Test score:', score[0]) \n",
    "print('Test accuracy:', score[1])\n",
    "\n",
    "y_probability = model.predict(x_test_reshape)\n",
    "y_classes = y_probability.argmax(axis=-1)\n",
    "print \"True class = \", y_test[0], \"Predicted class = \", y_classes[0]"
   ]
  }
 ],
 "metadata": {
  "kernelspec": {
   "display_name": "Python 2",
   "language": "python",
   "name": "python2"
  },
  "language_info": {
   "codemirror_mode": {
    "name": "ipython",
    "version": 2
   },
   "file_extension": ".py",
   "mimetype": "text/x-python",
   "name": "python",
   "nbconvert_exporter": "python",
   "pygments_lexer": "ipython2",
   "version": "2.7.13"
  }
 },
 "nbformat": 4,
 "nbformat_minor": 2
}
