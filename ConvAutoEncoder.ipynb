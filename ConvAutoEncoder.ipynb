{
 "cells": [
  {
   "cell_type": "markdown",
   "metadata": {},
   "source": [
    "# Convolutional Autoencoder"
   ]
  },
  {
   "cell_type": "markdown",
   "metadata": {},
   "source": [
    "## Part 1 - Creating a Convolutional Autoencoder to reconstruct MNIST dataset"
   ]
  },
  {
   "cell_type": "markdown",
   "metadata": {},
   "source": [
    "### Loading packages"
   ]
  },
  {
   "cell_type": "code",
   "execution_count": 53,
   "metadata": {},
   "outputs": [],
   "source": [
    "# import the necessary packages\n",
    "from tensorflow.keras.layers import BatchNormalization\n",
    "from tensorflow.keras.layers import Conv2D\n",
    "from tensorflow.keras.layers import Conv2DTranspose\n",
    "from tensorflow.keras.layers import LeakyReLU\n",
    "from tensorflow.keras.layers import Activation\n",
    "from tensorflow.keras.layers import Flatten\n",
    "from tensorflow.keras.layers import Dense\n",
    "from tensorflow.keras.layers import Reshape\n",
    "from tensorflow.keras.layers import Input\n",
    "from tensorflow.keras.models import Model\n",
    "from tensorflow.keras import backend as K\n",
    "import numpy as np\n",
    "import tensorflow as tf\n",
    "from tensorflow.keras.optimizers import Adam"
   ]
  },
  {
   "cell_type": "markdown",
   "metadata": {},
   "source": [
    "### Loading the MNIST dataset"
   ]
  },
  {
   "cell_type": "code",
   "execution_count": 54,
   "metadata": {},
   "outputs": [
    {
     "name": "stdout",
     "output_type": "stream",
     "text": [
      "trainX shape =  (60000, 28, 28) trainY shape =  (60000,)\n",
      "testX shape  =  (10000, 28, 28) testY shape  =  (10000,)\n"
     ]
    }
   ],
   "source": [
    "from keras.datasets import mnist #importing the MNIST dataset\n",
    "(trainX, trainY), (testX, testY) = mnist.load_data()\n",
    "print(\"trainX shape = \", trainX.shape, \"trainY shape = \", trainY.shape)\n",
    "print(\"testX shape  = \", testX.shape, \"testY shape  = \", testY.shape)"
   ]
  },
  {
   "cell_type": "markdown",
   "metadata": {},
   "source": [
    "### Casting inputs to float32"
   ]
  },
  {
   "cell_type": "code",
   "execution_count": 55,
   "metadata": {},
   "outputs": [
    {
     "name": "stdout",
     "output_type": "stream",
     "text": [
      "trainX shape =  (60000, 28, 28) trainY shape =  (60000,)\n",
      "testX shape  =  (10000, 28, 28) testY shape  =  (10000,)\n"
     ]
    }
   ],
   "source": [
    "trainX = trainX.astype('float32')\n",
    "testX  = testX.astype('float32')\n",
    "print(\"trainX shape = \", trainX.shape, \"trainY shape = \", trainY.shape)\n",
    "print(\"testX shape  = \", testX.shape, \"testY shape  = \", testY.shape)"
   ]
  },
  {
   "cell_type": "markdown",
   "metadata": {},
   "source": [
    "### Normalizing the inputs"
   ]
  },
  {
   "cell_type": "code",
   "execution_count": 56,
   "metadata": {},
   "outputs": [],
   "source": [
    "trainX /= 255.0\n",
    "testX  /= 255.0"
   ]
  },
  {
   "cell_type": "markdown",
   "metadata": {},
   "source": [
    "### Constructing the Convolutional Autoencoder class"
   ]
  },
  {
   "cell_type": "code",
   "execution_count": 57,
   "metadata": {},
   "outputs": [],
   "source": [
    "class ConvAutoencoder:\n",
    "    @staticmethod\n",
    "    def build(width, height, depth, filters=(32, 64), latentDim=16):\n",
    "        #Encorder\n",
    "        inputShape = (height, width, depth)\n",
    "        chanDim = -1\n",
    "        inputs = Input(shape=inputShape)\n",
    "        x = inputs\n",
    "        for f in filters:\n",
    "            x = Conv2D(f, (3, 3), strides=2, padding=\"same\")(x)\n",
    "            x = LeakyReLU(alpha=0.2)(x)\n",
    "            x = BatchNormalization(axis=chanDim)(x)\n",
    "        volumeSize = K.int_shape(x)\n",
    "        x = Flatten()(x)\n",
    "        latent = Dense(latentDim)(x)\n",
    "        encoder = Model(inputs, latent, name=\"encoder\")\n",
    "        \n",
    "        #Decorder\n",
    "        latentInputs = Input(shape=(latentDim,))\n",
    "        x = Dense(np.prod(volumeSize[1:]))(latentInputs)\n",
    "        x = Reshape((volumeSize[1], volumeSize[2], volumeSize[3]))(x)\n",
    "        for f in filters[::-1]:\n",
    "            x = Conv2DTranspose(f, (3, 3), strides=2, padding=\"same\")(x)\n",
    "            x = LeakyReLU(alpha=0.2)(x)\n",
    "            x = BatchNormalization(axis=chanDim)(x)\n",
    "        x = Conv2DTranspose(depth, (3, 3), padding=\"same\")(x)\n",
    "        outputs = Activation(\"sigmoid\")(x)\n",
    "        decoder = Model(latentInputs, outputs, name=\"decoder\")\n",
    "        \n",
    "        autoencoder = Model(inputs, decoder(encoder(inputs)), name=\"autoencoder\")\n",
    "        return (encoder, decoder, autoencoder)"
   ]
  },
  {
   "cell_type": "markdown",
   "metadata": {},
   "source": [
    "### Setting hyperparameters "
   ]
  },
  {
   "cell_type": "code",
   "execution_count": 58,
   "metadata": {},
   "outputs": [],
   "source": [
    "EPOCHS = 50 #No of epochs\n",
    "INIT_LR = 1e-3 #Initial learning rate\n",
    "BS = 256 #Batch size"
   ]
  },
  {
   "cell_type": "markdown",
   "metadata": {},
   "source": [
    "### Adding a channel dimension to each pixel "
   ]
  },
  {
   "cell_type": "code",
   "execution_count": 59,
   "metadata": {},
   "outputs": [],
   "source": [
    "trainX = np.expand_dims(trainX, axis=-1)\n",
    "testX  = np.expand_dims(testX,  axis=-1)"
   ]
  },
  {
   "cell_type": "markdown",
   "metadata": {},
   "source": [
    "### Building the Convolutional Autoencoder model "
   ]
  },
  {
   "cell_type": "code",
   "execution_count": 60,
   "metadata": {},
   "outputs": [
    {
     "name": "stdout",
     "output_type": "stream",
     "text": [
      "Model: \"autoencoder\"\n",
      "_________________________________________________________________\n",
      "Layer (type)                 Output Shape              Param #   \n",
      "=================================================================\n",
      "input_7 (InputLayer)         [(None, 28, 28, 1)]       0         \n",
      "_________________________________________________________________\n",
      "encoder (Model)              (None, 16)                69392     \n",
      "_________________________________________________________________\n",
      "decoder (Model)              (None, 28, 28, 1)         109377    \n",
      "=================================================================\n",
      "Total params: 178,769\n",
      "Trainable params: 178,385\n",
      "Non-trainable params: 384\n",
      "_________________________________________________________________\n",
      "Model: \"encoder\"\n",
      "_________________________________________________________________\n",
      "Layer (type)                 Output Shape              Param #   \n",
      "=================================================================\n",
      "input_7 (InputLayer)         [(None, 28, 28, 1)]       0         \n",
      "_________________________________________________________________\n",
      "conv2d_6 (Conv2D)            (None, 14, 14, 32)        320       \n",
      "_________________________________________________________________\n",
      "leaky_re_lu_12 (LeakyReLU)   (None, 14, 14, 32)        0         \n",
      "_________________________________________________________________\n",
      "batch_normalization_12 (Batc (None, 14, 14, 32)        128       \n",
      "_________________________________________________________________\n",
      "conv2d_7 (Conv2D)            (None, 7, 7, 64)          18496     \n",
      "_________________________________________________________________\n",
      "leaky_re_lu_13 (LeakyReLU)   (None, 7, 7, 64)          0         \n",
      "_________________________________________________________________\n",
      "batch_normalization_13 (Batc (None, 7, 7, 64)          256       \n",
      "_________________________________________________________________\n",
      "flatten_3 (Flatten)          (None, 3136)              0         \n",
      "_________________________________________________________________\n",
      "dense_6 (Dense)              (None, 16)                50192     \n",
      "=================================================================\n",
      "Total params: 69,392\n",
      "Trainable params: 69,200\n",
      "Non-trainable params: 192\n",
      "_________________________________________________________________\n",
      "Model: \"decoder\"\n",
      "_________________________________________________________________\n",
      "Layer (type)                 Output Shape              Param #   \n",
      "=================================================================\n",
      "input_8 (InputLayer)         [(None, 16)]              0         \n",
      "_________________________________________________________________\n",
      "dense_7 (Dense)              (None, 3136)              53312     \n",
      "_________________________________________________________________\n",
      "reshape_3 (Reshape)          (None, 7, 7, 64)          0         \n",
      "_________________________________________________________________\n",
      "conv2d_transpose_9 (Conv2DTr (None, 14, 14, 64)        36928     \n",
      "_________________________________________________________________\n",
      "leaky_re_lu_14 (LeakyReLU)   (None, 14, 14, 64)        0         \n",
      "_________________________________________________________________\n",
      "batch_normalization_14 (Batc (None, 14, 14, 64)        256       \n",
      "_________________________________________________________________\n",
      "conv2d_transpose_10 (Conv2DT (None, 28, 28, 32)        18464     \n",
      "_________________________________________________________________\n",
      "leaky_re_lu_15 (LeakyReLU)   (None, 28, 28, 32)        0         \n",
      "_________________________________________________________________\n",
      "batch_normalization_15 (Batc (None, 28, 28, 32)        128       \n",
      "_________________________________________________________________\n",
      "conv2d_transpose_11 (Conv2DT (None, 28, 28, 1)         289       \n",
      "_________________________________________________________________\n",
      "activation_3 (Activation)    (None, 28, 28, 1)         0         \n",
      "=================================================================\n",
      "Total params: 109,377\n",
      "Trainable params: 109,185\n",
      "Non-trainable params: 192\n",
      "_________________________________________________________________\n"
     ]
    }
   ],
   "source": [
    "(encoder, decoder, autoencoder) = ConvAutoencoder().build(28, 28, 1)\n",
    "opt = Adam(lr=INIT_LR, decay=INIT_LR/EPOCHS)\n",
    "autoencoder.compile(loss=\"mse\", optimizer=opt)\n",
    "autoencoder.summary()\n",
    "encoder.summary()\n",
    "decoder.summary()"
   ]
  },
  {
   "cell_type": "markdown",
   "metadata": {},
   "source": [
    "### Fitting the Convolutional Autoencoder "
   ]
  },
  {
   "cell_type": "code",
   "execution_count": 61,
   "metadata": {},
   "outputs": [
    {
     "name": "stdout",
     "output_type": "stream",
     "text": [
      "Train on 60000 samples, validate on 10000 samples\n",
      "Epoch 1/50\n",
      "60000/60000 [==============================] - 36s 605us/sample - loss: 0.0459 - val_loss: 0.0366\n",
      "Epoch 2/50\n",
      "60000/60000 [==============================] - 39s 645us/sample - loss: 0.0146 - val_loss: 0.0125\n",
      "Epoch 3/50\n",
      "60000/60000 [==============================] - 37s 609us/sample - loss: 0.0119 - val_loss: 0.0108\n",
      "Epoch 4/50\n",
      "60000/60000 [==============================] - 37s 620us/sample - loss: 0.0106 - val_loss: 0.0106\n",
      "Epoch 5/50\n",
      "60000/60000 [==============================] - 38s 641us/sample - loss: 0.0099 - val_loss: 0.0096\n",
      "Epoch 6/50\n",
      "60000/60000 [==============================] - 38s 632us/sample - loss: 0.0094 - val_loss: 0.0094\n",
      "Epoch 7/50\n",
      "60000/60000 [==============================] - 38s 632us/sample - loss: 0.0090 - val_loss: 0.0089\n",
      "Epoch 8/50\n",
      "60000/60000 [==============================] - 39s 654us/sample - loss: 0.0088 - val_loss: 0.0088\n",
      "Epoch 9/50\n",
      "60000/60000 [==============================] - 39s 647us/sample - loss: 0.0086 - val_loss: 0.0084\n",
      "Epoch 10/50\n",
      "60000/60000 [==============================] - 41s 677us/sample - loss: 0.0084 - val_loss: 0.0083\n",
      "Epoch 11/50\n",
      "60000/60000 [==============================] - 37s 620us/sample - loss: 0.0083 - val_loss: 0.0086\n",
      "Epoch 12/50\n",
      "60000/60000 [==============================] - 37s 612us/sample - loss: 0.0081 - val_loss: 0.0081\n",
      "Epoch 13/50\n",
      "60000/60000 [==============================] - 37s 613us/sample - loss: 0.0080 - val_loss: 0.0082\n",
      "Epoch 14/50\n",
      "60000/60000 [==============================] - 37s 609us/sample - loss: 0.0079 - val_loss: 0.0080\n",
      "Epoch 15/50\n",
      "60000/60000 [==============================] - 38s 629us/sample - loss: 0.0078 - val_loss: 0.0078\n",
      "Epoch 16/50\n",
      "60000/60000 [==============================] - 39s 642us/sample - loss: 0.0077 - val_loss: 0.0080\n",
      "Epoch 17/50\n",
      "60000/60000 [==============================] - 39s 650us/sample - loss: 0.0076 - val_loss: 0.0076\n",
      "Epoch 18/50\n",
      "60000/60000 [==============================] - 39s 647us/sample - loss: 0.0075 - val_loss: 0.0079\n",
      "Epoch 19/50\n",
      "60000/60000 [==============================] - 40s 671us/sample - loss: 0.0075 - val_loss: 0.0077\n",
      "Epoch 20/50\n",
      "60000/60000 [==============================] - 38s 634us/sample - loss: 0.0074 - val_loss: 0.0076\n",
      "Epoch 21/50\n",
      "60000/60000 [==============================] - 38s 636us/sample - loss: 0.0073 - val_loss: 0.0076\n",
      "Epoch 22/50\n",
      "60000/60000 [==============================] - 38s 633us/sample - loss: 0.0073 - val_loss: 0.0074\n",
      "Epoch 23/50\n",
      "60000/60000 [==============================] - 38s 630us/sample - loss: 0.0072 - val_loss: 0.0076\n",
      "Epoch 24/50\n",
      "60000/60000 [==============================] - 38s 631us/sample - loss: 0.0072 - val_loss: 0.0074\n",
      "Epoch 25/50\n",
      "60000/60000 [==============================] - 38s 632us/sample - loss: 0.0072 - val_loss: 0.0074\n",
      "Epoch 26/50\n",
      "60000/60000 [==============================] - 38s 630us/sample - loss: 0.0071 - val_loss: 0.0074\n",
      "Epoch 27/50\n",
      "60000/60000 [==============================] - 38s 630us/sample - loss: 0.0071 - val_loss: 0.0072\n",
      "Epoch 28/50\n",
      "60000/60000 [==============================] - 38s 634us/sample - loss: 0.0070 - val_loss: 0.0077\n",
      "Epoch 29/50\n",
      "60000/60000 [==============================] - 38s 630us/sample - loss: 0.0070 - val_loss: 0.0074\n",
      "Epoch 30/50\n",
      "60000/60000 [==============================] - 38s 633us/sample - loss: 0.0070 - val_loss: 0.0073\n",
      "Epoch 31/50\n",
      "60000/60000 [==============================] - 39s 651us/sample - loss: 0.0069 - val_loss: 0.0073\n",
      "Epoch 32/50\n",
      "60000/60000 [==============================] - 38s 633us/sample - loss: 0.0069 - val_loss: 0.0073\n",
      "Epoch 33/50\n",
      "60000/60000 [==============================] - 38s 637us/sample - loss: 0.0069 - val_loss: 0.0072\n",
      "Epoch 34/50\n",
      "60000/60000 [==============================] - 38s 628us/sample - loss: 0.0068 - val_loss: 0.0071\n",
      "Epoch 35/50\n",
      "60000/60000 [==============================] - 38s 639us/sample - loss: 0.0068 - val_loss: 0.0073\n",
      "Epoch 36/50\n",
      "60000/60000 [==============================] - 38s 631us/sample - loss: 0.0068 - val_loss: 0.0071\n",
      "Epoch 37/50\n",
      "60000/60000 [==============================] - 38s 637us/sample - loss: 0.0068 - val_loss: 0.0071\n",
      "Epoch 38/50\n",
      "60000/60000 [==============================] - 39s 656us/sample - loss: 0.0067 - val_loss: 0.0070\n",
      "Epoch 39/50\n",
      "60000/60000 [==============================] - 40s 661us/sample - loss: 0.0067 - val_loss: 0.0071\n",
      "Epoch 40/50\n",
      "60000/60000 [==============================] - 39s 648us/sample - loss: 0.0067 - val_loss: 0.0070\n",
      "Epoch 41/50\n",
      "60000/60000 [==============================] - 38s 640us/sample - loss: 0.0067 - val_loss: 0.0069\n",
      "Epoch 42/50\n",
      "60000/60000 [==============================] - 39s 645us/sample - loss: 0.0067 - val_loss: 0.0072\n",
      "Epoch 43/50\n",
      "60000/60000 [==============================] - 38s 637us/sample - loss: 0.0066 - val_loss: 0.0071\n",
      "Epoch 44/50\n",
      "60000/60000 [==============================] - 39s 643us/sample - loss: 0.0066 - val_loss: 0.0070\n",
      "Epoch 45/50\n",
      "60000/60000 [==============================] - 39s 651us/sample - loss: 0.0066 - val_loss: 0.0070\n",
      "Epoch 46/50\n",
      "60000/60000 [==============================] - 39s 652us/sample - loss: 0.0066 - val_loss: 0.0072\n",
      "Epoch 47/50\n",
      "60000/60000 [==============================] - 40s 668us/sample - loss: 0.0065 - val_loss: 0.0070\n",
      "Epoch 48/50\n",
      "60000/60000 [==============================] - 42s 708us/sample - loss: 0.0065 - val_loss: 0.0069\n",
      "Epoch 49/50\n",
      "60000/60000 [==============================] - 41s 691us/sample - loss: 0.0065 - val_loss: 0.0069\n",
      "Epoch 50/50\n",
      "60000/60000 [==============================] - 42s 696us/sample - loss: 0.0065 - val_loss: 0.0069\n"
     ]
    }
   ],
   "source": [
    "hist = autoencoder.fit(trainX, trainX, epochs=EPOCHS, batch_size=BS, validation_data=(testX, testX), verbose=1)"
   ]
  },
  {
   "cell_type": "markdown",
   "metadata": {},
   "source": [
    "### Plotting the model performances "
   ]
  },
  {
   "cell_type": "code",
   "execution_count": 62,
   "metadata": {},
   "outputs": [
    {
     "data": {
      "image/png": "[encoded data removed]",
      "text/plain": [
       "<Figure size 432x288 with 1 Axes>"
      ]
     },
     "metadata": {
      "needs_background": "light"
     },
     "output_type": "display_data"
    }
   ],
   "source": [
    "import matplotlib.pyplot as plt\n",
    "%matplotlib inline\n",
    "\n",
    "def plot_history(network_history):\n",
    "    plt.figure()\n",
    "    plt.xlabel('Epochs')\n",
    "    plt.ylabel('Loss')\n",
    "    plt.plot(network_history.history['loss'])\n",
    "    plt.plot(network_history.history['val_loss'])\n",
    "    plt.legend(['Training', 'Validation'])\n",
    "    plt.show()\n",
    "\n",
    "plot_history(hist)# use Matplotlib (don't ask)"
   ]
  },
  {
   "cell_type": "markdown",
   "metadata": {},
   "source": [
    "### Reconstructing the test dataset "
   ]
  },
  {
   "cell_type": "code",
   "execution_count": 70,
   "metadata": {},
   "outputs": [
    {
     "name": "stdout",
     "output_type": "stream",
     "text": [
      "Before removing the channel:\n",
      "Shape of testX                =  (10000, 28, 28, 1)\n",
      "Shape of reconstructed images =  (10000, 28, 28, 1)\n",
      "After removing the channel:\n",
      "Shape of original images      =  (10000, 28, 28)\n",
      "Shape of reconstructed images =  (10000, 28, 28)\n"
     ]
    }
   ],
   "source": [
    "import numpy as np\n",
    "\n",
    "reconstructed_imgs = autoencoder.predict(testX)\n",
    "\n",
    "print(\"Before removing the channel:\")\n",
    "print(\"Shape of testX                = \", testX.shape)\n",
    "print(\"Shape of reconstructed images = \", reconstructed_imgs.shape)\n",
    "\n",
    "original_imgs = np.squeeze(testX) #After removing the channel\n",
    "reconstructed_imgs = np.squeeze(reconstructed_imgs) #After removing the channel\n",
    "\n",
    "print(\"After removing the channel:\")\n",
    "print(\"Shape of original images      = \", original_imgs.shape)\n",
    "print(\"Shape of reconstructed images = \", reconstructed_imgs.shape)"
   ]
  },
  {
   "cell_type": "code",
   "execution_count": 71,
   "metadata": {},
   "outputs": [
    {
     "data": {
      "image/png": "[encoded data removed]",
      "text/plain": [
       "<Figure size 1440x288 with 20 Axes>"
      ]
     },
     "metadata": {
      "needs_background": "light"
     },
     "output_type": "display_data"
    }
   ],
   "source": [
    "import matplotlib.pyplot as plt\n",
    "\n",
    "n = 10  # how many digits we will display\n",
    "plt.figure(figsize=(20, 4))\n",
    "for i in range(n):\n",
    "    # display original\n",
    "    ax = plt.subplot(2, n, i + 1)\n",
    "    plt.imshow(original_imgs[i].reshape(28, 28))\n",
    "    plt.gray()\n",
    "    ax.get_xaxis().set_visible(False)\n",
    "    ax.get_yaxis().set_visible(False)\n",
    "\n",
    "    # display reconstruction\n",
    "    ax = plt.subplot(2, n, i + 1 + n)\n",
    "    plt.imshow(reconstructed_imgs[i].reshape(28, 28))\n",
    "    plt.gray()\n",
    "    ax.get_xaxis().set_visible(False)\n",
    "    ax.get_yaxis().set_visible(False)\n",
    "plt.show()"
   ]
  },
  {
   "cell_type": "markdown",
   "metadata": {},
   "source": [
    "## Part 2 - Convolutional Autoencoder reconstructng a different image dataset "
   ]
  },
  {
   "cell_type": "markdown",
   "metadata": {},
   "source": [
    "### Loading the FASHION_MNIST dataset (Different from the MNIST dataset, but they are of same size (28*28)) "
   ]
  },
  {
   "cell_type": "code",
   "execution_count": 73,
   "metadata": {},
   "outputs": [
    {
     "name": "stdout",
     "output_type": "stream",
     "text": [
      "Downloading data from http://fashion-mnist.s3-website.eu-central-1.amazonaws.com/train-labels-idx1-ubyte.gz\n",
      "32768/29515 [=================================] - 0s 10us/step\n",
      "Downloading data from http://fashion-mnist.s3-website.eu-central-1.amazonaws.com/train-images-idx3-ubyte.gz\n",
      "26427392/26421880 [==============================] - 82s 3us/step\n",
      "Downloading data from http://fashion-mnist.s3-website.eu-central-1.amazonaws.com/t10k-labels-idx1-ubyte.gz\n",
      "8192/5148 [===============================================] - 0s 0us/step\n",
      "Downloading data from http://fashion-mnist.s3-website.eu-central-1.amazonaws.com/t10k-images-idx3-ubyte.gz\n",
      "4423680/4422102 [==============================] - 33s 8us/step\n",
      "(60000, 28, 28)\n",
      "(60000,)\n"
     ]
    }
   ],
   "source": [
    "from keras.datasets import fashion_mnist\n",
    "(x_train_fashion, y_train_fashion), (x_test_fashion, y_test_fashion) = fashion_mnist.load_data()\n",
    "print(x_train_fashion.shape)\n",
    "print(y_train_fashion.shape)"
   ]
  },
  {
   "cell_type": "markdown",
   "metadata": {},
   "source": [
    "   ### Preparing the test dataset of FASHION_MNIST"
   ]
  },
  {
   "cell_type": "code",
   "execution_count": 76,
   "metadata": {},
   "outputs": [
    {
     "name": "stdout",
     "output_type": "stream",
     "text": [
      "(10000, 28, 28)\n",
      "(10000, 28, 28, 1)\n"
     ]
    }
   ],
   "source": [
    "x_test_fashion  = x_test_fashion.astype('float32')\n",
    "print(x_test_fashion.shape)\n",
    "x_test_fashion  = np.expand_dims(x_test_fashion,  axis=-1)\n",
    "print(x_test_fashion.shape)"
   ]
  },
  {
   "cell_type": "code",
   "execution_count": 77,
   "metadata": {},
   "outputs": [],
   "source": [
    "x_test_fashion /= 255"
   ]
  },
  {
   "cell_type": "markdown",
   "metadata": {},
   "source": [
    "### Reconstructing FASHION_MNIST test dataset"
   ]
  },
  {
   "cell_type": "code",
   "execution_count": 79,
   "metadata": {},
   "outputs": [
    {
     "name": "stdout",
     "output_type": "stream",
     "text": [
      "(10000, 28, 28, 1)\n"
     ]
    }
   ],
   "source": [
    "reconstructed_fashion_imgs = autoencoder.predict(x_test_fashion)\n",
    "print(reconstructed_fashion_imgs.shape)"
   ]
  },
  {
   "cell_type": "markdown",
   "metadata": {},
   "source": [
    "### Removing channel "
   ]
  },
  {
   "cell_type": "code",
   "execution_count": 84,
   "metadata": {},
   "outputs": [
    {
     "name": "stdout",
     "output_type": "stream",
     "text": [
      "(10000, 28, 28)\n",
      "(10000, 28, 28)\n"
     ]
    }
   ],
   "source": [
    "reconstructed_fashion_imgs = np.squeeze(reconstructed_fashion_imgs)\n",
    "print(reconstructed_fashion_imgs.shape)\n",
    "x_test_fashion = np.squeeze(x_test_fashion)\n",
    "print(x_test_fashion.shape)"
   ]
  },
  {
   "cell_type": "markdown",
   "metadata": {},
   "source": [
    "### Plotting the first 10 original and reconstructed images"
   ]
  },
  {
   "cell_type": "code",
   "execution_count": 85,
   "metadata": {},
   "outputs": [
    {
     "data": {
      "image/png": "[encoded data removed]",
      "text/plain": [
       "<Figure size 1440x288 with 20 Axes>"
      ]
     },
     "metadata": {
      "needs_background": "light"
     },
     "output_type": "display_data"
    }
   ],
   "source": [
    "import matplotlib.pyplot as plt\n",
    "\n",
    "n = 10  # how many digits we will display\n",
    "plt.figure(figsize=(20, 4))\n",
    "for i in range(n):\n",
    "    # display original\n",
    "    ax = plt.subplot(2, n, i + 1)\n",
    "    plt.imshow(x_test_fashion[i].reshape(28, 28))\n",
    "    plt.gray()\n",
    "    ax.get_xaxis().set_visible(False)\n",
    "    ax.get_yaxis().set_visible(False)\n",
    "\n",
    "    # display reconstruction\n",
    "    ax = plt.subplot(2, n, i + 1 + n)\n",
    "    plt.imshow(reconstructed_fashion_imgs[i].reshape(28, 28))\n",
    "    plt.gray()\n",
    "    ax.get_xaxis().set_visible(False)\n",
    "    ax.get_yaxis().set_visible(False)\n",
    "plt.show()"
   ]
  }
 ],
 "metadata": {
  "kernelspec": {
   "display_name": "Python 3",
   "language": "python",
   "name": "python3"
  },
  "language_info": {
   "codemirror_mode": {
    "name": "ipython",
    "version": 3
   },
   "file_extension": ".py",
   "mimetype": "text/x-python",
   "name": "python",
   "nbconvert_exporter": "python",
   "pygments_lexer": "ipython3",
   "version": "3.7.6"
  }
 },
 "nbformat": 4,
 "nbformat_minor": 2
}
