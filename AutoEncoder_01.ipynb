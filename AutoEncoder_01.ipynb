{
  "nbformat": 4,
  "nbformat_minor": 0,
  "metadata": {
    "colab": {
      "name": "AutoEncoder_01.ipynb",
      "version": "0.3.2",
      "provenance": []
    },
    "kernelspec": {
      "display_name": "Python 2",
      "language": "python",
      "name": "python2"
    },
    "accelerator": "GPU"
  },
  "cells": [
    {
      "cell_type": "markdown",
      "metadata": {
        "id": "view-in-github",
        "colab_type": "text"
      },
      "source": [
        "[View in Colaboratory](https://colab.research.google.com/github/tgi25/home/blob/master/AutoEncoder_01.ipynb)"
      ]
    },
    {
      "metadata": {
        "id": "57-QhNh_dthX",
        "colab_type": "text"
      },
      "cell_type": "markdown",
      "source": [
        "### Loading the MNIST dataset"
      ]
    },
    {
      "metadata": {
        "id": "xGav-JXpdthY",
        "colab_type": "code",
        "colab": {
          "base_uri": "https://localhost:8080/",
          "height": 102
        },
        "outputId": "c688ec6f-94f7-4b7a-81a5-f665d6fd7085"
      },
      "cell_type": "code",
      "source": [
        "from keras.datasets import mnist #importing the MNIST dataset\n",
        "(x_train, y_train), (x_test, y_test) = mnist.load_data()\n",
        "print \"x_train shape = \", x_train.shape, \"y_train shape = \", y_train.shape\n",
        "print \"x_test shape = \", x_test.shape, \"y_test shape = \", y_test.shape"
      ],
      "execution_count": 2,
      "outputs": [
        {
          "output_type": "stream",
          "text": [
            "Downloading data from https://s3.amazonaws.com/img-datasets/mnist.npz\n",
            "11493376/11490434 [==============================] - 0s 0us/step\n",
            "11501568/11490434 [==============================] - 1s 0us/step\n",
            "x_train shape =  (60000, 28, 28) y_train shape =  (60000,)\n",
            "x_test shape =  (10000, 28, 28) y_test shape =  (10000,)\n"
          ],
          "name": "stdout"
        }
      ]
    },
    {
      "metadata": {
        "id": "zl9qmtV1dthe",
        "colab_type": "text"
      },
      "cell_type": "markdown",
      "source": [
        "### Casting inputs to float32"
      ]
    },
    {
      "metadata": {
        "id": "76h8A6Lgdthe",
        "colab_type": "code",
        "colab": {}
      },
      "cell_type": "code",
      "source": [
        "x_train = x_train.astype('float32')\n",
        "x_test  = x_test.astype('float32')"
      ],
      "execution_count": 0,
      "outputs": []
    },
    {
      "metadata": {
        "id": "20ePXOiEdthh",
        "colab_type": "text"
      },
      "cell_type": "markdown",
      "source": [
        "### Reshaping inputs"
      ]
    },
    {
      "metadata": {
        "id": "LZxzllQVdthi",
        "colab_type": "code",
        "colab": {
          "base_uri": "https://localhost:8080/",
          "height": 51
        },
        "outputId": "912f6f9a-0b60-40c0-f399-c1908511afc4"
      },
      "cell_type": "code",
      "source": [
        "INPUT_DIM = 784 #28 by 28\n",
        "\n",
        "x_train_reshape = x_train.reshape(60000, INPUT_DIM)\n",
        "x_test_reshape = x_test.reshape(10000, INPUT_DIM)\n",
        "print x_train.shape, \"=>\", x_train_reshape.shape\n",
        "print x_test.shape,  \"=>\", x_test_reshape.shape"
      ],
      "execution_count": 4,
      "outputs": [
        {
          "output_type": "stream",
          "text": [
            "(60000, 28, 28) => (60000, 784)\n",
            "(10000, 28, 28) => (10000, 784)\n"
          ],
          "name": "stdout"
        }
      ]
    },
    {
      "metadata": {
        "id": "AIKUYUVtdthl",
        "colab_type": "text"
      },
      "cell_type": "markdown",
      "source": [
        "### Normalizing the inputs"
      ]
    },
    {
      "metadata": {
        "id": "ss3QxJfPdthm",
        "colab_type": "code",
        "colab": {}
      },
      "cell_type": "code",
      "source": [
        "x_train_reshape /= 255\n",
        "x_test_reshape  /= 255"
      ],
      "execution_count": 0,
      "outputs": []
    },
    {
      "metadata": {
        "id": "pg2_AL6ddtho",
        "colab_type": "text"
      },
      "cell_type": "markdown",
      "source": [
        "### Building the Autoencoder model"
      ]
    },
    {
      "metadata": {
        "id": "o22yphCrdtho",
        "colab_type": "code",
        "colab": {
          "base_uri": "https://localhost:8080/",
          "height": 204
        },
        "outputId": "a24f4bd0-199c-4bbb-968f-29a2e02b3040"
      },
      "cell_type": "code",
      "source": [
        "from keras.models import Sequential\n",
        "from keras.layers import Dense, Activation\n",
        "\n",
        "ENCODING_DIM = 32\n",
        "autoencoder = Sequential()\n",
        "autoencoder.add(Dense(ENCODING_DIM, activation='relu', input_shape=(INPUT_DIM,)))\n",
        "autoencoder.add(Dense(INPUT_DIM, activation='sigmoid'))\n",
        "autoencoder.summary()"
      ],
      "execution_count": 6,
      "outputs": [
        {
          "output_type": "stream",
          "text": [
            "_________________________________________________________________\n",
            "Layer (type)                 Output Shape              Param #   \n",
            "=================================================================\n",
            "dense_1 (Dense)              (None, 32)                25120     \n",
            "_________________________________________________________________\n",
            "dense_2 (Dense)              (None, 784)               25872     \n",
            "=================================================================\n",
            "Total params: 50,992\n",
            "Trainable params: 50,992\n",
            "Non-trainable params: 0\n",
            "_________________________________________________________________\n"
          ],
          "name": "stdout"
        }
      ]
    },
    {
      "metadata": {
        "id": "Fe-ksmzEdthr",
        "colab_type": "text"
      },
      "cell_type": "markdown",
      "source": [
        "### Compiling the model"
      ]
    },
    {
      "metadata": {
        "id": "LAopf7Xmdths",
        "colab_type": "code",
        "colab": {}
      },
      "cell_type": "code",
      "source": [
        "autoencoder.compile(optimizer='adadelta', loss='binary_crossentropy', metrics=['accuracy'])"
      ],
      "execution_count": 0,
      "outputs": []
    },
    {
      "metadata": {
        "id": "AM-MKMh_dthu",
        "colab_type": "text"
      },
      "cell_type": "markdown",
      "source": [
        "### Fitting the Autoencoder"
      ]
    },
    {
      "metadata": {
        "id": "hX76c4IBdthw",
        "colab_type": "code",
        "colab": {
          "base_uri": "https://localhost:8080/",
          "height": 3454
        },
        "outputId": "875f467a-439c-4cab-fd83-9e1181fbcfb5"
      },
      "cell_type": "code",
      "source": [
        "autoencoder_history = autoencoder.fit(x=x_train_reshape, y=x_train_reshape,\n",
        "                                     epochs=100, batch_size=256,\n",
        "                                     shuffle=True,\n",
        "                                     validation_data=(x_test_reshape, x_test_reshape),\n",
        "                                     verbose=1)"
      ],
      "execution_count": 8,
      "outputs": [
        {
          "output_type": "stream",
          "text": [
            "Train on 60000 samples, validate on 10000 samples\n",
            "Epoch 1/100\n",
            "60000/60000 [==============================] - 3s 42us/step - loss: 0.3626 - acc: 0.7490 - val_loss: 0.2710 - val_acc: 0.7945\n",
            "Epoch 2/100\n",
            "60000/60000 [==============================] - 2s 29us/step - loss: 0.2632 - acc: 0.7969 - val_loss: 0.2522 - val_acc: 0.7954\n",
            "Epoch 3/100\n",
            "60000/60000 [==============================] - 2s 29us/step - loss: 0.2423 - acc: 0.7963 - val_loss: 0.2306 - val_acc: 0.7960\n",
            "Epoch 4/100\n",
            "60000/60000 [==============================] - 2s 29us/step - loss: 0.2231 - acc: 0.7966 - val_loss: 0.2136 - val_acc: 0.7967\n",
            "Epoch 5/100\n",
            "60000/60000 [==============================] - 2s 29us/step - loss: 0.2085 - acc: 0.7977 - val_loss: 0.2011 - val_acc: 0.7983\n",
            "Epoch 6/100\n",
            "60000/60000 [==============================] - 2s 28us/step - loss: 0.1974 - acc: 0.7991 - val_loss: 0.1915 - val_acc: 0.7994\n",
            "Epoch 7/100\n",
            "11776/60000 [====>.........................] - ETA: 1s - loss: 0.1920 - acc: 0.7999"
          ],
          "name": "stdout"
        },
        {
          "output_type": "stream",
          "text": [
            "60000/60000 [==============================] - 2s 29us/step - loss: 0.1889 - acc: 0.8003 - val_loss: 0.1840 - val_acc: 0.8007\n",
            "Epoch 8/100\n",
            "60000/60000 [==============================] - 2s 28us/step - loss: 0.1822 - acc: 0.8014 - val_loss: 0.1779 - val_acc: 0.8013\n",
            "Epoch 9/100\n",
            "60000/60000 [==============================] - 2s 29us/step - loss: 0.1767 - acc: 0.8023 - val_loss: 0.1729 - val_acc: 0.8023\n",
            "Epoch 10/100\n",
            "60000/60000 [==============================] - 2s 29us/step - loss: 0.1720 - acc: 0.8032 - val_loss: 0.1686 - val_acc: 0.8032\n",
            "Epoch 11/100\n",
            "60000/60000 [==============================] - 2s 29us/step - loss: 0.1679 - acc: 0.8039 - val_loss: 0.1647 - val_acc: 0.8040\n",
            "Epoch 12/100\n",
            "60000/60000 [==============================] - 2s 29us/step - loss: 0.1642 - acc: 0.8045 - val_loss: 0.1610 - val_acc: 0.8044\n",
            "Epoch 13/100\n",
            "38400/60000 [==================>...........] - ETA: 0s - loss: 0.1614 - acc: 0.8046"
          ],
          "name": "stdout"
        },
        {
          "output_type": "stream",
          "text": [
            "60000/60000 [==============================] - 2s 29us/step - loss: 0.1607 - acc: 0.8051 - val_loss: 0.1577 - val_acc: 0.8050\n",
            "Epoch 14/100\n",
            "60000/60000 [==============================] - 2s 29us/step - loss: 0.1574 - acc: 0.8057 - val_loss: 0.1544 - val_acc: 0.8055\n",
            "Epoch 15/100\n",
            "60000/60000 [==============================] - 2s 28us/step - loss: 0.1543 - acc: 0.8063 - val_loss: 0.1512 - val_acc: 0.8062\n",
            "Epoch 16/100\n",
            "60000/60000 [==============================] - 2s 29us/step - loss: 0.1512 - acc: 0.8069 - val_loss: 0.1481 - val_acc: 0.8067\n",
            "Epoch 17/100\n",
            "60000/60000 [==============================] - 2s 29us/step - loss: 0.1481 - acc: 0.8074 - val_loss: 0.1451 - val_acc: 0.8071\n",
            "Epoch 18/100\n",
            "60000/60000 [==============================] - 2s 28us/step - loss: 0.1453 - acc: 0.8079 - val_loss: 0.1423 - val_acc: 0.8076\n",
            "Epoch 19/100\n",
            "42752/60000 [====================>.........] - ETA: 0s - loss: 0.1427 - acc: 0.8084"
          ],
          "name": "stdout"
        },
        {
          "output_type": "stream",
          "text": [
            "60000/60000 [==============================] - 2s 28us/step - loss: 0.1425 - acc: 0.8084 - val_loss: 0.1396 - val_acc: 0.8080\n",
            "Epoch 20/100\n",
            "60000/60000 [==============================] - 2s 28us/step - loss: 0.1400 - acc: 0.8088 - val_loss: 0.1372 - val_acc: 0.8084\n",
            "Epoch 21/100\n",
            "60000/60000 [==============================] - 2s 29us/step - loss: 0.1376 - acc: 0.8092 - val_loss: 0.1349 - val_acc: 0.8088\n",
            "Epoch 22/100\n",
            "60000/60000 [==============================] - 2s 29us/step - loss: 0.1354 - acc: 0.8095 - val_loss: 0.1327 - val_acc: 0.8090\n",
            "Epoch 23/100\n",
            "60000/60000 [==============================] - 2s 28us/step - loss: 0.1333 - acc: 0.8099 - val_loss: 0.1307 - val_acc: 0.8093\n",
            "Epoch 24/100\n",
            "60000/60000 [==============================] - 2s 29us/step - loss: 0.1313 - acc: 0.8102 - val_loss: 0.1287 - val_acc: 0.8095\n",
            "Epoch 25/100\n",
            "41984/60000 [===================>..........] - ETA: 0s - loss: 0.1298 - acc: 0.8103"
          ],
          "name": "stdout"
        },
        {
          "output_type": "stream",
          "text": [
            "60000/60000 [==============================] - 2s 28us/step - loss: 0.1294 - acc: 0.8104 - val_loss: 0.1270 - val_acc: 0.8098\n",
            "Epoch 26/100\n",
            "60000/60000 [==============================] - 2s 29us/step - loss: 0.1277 - acc: 0.8107 - val_loss: 0.1252 - val_acc: 0.8100\n",
            "Epoch 27/100\n",
            "60000/60000 [==============================] - 2s 28us/step - loss: 0.1260 - acc: 0.8109 - val_loss: 0.1236 - val_acc: 0.8103\n",
            "Epoch 28/100\n",
            "60000/60000 [==============================] - 2s 28us/step - loss: 0.1245 - acc: 0.8111 - val_loss: 0.1221 - val_acc: 0.8104\n",
            "Epoch 29/100\n",
            "60000/60000 [==============================] - 2s 29us/step - loss: 0.1230 - acc: 0.8113 - val_loss: 0.1207 - val_acc: 0.8107\n",
            "Epoch 30/100\n",
            "60000/60000 [==============================] - 2s 29us/step - loss: 0.1216 - acc: 0.8115 - val_loss: 0.1193 - val_acc: 0.8108\n",
            "Epoch 31/100\n",
            "42496/60000 [====================>.........] - ETA: 0s - loss: 0.1204 - acc: 0.8118"
          ],
          "name": "stdout"
        },
        {
          "output_type": "stream",
          "text": [
            "60000/60000 [==============================] - 2s 28us/step - loss: 0.1203 - acc: 0.8117 - val_loss: 0.1180 - val_acc: 0.8108\n",
            "Epoch 32/100\n",
            "60000/60000 [==============================] - 2s 28us/step - loss: 0.1190 - acc: 0.8118 - val_loss: 0.1169 - val_acc: 0.8111\n",
            "Epoch 33/100\n",
            "60000/60000 [==============================] - 2s 29us/step - loss: 0.1179 - acc: 0.8120 - val_loss: 0.1157 - val_acc: 0.8112\n",
            "Epoch 34/100\n",
            "60000/60000 [==============================] - 2s 29us/step - loss: 0.1168 - acc: 0.8121 - val_loss: 0.1147 - val_acc: 0.8113\n",
            "Epoch 35/100\n",
            "60000/60000 [==============================] - 2s 29us/step - loss: 0.1159 - acc: 0.8122 - val_loss: 0.1137 - val_acc: 0.8114\n",
            "Epoch 36/100\n",
            "60000/60000 [==============================] - 2s 29us/step - loss: 0.1149 - acc: 0.8123 - val_loss: 0.1129 - val_acc: 0.8115\n",
            "Epoch 37/100\n",
            "35840/60000 [================>.............] - ETA: 0s - loss: 0.1143 - acc: 0.8122"
          ],
          "name": "stdout"
        },
        {
          "output_type": "stream",
          "text": [
            "60000/60000 [==============================] - 2s 29us/step - loss: 0.1141 - acc: 0.8124 - val_loss: 0.1121 - val_acc: 0.8117\n",
            "Epoch 38/100\n",
            "60000/60000 [==============================] - 2s 29us/step - loss: 0.1133 - acc: 0.8125 - val_loss: 0.1112 - val_acc: 0.8117\n",
            "Epoch 39/100\n",
            "60000/60000 [==============================] - 2s 28us/step - loss: 0.1125 - acc: 0.8126 - val_loss: 0.1105 - val_acc: 0.8118\n",
            "Epoch 40/100\n",
            "60000/60000 [==============================] - 2s 29us/step - loss: 0.1118 - acc: 0.8126 - val_loss: 0.1098 - val_acc: 0.8119\n",
            "Epoch 41/100\n",
            "60000/60000 [==============================] - 2s 28us/step - loss: 0.1111 - acc: 0.8127 - val_loss: 0.1092 - val_acc: 0.8119\n",
            "Epoch 42/100\n",
            "60000/60000 [==============================] - 2s 28us/step - loss: 0.1105 - acc: 0.8128 - val_loss: 0.1086 - val_acc: 0.8119\n",
            "Epoch 43/100\n",
            "43008/60000 [====================>.........] - ETA: 0s - loss: 0.1100 - acc: 0.8129"
          ],
          "name": "stdout"
        },
        {
          "output_type": "stream",
          "text": [
            "60000/60000 [==============================] - 2s 28us/step - loss: 0.1099 - acc: 0.8128 - val_loss: 0.1080 - val_acc: 0.8120\n",
            "Epoch 44/100\n",
            "60000/60000 [==============================] - 2s 29us/step - loss: 0.1094 - acc: 0.8129 - val_loss: 0.1075 - val_acc: 0.8120\n",
            "Epoch 45/100\n",
            "60000/60000 [==============================] - 2s 29us/step - loss: 0.1089 - acc: 0.8129 - val_loss: 0.1070 - val_acc: 0.8122\n",
            "Epoch 46/100\n",
            "60000/60000 [==============================] - 2s 29us/step - loss: 0.1084 - acc: 0.8130 - val_loss: 0.1065 - val_acc: 0.8122\n",
            "Epoch 47/100\n",
            "60000/60000 [==============================] - 2s 29us/step - loss: 0.1079 - acc: 0.8130 - val_loss: 0.1061 - val_acc: 0.8122\n",
            "Epoch 48/100\n",
            "60000/60000 [==============================] - 2s 28us/step - loss: 0.1075 - acc: 0.8131 - val_loss: 0.1057 - val_acc: 0.8122\n",
            "Epoch 49/100\n",
            "40448/60000 [===================>..........] - ETA: 0s - loss: 0.1071 - acc: 0.8129"
          ],
          "name": "stdout"
        },
        {
          "output_type": "stream",
          "text": [
            "60000/60000 [==============================] - 2s 29us/step - loss: 0.1071 - acc: 0.8131 - val_loss: 0.1053 - val_acc: 0.8122\n",
            "Epoch 50/100\n",
            "60000/60000 [==============================] - 2s 28us/step - loss: 0.1067 - acc: 0.8131 - val_loss: 0.1049 - val_acc: 0.8123\n",
            "Epoch 51/100\n",
            "60000/60000 [==============================] - 2s 29us/step - loss: 0.1064 - acc: 0.8132 - val_loss: 0.1046 - val_acc: 0.8123\n",
            "Epoch 52/100\n",
            "60000/60000 [==============================] - 2s 29us/step - loss: 0.1060 - acc: 0.8132 - val_loss: 0.1043 - val_acc: 0.8123\n",
            "Epoch 53/100\n",
            "60000/60000 [==============================] - 2s 28us/step - loss: 0.1057 - acc: 0.8132 - val_loss: 0.1040 - val_acc: 0.8124\n",
            "Epoch 54/100\n",
            "60000/60000 [==============================] - 2s 29us/step - loss: 0.1054 - acc: 0.8133 - val_loss: 0.1037 - val_acc: 0.8124\n",
            "Epoch 55/100\n",
            "42496/60000 [====================>.........] - ETA: 0s - loss: 0.1051 - acc: 0.8132"
          ],
          "name": "stdout"
        },
        {
          "output_type": "stream",
          "text": [
            "60000/60000 [==============================] - 2s 28us/step - loss: 0.1051 - acc: 0.8133 - val_loss: 0.1034 - val_acc: 0.8124\n",
            "Epoch 56/100\n",
            "60000/60000 [==============================] - 2s 29us/step - loss: 0.1048 - acc: 0.8133 - val_loss: 0.1031 - val_acc: 0.8124\n",
            "Epoch 57/100\n",
            "60000/60000 [==============================] - 2s 28us/step - loss: 0.1046 - acc: 0.8133 - val_loss: 0.1029 - val_acc: 0.8125\n",
            "Epoch 58/100\n",
            "60000/60000 [==============================] - 2s 28us/step - loss: 0.1043 - acc: 0.8133 - val_loss: 0.1026 - val_acc: 0.8125\n",
            "Epoch 59/100\n",
            "60000/60000 [==============================] - 2s 29us/step - loss: 0.1041 - acc: 0.8134 - val_loss: 0.1024 - val_acc: 0.8124\n",
            "Epoch 60/100\n",
            "60000/60000 [==============================] - 2s 28us/step - loss: 0.1039 - acc: 0.8134 - val_loss: 0.1021 - val_acc: 0.8125\n",
            "Epoch 61/100\n",
            "40704/60000 [===================>..........] - ETA: 0s - loss: 0.1037 - acc: 0.8132"
          ],
          "name": "stdout"
        },
        {
          "output_type": "stream",
          "text": [
            "60000/60000 [==============================] - 2s 29us/step - loss: 0.1036 - acc: 0.8134 - val_loss: 0.1019 - val_acc: 0.8125\n",
            "Epoch 62/100\n",
            "60000/60000 [==============================] - 2s 29us/step - loss: 0.1034 - acc: 0.8134 - val_loss: 0.1017 - val_acc: 0.8126\n",
            "Epoch 63/100\n",
            "60000/60000 [==============================] - 2s 28us/step - loss: 0.1032 - acc: 0.8134 - val_loss: 0.1015 - val_acc: 0.8126\n",
            "Epoch 64/100\n",
            "60000/60000 [==============================] - 2s 28us/step - loss: 0.1030 - acc: 0.8135 - val_loss: 0.1013 - val_acc: 0.8126\n",
            "Epoch 65/100\n",
            "60000/60000 [==============================] - 2s 29us/step - loss: 0.1028 - acc: 0.8135 - val_loss: 0.1011 - val_acc: 0.8126\n",
            "Epoch 66/100\n",
            "60000/60000 [==============================] - 2s 28us/step - loss: 0.1027 - acc: 0.8135 - val_loss: 0.1010 - val_acc: 0.8126\n",
            "Epoch 67/100\n",
            "40704/60000 [===================>..........] - ETA: 0s - loss: 0.1024 - acc: 0.8136"
          ],
          "name": "stdout"
        },
        {
          "output_type": "stream",
          "text": [
            "60000/60000 [==============================] - 2s 28us/step - loss: 0.1025 - acc: 0.8135 - val_loss: 0.1008 - val_acc: 0.8126\n",
            "Epoch 68/100\n",
            "60000/60000 [==============================] - 2s 29us/step - loss: 0.1023 - acc: 0.8135 - val_loss: 0.1007 - val_acc: 0.8127\n",
            "Epoch 69/100\n",
            "60000/60000 [==============================] - 2s 29us/step - loss: 0.1022 - acc: 0.8135 - val_loss: 0.1005 - val_acc: 0.8126\n",
            "Epoch 70/100\n",
            "60000/60000 [==============================] - 2s 29us/step - loss: 0.1020 - acc: 0.8135 - val_loss: 0.1004 - val_acc: 0.8126\n",
            "Epoch 71/100\n",
            "60000/60000 [==============================] - 2s 29us/step - loss: 0.1019 - acc: 0.8135 - val_loss: 0.1003 - val_acc: 0.8127\n",
            "Epoch 72/100\n",
            "60000/60000 [==============================] - 2s 29us/step - loss: 0.1018 - acc: 0.8136 - val_loss: 0.1001 - val_acc: 0.8127\n",
            "Epoch 73/100\n",
            "38400/60000 [==================>...........] - ETA: 0s - loss: 0.1016 - acc: 0.8140"
          ],
          "name": "stdout"
        },
        {
          "output_type": "stream",
          "text": [
            "60000/60000 [==============================] - 2s 28us/step - loss: 0.1016 - acc: 0.8136 - val_loss: 0.1000 - val_acc: 0.8127\n",
            "Epoch 74/100\n",
            "60000/60000 [==============================] - 2s 28us/step - loss: 0.1015 - acc: 0.8136 - val_loss: 0.0999 - val_acc: 0.8127\n",
            "Epoch 75/100\n",
            "60000/60000 [==============================] - 2s 29us/step - loss: 0.1014 - acc: 0.8136 - val_loss: 0.0998 - val_acc: 0.8127\n",
            "Epoch 76/100\n",
            "60000/60000 [==============================] - 2s 28us/step - loss: 0.1013 - acc: 0.8136 - val_loss: 0.0997 - val_acc: 0.8127\n",
            "Epoch 77/100\n",
            "60000/60000 [==============================] - 2s 29us/step - loss: 0.1012 - acc: 0.8136 - val_loss: 0.0996 - val_acc: 0.8127\n",
            "Epoch 78/100\n",
            "60000/60000 [==============================] - 2s 28us/step - loss: 0.1011 - acc: 0.8136 - val_loss: 0.0995 - val_acc: 0.8127\n",
            "Epoch 79/100\n",
            "42240/60000 [====================>.........] - ETA: 0s - loss: 0.1009 - acc: 0.8136"
          ],
          "name": "stdout"
        },
        {
          "output_type": "stream",
          "text": [
            "60000/60000 [==============================] - 2s 28us/step - loss: 0.1010 - acc: 0.8136 - val_loss: 0.0994 - val_acc: 0.8128\n",
            "Epoch 80/100\n",
            "60000/60000 [==============================] - 2s 29us/step - loss: 0.1009 - acc: 0.8136 - val_loss: 0.0993 - val_acc: 0.8128\n",
            "Epoch 81/100\n",
            "60000/60000 [==============================] - 2s 28us/step - loss: 0.1008 - acc: 0.8136 - val_loss: 0.0992 - val_acc: 0.8127\n",
            "Epoch 82/100\n",
            "60000/60000 [==============================] - 2s 28us/step - loss: 0.1008 - acc: 0.8136 - val_loss: 0.0991 - val_acc: 0.8127\n",
            "Epoch 83/100\n",
            "60000/60000 [==============================] - 2s 29us/step - loss: 0.1007 - acc: 0.8136 - val_loss: 0.0991 - val_acc: 0.8127\n",
            "Epoch 84/100\n",
            "60000/60000 [==============================] - 2s 28us/step - loss: 0.1006 - acc: 0.8137 - val_loss: 0.0990 - val_acc: 0.8128\n",
            "Epoch 85/100\n",
            "38400/60000 [==================>...........] - ETA: 0s - loss: 0.1004 - acc: 0.8140"
          ],
          "name": "stdout"
        },
        {
          "output_type": "stream",
          "text": [
            "60000/60000 [==============================] - 2s 28us/step - loss: 0.1005 - acc: 0.8137 - val_loss: 0.0989 - val_acc: 0.8128\n",
            "Epoch 86/100\n",
            "60000/60000 [==============================] - 2s 28us/step - loss: 0.1005 - acc: 0.8137 - val_loss: 0.0989 - val_acc: 0.8127\n",
            "Epoch 87/100\n",
            "60000/60000 [==============================] - 2s 28us/step - loss: 0.1004 - acc: 0.8137 - val_loss: 0.0988 - val_acc: 0.8127\n",
            "Epoch 88/100\n",
            "60000/60000 [==============================] - 2s 29us/step - loss: 0.1003 - acc: 0.8137 - val_loss: 0.0987 - val_acc: 0.8128\n",
            "Epoch 89/100\n",
            "60000/60000 [==============================] - 2s 28us/step - loss: 0.1003 - acc: 0.8137 - val_loss: 0.0987 - val_acc: 0.8128\n",
            "Epoch 90/100\n",
            "60000/60000 [==============================] - 2s 28us/step - loss: 0.1002 - acc: 0.8137 - val_loss: 0.0986 - val_acc: 0.8128\n",
            "Epoch 91/100\n",
            "41728/60000 [===================>..........] - ETA: 0s - loss: 0.1003 - acc: 0.8135"
          ],
          "name": "stdout"
        },
        {
          "output_type": "stream",
          "text": [
            "60000/60000 [==============================] - 2s 29us/step - loss: 0.1002 - acc: 0.8137 - val_loss: 0.0986 - val_acc: 0.8128\n",
            "Epoch 92/100\n",
            "60000/60000 [==============================] - 2s 28us/step - loss: 0.1001 - acc: 0.8137 - val_loss: 0.0985 - val_acc: 0.8128\n",
            "Epoch 93/100\n",
            "60000/60000 [==============================] - 2s 29us/step - loss: 0.1001 - acc: 0.8137 - val_loss: 0.0985 - val_acc: 0.8128\n",
            "Epoch 94/100\n",
            "60000/60000 [==============================] - 2s 29us/step - loss: 0.1000 - acc: 0.8137 - val_loss: 0.0984 - val_acc: 0.8128\n",
            "Epoch 95/100\n",
            "60000/60000 [==============================] - 2s 29us/step - loss: 0.1000 - acc: 0.8137 - val_loss: 0.0984 - val_acc: 0.8128\n",
            "Epoch 96/100\n",
            "60000/60000 [==============================] - 2s 28us/step - loss: 0.0999 - acc: 0.8137 - val_loss: 0.0983 - val_acc: 0.8128\n",
            "Epoch 97/100\n",
            "40192/60000 [===================>..........] - ETA: 0s - loss: 0.0998 - acc: 0.8137"
          ],
          "name": "stdout"
        },
        {
          "output_type": "stream",
          "text": [
            "60000/60000 [==============================] - 2s 28us/step - loss: 0.0999 - acc: 0.8137 - val_loss: 0.0983 - val_acc: 0.8128\n",
            "Epoch 98/100\n",
            "60000/60000 [==============================] - 2s 28us/step - loss: 0.0998 - acc: 0.8137 - val_loss: 0.0982 - val_acc: 0.8128\n",
            "Epoch 99/100\n",
            "60000/60000 [==============================] - 2s 28us/step - loss: 0.0998 - acc: 0.8137 - val_loss: 0.0982 - val_acc: 0.8128\n",
            "Epoch 100/100\n",
            "60000/60000 [==============================] - 2s 28us/step - loss: 0.0997 - acc: 0.8137 - val_loss: 0.0981 - val_acc: 0.8128\n"
          ],
          "name": "stdout"
        }
      ]
    },
    {
      "metadata": {
        "id": "-eOAeJJLdth1",
        "colab_type": "text"
      },
      "cell_type": "markdown",
      "source": [
        "### Plotting the model performances"
      ]
    },
    {
      "metadata": {
        "id": "J6AOXojQdth1",
        "colab_type": "code",
        "colab": {
          "base_uri": "https://localhost:8080/",
          "height": 541
        },
        "outputId": "9f5d5837-4d4a-495c-9264-ce43a3ace7ee"
      },
      "cell_type": "code",
      "source": [
        "import matplotlib.pyplot as plt\n",
        "%matplotlib inline\n",
        "\n",
        "def plot_history(network_history):\n",
        "    plt.figure()\n",
        "    plt.xlabel('Epochs')\n",
        "    plt.ylabel('Loss')\n",
        "    plt.plot(network_history.history['loss'])\n",
        "    plt.plot(network_history.history['val_loss'])\n",
        "    plt.legend(['Training', 'Validation'])\n",
        "\n",
        "    plt.figure()\n",
        "    plt.xlabel('Epochs')\n",
        "    plt.ylabel('Accuracy')\n",
        "    plt.plot(network_history.history['acc'])\n",
        "    plt.plot(network_history.history['val_acc'])\n",
        "    plt.legend(['Training', 'Validation'], loc='lower right')\n",
        "    plt.show()\n",
        "\n",
        "plot_history(autoencoder_history)# use Matplotlib (don't ask)"
      ],
      "execution_count": 9,
      "outputs": [
        {
          "output_type": "display_data",
          "data": {
            "image/png": "[encoded data removed]",
            "text/plain": [
              "<matplotlib.figure.Figure at 0x7f7a7210b390>"
            ]
          },
          "metadata": {
            "tags": []
          }
        },
        {
          "output_type": "display_data",
          "data": {
            "image/png": "[encoded data removed]",
            "text/plain": [
              "<matplotlib.figure.Figure at 0x7f7a6b011ad0>"
            ]
          },
          "metadata": {
            "tags": []
          }
        }
      ]
    },
    {
      "metadata": {
        "id": "LIYXglsIdth5",
        "colab_type": "text"
      },
      "cell_type": "markdown",
      "source": [
        "### Reconstructing the test images"
      ]
    },
    {
      "metadata": {
        "id": "8UsjwLgQdth7",
        "colab_type": "code",
        "colab": {
          "base_uri": "https://localhost:8080/",
          "height": 34
        },
        "outputId": "fa553a03-5823-4efe-dc86-8c8d7c27503e"
      },
      "cell_type": "code",
      "source": [
        "reconstructed_imgs = autoencoder.predict(x_test_reshape)\n",
        "print \"Shape of reconstructed images = \", reconstructed_imgs.shape"
      ],
      "execution_count": 10,
      "outputs": [
        {
          "output_type": "stream",
          "text": [
            "Shape of reconstructed images =  (10000, 784)\n"
          ],
          "name": "stdout"
        }
      ]
    },
    {
      "metadata": {
        "id": "zkUdeiEe29lS",
        "colab_type": "text"
      },
      "cell_type": "markdown",
      "source": [
        "### Plotting the first 10 original and reconstructed images"
      ]
    },
    {
      "metadata": {
        "id": "-TgkSjhwdth_",
        "colab_type": "code",
        "colab": {
          "base_uri": "https://localhost:8080/",
          "height": 244
        },
        "outputId": "f8455d29-a181-4e81-93f2-a564e0774a80"
      },
      "cell_type": "code",
      "source": [
        "import matplotlib.pyplot as plt\n",
        "\n",
        "n = 10  # how many digits we will display\n",
        "plt.figure(figsize=(20, 4))\n",
        "for i in range(n):\n",
        "    # display original\n",
        "    ax = plt.subplot(2, n, i + 1)\n",
        "    plt.imshow(x_test[i].reshape(28, 28))\n",
        "    plt.gray()\n",
        "    ax.get_xaxis().set_visible(False)\n",
        "    ax.get_yaxis().set_visible(False)\n",
        "\n",
        "    # display reconstruction\n",
        "    ax = plt.subplot(2, n, i + 1 + n)\n",
        "    plt.imshow(reconstructed_imgs[i].reshape(28, 28))\n",
        "    plt.gray()\n",
        "    ax.get_xaxis().set_visible(False)\n",
        "    ax.get_yaxis().set_visible(False)\n",
        "plt.show()"
      ],
      "execution_count": 11,
      "outputs": [
        {
          "output_type": "display_data",
          "data": {
            "image/png": "[encoded data removed]",
            "text/plain": [
              "<matplotlib.figure.Figure at 0x7f7a6af9b450>"
            ]
          },
          "metadata": {
            "tags": []
          }
        }
      ]
    },
    {
      "metadata": {
        "id": "J_BskCWJ1hb7",
        "colab_type": "text"
      },
      "cell_type": "markdown",
      "source": [
        "\n",
        "\n",
        "---\n",
        "\n"
      ]
    },
    {
      "metadata": {
        "id": "hvUKxFqV0gKy",
        "colab_type": "text"
      },
      "cell_type": "markdown",
      "source": [
        "### **Loading the FASHION_MNIST dataset** (Different from the MNIST dataset, but they are of same size (28*28))"
      ]
    },
    {
      "metadata": {
        "id": "YYCD_12Pu1ku",
        "colab_type": "code",
        "colab": {
          "base_uri": "https://localhost:8080/",
          "height": 51
        },
        "outputId": "96c264c1-45a6-4bd8-ebae-765846e89325"
      },
      "cell_type": "code",
      "source": [
        "from keras.datasets import fashion_mnist\n",
        "(x_train_fashion, y_train_fashion), (x_test_fashion, y_test_fashion) = fashion_mnist.load_data()\n",
        "print x_train_fashion.shape\n",
        "print y_train_fashion.shape"
      ],
      "execution_count": 14,
      "outputs": [
        {
          "output_type": "stream",
          "text": [
            "(60000, 28, 28)\n",
            "(60000,)\n"
          ],
          "name": "stdout"
        }
      ]
    },
    {
      "metadata": {
        "id": "deNe-Pue1Wfm",
        "colab_type": "text"
      },
      "cell_type": "markdown",
      "source": [
        "### **Casting inputs to float32** **bold text**"
      ]
    },
    {
      "metadata": {
        "id": "fWpui6Y7xPrD",
        "colab_type": "code",
        "colab": {}
      },
      "cell_type": "code",
      "source": [
        "x_train_fashion = x_train_fashion.astype('float32')\n",
        "x_test_fashion  = x_test_fashion.astype('float32')"
      ],
      "execution_count": 0,
      "outputs": []
    },
    {
      "metadata": {
        "id": "MZHnlSWB1oNd",
        "colab_type": "text"
      },
      "cell_type": "markdown",
      "source": [
        "### **Reshaping inputs**"
      ]
    },
    {
      "metadata": {
        "id": "L_q1jbQ7xaxx",
        "colab_type": "code",
        "colab": {
          "base_uri": "https://localhost:8080/",
          "height": 51
        },
        "outputId": "03db09c4-7aae-4718-96f5-ff479abf49a9"
      },
      "cell_type": "code",
      "source": [
        "INPUT_DIM = 784 #28 by 28\n",
        "\n",
        "x_train_fashion_reshape = x_train_fashion.reshape(60000, INPUT_DIM)\n",
        "x_test_fashion_reshape = x_test_fashion.reshape(10000, INPUT_DIM)\n",
        "print x_train_fashion.shape, \"=>\", x_train_fashion_reshape.shape\n",
        "print x_test_fashion.shape,  \"=>\", x_test_fashion_reshape.shape"
      ],
      "execution_count": 18,
      "outputs": [
        {
          "output_type": "stream",
          "text": [
            "(60000, 28, 28) => (60000, 784)\n",
            "(10000, 28, 28) => (10000, 784)\n"
          ],
          "name": "stdout"
        }
      ]
    },
    {
      "metadata": {
        "id": "1l3HwaCT1uaY",
        "colab_type": "text"
      },
      "cell_type": "markdown",
      "source": [
        "### **Normalizing the inputs**"
      ]
    },
    {
      "metadata": {
        "id": "x0uLOTwYyHBi",
        "colab_type": "code",
        "colab": {}
      },
      "cell_type": "code",
      "source": [
        "x_train_fashion_reshape /= 255\n",
        "x_test_fashion_reshape  /= 255"
      ],
      "execution_count": 0,
      "outputs": []
    },
    {
      "metadata": {
        "id": "w6lOpZEi1wSZ",
        "colab_type": "text"
      },
      "cell_type": "markdown",
      "source": [
        "### **Reconstructing Test Dataset of the FASHION_MNIST**"
      ]
    },
    {
      "metadata": {
        "id": "siGeJlbwyXEN",
        "colab_type": "code",
        "colab": {
          "base_uri": "https://localhost:8080/",
          "height": 34
        },
        "outputId": "3d9c75d7-9826-42d6-cfd8-e9dee612ccf1"
      },
      "cell_type": "code",
      "source": [
        "reconstructed_fashion_imgs = autoencoder.predict(x_test_fashion_reshape)\n",
        "print \"Shape of reconstructed images = \", reconstructed_fashion_imgs.shape"
      ],
      "execution_count": 20,
      "outputs": [
        {
          "output_type": "stream",
          "text": [
            "Shape of reconstructed images =  (10000, 784)\n"
          ],
          "name": "stdout"
        }
      ]
    },
    {
      "metadata": {
        "id": "RpmvWUis2PhL",
        "colab_type": "text"
      },
      "cell_type": "markdown",
      "source": [
        "### Plotting the first 10 original and reconstructed images"
      ]
    },
    {
      "metadata": {
        "id": "-M8U8U79wlAH",
        "colab_type": "code",
        "colab": {
          "base_uri": "https://localhost:8080/",
          "height": 244
        },
        "outputId": "e627981d-d070-4936-b41c-6c4aeddc5592"
      },
      "cell_type": "code",
      "source": [
        "import matplotlib.pyplot as plt\n",
        "\n",
        "n = 10  # how many digits we will display\n",
        "plt.figure(figsize=(20, 4))\n",
        "for i in range(n):\n",
        "    # display original\n",
        "    ax = plt.subplot(2, n, i + 1)\n",
        "    plt.imshow(x_test_fashion[i].reshape(28, 28))\n",
        "    plt.gray()\n",
        "    ax.get_xaxis().set_visible(False)\n",
        "    ax.get_yaxis().set_visible(False)\n",
        "    \n",
        "    # display reconstruction\n",
        "    ax = plt.subplot(2, n, i + 1 + n)\n",
        "    plt.imshow(reconstructed_fashion_imgs[i].reshape(28, 28))\n",
        "    plt.gray()\n",
        "    ax.get_xaxis().set_visible(False)\n",
        "    ax.get_yaxis().set_visible(False)    \n",
        "plt.show()"
      ],
      "execution_count": 27,
      "outputs": [
        {
          "output_type": "display_data",
          "data": {
            "image/png": "[encoded data removed]",
            "text/plain": [
              "<matplotlib.figure.Figure at 0x7f7a6a534190>"
            ]
          },
          "metadata": {
            "tags": []
          }
        }
      ]
    }
  ]
}