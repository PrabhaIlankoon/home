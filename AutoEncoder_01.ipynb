{
  "nbformat": 4,
  "nbformat_minor": 0,
  "metadata": {
    "colab": {
      "name": "AutoEncoder_01.ipynb",
      "version": "0.3.2",
      "provenance": []
    },
    "kernelspec": {
      "display_name": "Python 2",
      "language": "python",
      "name": "python2"
    },
    "accelerator": "GPU"
  },
  "cells": [
    {
      "cell_type": "markdown",
      "metadata": {
        "id": "view-in-github",
        "colab_type": "text"
      },
      "source": [
        "[View in Colaboratory](https://colab.research.google.com/github/tgi25/home/blob/master/AutoEncoder_01.ipynb)"
      ]
    },
    {
      "metadata": {
        "id": "57-QhNh_dthX",
        "colab_type": "text"
      },
      "cell_type": "markdown",
      "source": [
        "### Loading the MNIST dataset"
      ]
    },
    {
      "metadata": {
        "id": "xGav-JXpdthY",
        "colab_type": "code",
        "colab": {
          "base_uri": "https://localhost:8080/",
          "height": 119
        },
        "outputId": "75f8e45a-8089-47a7-d660-a59b5a0c80a1"
      },
      "cell_type": "code",
      "source": [
        "from keras.datasets import mnist #importing the MNIST dataset\n",
        "(x_train, y_train), (x_test, y_test) = mnist.load_data()\n",
        "print \"x_train shape = \", x_train.shape, \"y_train shape = \", y_train.shape\n",
        "print \"x_test shape = \", x_test.shape, \"y_test shape = \", y_test.shape"
      ],
      "execution_count": 1,
      "outputs": [
        {
          "output_type": "stream",
          "text": [
            "Using TensorFlow backend.\n"
          ],
          "name": "stderr"
        },
        {
          "output_type": "stream",
          "text": [
            "Downloading data from https://s3.amazonaws.com/img-datasets/mnist.npz\n",
            "11493376/11490434 [==============================] - 1s 0us/step\n",
            "11501568/11490434 [==============================] - 1s 0us/step\n",
            "x_train shape =  (60000, 28, 28) y_train shape =  (60000,)\n",
            "x_test shape =  (10000, 28, 28) y_test shape =  (10000,)\n"
          ],
          "name": "stdout"
        }
      ]
    },
    {
      "metadata": {
        "id": "zl9qmtV1dthe",
        "colab_type": "text"
      },
      "cell_type": "markdown",
      "source": [
        "### Casting inputs to float32"
      ]
    },
    {
      "metadata": {
        "id": "76h8A6Lgdthe",
        "colab_type": "code",
        "colab": {}
      },
      "cell_type": "code",
      "source": [
        "x_train = x_train.astype('float32')\n",
        "x_test  = x_test.astype('float32')"
      ],
      "execution_count": 0,
      "outputs": []
    },
    {
      "metadata": {
        "id": "20ePXOiEdthh",
        "colab_type": "text"
      },
      "cell_type": "markdown",
      "source": [
        "### Reshaping inputs"
      ]
    },
    {
      "metadata": {
        "id": "LZxzllQVdthi",
        "colab_type": "code",
        "colab": {
          "base_uri": "https://localhost:8080/",
          "height": 51
        },
        "outputId": "87019a00-566e-4b3b-b47b-62ed08e8571d"
      },
      "cell_type": "code",
      "source": [
        "INPUT_DIM = 784 #28 by 28\n",
        "\n",
        "x_train_reshape = x_train.reshape(60000, INPUT_DIM)\n",
        "x_test_reshape = x_test.reshape(10000, INPUT_DIM)\n",
        "print x_train.shape, \"=>\", x_train_reshape.shape\n",
        "print x_test.shape,  \"=>\", x_test_reshape.shape"
      ],
      "execution_count": 3,
      "outputs": [
        {
          "output_type": "stream",
          "text": [
            "(60000, 28, 28) => (60000, 784)\n",
            "(10000, 28, 28) => (10000, 784)\n"
          ],
          "name": "stdout"
        }
      ]
    },
    {
      "metadata": {
        "id": "AIKUYUVtdthl",
        "colab_type": "text"
      },
      "cell_type": "markdown",
      "source": [
        "### Normalizing the inputs"
      ]
    },
    {
      "metadata": {
        "id": "ss3QxJfPdthm",
        "colab_type": "code",
        "colab": {}
      },
      "cell_type": "code",
      "source": [
        "x_train_reshape /= 255\n",
        "x_test_reshape  /= 255"
      ],
      "execution_count": 0,
      "outputs": []
    },
    {
      "metadata": {
        "id": "pg2_AL6ddtho",
        "colab_type": "text"
      },
      "cell_type": "markdown",
      "source": [
        "### Building the Autoencoder model"
      ]
    },
    {
      "metadata": {
        "id": "o22yphCrdtho",
        "colab_type": "code",
        "colab": {
          "base_uri": "https://localhost:8080/",
          "height": 204
        },
        "outputId": "1f23428b-10b0-440c-fe1b-d8474fc43d13"
      },
      "cell_type": "code",
      "source": [
        "from keras.models import Sequential\n",
        "from keras.layers import Dense, Activation\n",
        "\n",
        "ENCODING_DIM = 32\n",
        "autoencoder = Sequential()\n",
        "autoencoder.add(Dense(ENCODING_DIM, activation='relu', input_shape=(INPUT_DIM,)))\n",
        "autoencoder.add(Dense(INPUT_DIM, activation='sigmoid'))\n",
        "autoencoder.summary()"
      ],
      "execution_count": 5,
      "outputs": [
        {
          "output_type": "stream",
          "text": [
            "_________________________________________________________________\n",
            "Layer (type)                 Output Shape              Param #   \n",
            "=================================================================\n",
            "dense_1 (Dense)              (None, 32)                25120     \n",
            "_________________________________________________________________\n",
            "dense_2 (Dense)              (None, 784)               25872     \n",
            "=================================================================\n",
            "Total params: 50,992\n",
            "Trainable params: 50,992\n",
            "Non-trainable params: 0\n",
            "_________________________________________________________________\n"
          ],
          "name": "stdout"
        }
      ]
    },
    {
      "metadata": {
        "id": "Fe-ksmzEdthr",
        "colab_type": "text"
      },
      "cell_type": "markdown",
      "source": [
        "### Compiling the model"
      ]
    },
    {
      "metadata": {
        "id": "LAopf7Xmdths",
        "colab_type": "code",
        "colab": {}
      },
      "cell_type": "code",
      "source": [
        "autoencoder.compile(optimizer='adadelta', loss='binary_crossentropy', metrics=['accuracy'])"
      ],
      "execution_count": 0,
      "outputs": []
    },
    {
      "metadata": {
        "id": "AM-MKMh_dthu",
        "colab_type": "text"
      },
      "cell_type": "markdown",
      "source": [
        "### Fitting the Autoencoder"
      ]
    },
    {
      "metadata": {
        "id": "hX76c4IBdthw",
        "colab_type": "code",
        "colab": {
          "base_uri": "https://localhost:8080/",
          "height": 3454
        },
        "outputId": "95e16f8f-4869-42bb-e7b4-f899d7fa07da"
      },
      "cell_type": "code",
      "source": [
        "autoencoder_history = autoencoder.fit(x=x_train_reshape, y=x_train_reshape,\n",
        "                                     epochs=100, batch_size=256,\n",
        "                                     shuffle=True,\n",
        "                                     validation_data=(x_test_reshape, x_test_reshape),\n",
        "                                     verbose=1)"
      ],
      "execution_count": 7,
      "outputs": [
        {
          "output_type": "stream",
          "text": [
            "Train on 60000 samples, validate on 10000 samples\n",
            "Epoch 1/100\n",
            "60000/60000 [==============================] - 3s 46us/step - loss: 0.3535 - acc: 0.7561 - val_loss: 0.2695 - val_acc: 0.7948\n",
            "Epoch 2/100\n",
            "60000/60000 [==============================] - 2s 29us/step - loss: 0.2606 - acc: 0.7977 - val_loss: 0.2478 - val_acc: 0.7975\n",
            "Epoch 3/100\n",
            "60000/60000 [==============================] - 2s 29us/step - loss: 0.2373 - acc: 0.7971 - val_loss: 0.2251 - val_acc: 0.7951\n",
            "Epoch 4/100\n",
            "60000/60000 [==============================] - 2s 29us/step - loss: 0.2182 - acc: 0.7972 - val_loss: 0.2089 - val_acc: 0.7974\n",
            "Epoch 5/100\n",
            "60000/60000 [==============================] - 2s 29us/step - loss: 0.2039 - acc: 0.7987 - val_loss: 0.1964 - val_acc: 0.7985\n",
            "Epoch 6/100\n",
            "60000/60000 [==============================] - 2s 29us/step - loss: 0.1934 - acc: 0.7999 - val_loss: 0.1876 - val_acc: 0.8005\n",
            "Epoch 7/100\n",
            " 8192/60000 [===>..........................] - ETA: 1s - loss: 0.1889 - acc: 0.8000"
          ],
          "name": "stdout"
        },
        {
          "output_type": "stream",
          "text": [
            "60000/60000 [==============================] - 2s 29us/step - loss: 0.1853 - acc: 0.8011 - val_loss: 0.1803 - val_acc: 0.8011\n",
            "Epoch 8/100\n",
            "60000/60000 [==============================] - 2s 30us/step - loss: 0.1787 - acc: 0.8022 - val_loss: 0.1743 - val_acc: 0.8026\n",
            "Epoch 9/100\n",
            "60000/60000 [==============================] - 2s 29us/step - loss: 0.1730 - acc: 0.8032 - val_loss: 0.1692 - val_acc: 0.8035\n",
            "Epoch 10/100\n",
            "60000/60000 [==============================] - 2s 29us/step - loss: 0.1680 - acc: 0.8041 - val_loss: 0.1643 - val_acc: 0.8039\n",
            "Epoch 11/100\n",
            "60000/60000 [==============================] - 2s 29us/step - loss: 0.1635 - acc: 0.8048 - val_loss: 0.1601 - val_acc: 0.8049\n",
            "Epoch 12/100\n",
            "60000/60000 [==============================] - 2s 29us/step - loss: 0.1594 - acc: 0.8056 - val_loss: 0.1561 - val_acc: 0.8054\n",
            "Epoch 13/100\n",
            "30208/60000 [==============>...............] - ETA: 0s - loss: 0.1563 - acc: 0.8058"
          ],
          "name": "stdout"
        },
        {
          "output_type": "stream",
          "text": [
            "60000/60000 [==============================] - 2s 30us/step - loss: 0.1556 - acc: 0.8062 - val_loss: 0.1524 - val_acc: 0.8060\n",
            "Epoch 14/100\n",
            "60000/60000 [==============================] - 2s 28us/step - loss: 0.1519 - acc: 0.8068 - val_loss: 0.1488 - val_acc: 0.8065\n",
            "Epoch 15/100\n",
            "60000/60000 [==============================] - 2s 29us/step - loss: 0.1486 - acc: 0.8074 - val_loss: 0.1455 - val_acc: 0.8068\n",
            "Epoch 16/100\n",
            "60000/60000 [==============================] - 2s 29us/step - loss: 0.1454 - acc: 0.8079 - val_loss: 0.1424 - val_acc: 0.8074\n",
            "Epoch 17/100\n",
            "60000/60000 [==============================] - 2s 28us/step - loss: 0.1424 - acc: 0.8084 - val_loss: 0.1395 - val_acc: 0.8080\n",
            "Epoch 18/100\n",
            "60000/60000 [==============================] - 2s 28us/step - loss: 0.1396 - acc: 0.8089 - val_loss: 0.1367 - val_acc: 0.8082\n",
            "Epoch 19/100\n",
            "38656/60000 [==================>...........] - ETA: 0s - loss: 0.1376 - acc: 0.8091"
          ],
          "name": "stdout"
        },
        {
          "output_type": "stream",
          "text": [
            "60000/60000 [==============================] - 2s 28us/step - loss: 0.1369 - acc: 0.8093 - val_loss: 0.1341 - val_acc: 0.8087\n",
            "Epoch 20/100\n",
            "60000/60000 [==============================] - 2s 29us/step - loss: 0.1344 - acc: 0.8097 - val_loss: 0.1316 - val_acc: 0.8090\n",
            "Epoch 21/100\n",
            "60000/60000 [==============================] - 2s 28us/step - loss: 0.1320 - acc: 0.8100 - val_loss: 0.1293 - val_acc: 0.8094\n",
            "Epoch 22/100\n",
            "60000/60000 [==============================] - 2s 29us/step - loss: 0.1298 - acc: 0.8104 - val_loss: 0.1271 - val_acc: 0.8098\n",
            "Epoch 23/100\n",
            "60000/60000 [==============================] - 2s 29us/step - loss: 0.1276 - acc: 0.8107 - val_loss: 0.1250 - val_acc: 0.8101\n",
            "Epoch 24/100\n",
            "60000/60000 [==============================] - 2s 29us/step - loss: 0.1256 - acc: 0.8110 - val_loss: 0.1231 - val_acc: 0.8104\n",
            "Epoch 25/100\n",
            "38144/60000 [==================>...........] - ETA: 0s - loss: 0.1238 - acc: 0.8115"
          ],
          "name": "stdout"
        },
        {
          "output_type": "stream",
          "text": [
            "60000/60000 [==============================] - 2s 28us/step - loss: 0.1237 - acc: 0.8113 - val_loss: 0.1211 - val_acc: 0.8106\n",
            "Epoch 26/100\n",
            "60000/60000 [==============================] - 2s 29us/step - loss: 0.1219 - acc: 0.8115 - val_loss: 0.1194 - val_acc: 0.8108\n",
            "Epoch 27/100\n",
            "60000/60000 [==============================] - 2s 28us/step - loss: 0.1202 - acc: 0.8117 - val_loss: 0.1178 - val_acc: 0.8110\n",
            "Epoch 28/100\n",
            "60000/60000 [==============================] - 2s 28us/step - loss: 0.1186 - acc: 0.8119 - val_loss: 0.1163 - val_acc: 0.8112\n",
            "Epoch 29/100\n",
            "60000/60000 [==============================] - 2s 28us/step - loss: 0.1172 - acc: 0.8121 - val_loss: 0.1149 - val_acc: 0.8113\n",
            "Epoch 30/100\n",
            "60000/60000 [==============================] - 2s 27us/step - loss: 0.1159 - acc: 0.8123 - val_loss: 0.1136 - val_acc: 0.8115\n",
            "Epoch 31/100\n",
            "45312/60000 [=====================>........] - ETA: 0s - loss: 0.1150 - acc: 0.8121"
          ],
          "name": "stdout"
        },
        {
          "output_type": "stream",
          "text": [
            "60000/60000 [==============================] - 2s 27us/step - loss: 0.1147 - acc: 0.8124 - val_loss: 0.1125 - val_acc: 0.8116\n",
            "Epoch 32/100\n",
            "60000/60000 [==============================] - 2s 27us/step - loss: 0.1136 - acc: 0.8125 - val_loss: 0.1114 - val_acc: 0.8118\n",
            "Epoch 33/100\n",
            "60000/60000 [==============================] - 2s 27us/step - loss: 0.1126 - acc: 0.8126 - val_loss: 0.1105 - val_acc: 0.8119\n",
            "Epoch 34/100\n",
            "60000/60000 [==============================] - 2s 28us/step - loss: 0.1116 - acc: 0.8127 - val_loss: 0.1096 - val_acc: 0.8119\n",
            "Epoch 35/100\n",
            "60000/60000 [==============================] - 2s 27us/step - loss: 0.1107 - acc: 0.8128 - val_loss: 0.1087 - val_acc: 0.8120\n",
            "Epoch 36/100\n",
            "60000/60000 [==============================] - 2s 28us/step - loss: 0.1100 - acc: 0.8129 - val_loss: 0.1079 - val_acc: 0.8121\n",
            "Epoch 37/100\n",
            "45056/60000 [=====================>........] - ETA: 0s - loss: 0.1093 - acc: 0.8129"
          ],
          "name": "stdout"
        },
        {
          "output_type": "stream",
          "text": [
            "60000/60000 [==============================] - 2s 28us/step - loss: 0.1092 - acc: 0.8130 - val_loss: 0.1072 - val_acc: 0.8121\n",
            "Epoch 38/100\n",
            "60000/60000 [==============================] - 2s 28us/step - loss: 0.1085 - acc: 0.8130 - val_loss: 0.1066 - val_acc: 0.8122\n",
            "Epoch 39/100\n",
            "60000/60000 [==============================] - 2s 28us/step - loss: 0.1079 - acc: 0.8131 - val_loss: 0.1060 - val_acc: 0.8123\n",
            "Epoch 40/100\n",
            "60000/60000 [==============================] - 2s 28us/step - loss: 0.1073 - acc: 0.8131 - val_loss: 0.1054 - val_acc: 0.8123\n",
            "Epoch 41/100\n",
            "60000/60000 [==============================] - 2s 27us/step - loss: 0.1067 - acc: 0.8132 - val_loss: 0.1048 - val_acc: 0.8123\n",
            "Epoch 42/100\n",
            "60000/60000 [==============================] - 2s 28us/step - loss: 0.1062 - acc: 0.8132 - val_loss: 0.1043 - val_acc: 0.8124\n",
            "Epoch 43/100\n",
            "43264/60000 [====================>.........] - ETA: 0s - loss: 0.1056 - acc: 0.8133"
          ],
          "name": "stdout"
        },
        {
          "output_type": "stream",
          "text": [
            "60000/60000 [==============================] - 2s 28us/step - loss: 0.1056 - acc: 0.8133 - val_loss: 0.1038 - val_acc: 0.8125\n",
            "Epoch 44/100\n",
            "60000/60000 [==============================] - 2s 27us/step - loss: 0.1052 - acc: 0.8133 - val_loss: 0.1033 - val_acc: 0.8125\n",
            "Epoch 45/100\n",
            "60000/60000 [==============================] - 2s 28us/step - loss: 0.1047 - acc: 0.8134 - val_loss: 0.1029 - val_acc: 0.8125\n",
            "Epoch 46/100\n",
            "60000/60000 [==============================] - 2s 28us/step - loss: 0.1043 - acc: 0.8134 - val_loss: 0.1025 - val_acc: 0.8126\n",
            "Epoch 47/100\n",
            "60000/60000 [==============================] - 2s 28us/step - loss: 0.1038 - acc: 0.8134 - val_loss: 0.1021 - val_acc: 0.8126\n",
            "Epoch 48/100\n",
            "60000/60000 [==============================] - 2s 28us/step - loss: 0.1034 - acc: 0.8135 - val_loss: 0.1017 - val_acc: 0.8126\n",
            "Epoch 49/100\n",
            "42752/60000 [====================>.........] - ETA: 0s - loss: 0.1031 - acc: 0.8134"
          ],
          "name": "stdout"
        },
        {
          "output_type": "stream",
          "text": [
            "60000/60000 [==============================] - 2s 28us/step - loss: 0.1031 - acc: 0.8135 - val_loss: 0.1013 - val_acc: 0.8126\n",
            "Epoch 50/100\n",
            "60000/60000 [==============================] - 2s 28us/step - loss: 0.1027 - acc: 0.8135 - val_loss: 0.1009 - val_acc: 0.8127\n",
            "Epoch 51/100\n",
            "60000/60000 [==============================] - 2s 28us/step - loss: 0.1023 - acc: 0.8136 - val_loss: 0.1006 - val_acc: 0.8127\n",
            "Epoch 52/100\n",
            "60000/60000 [==============================] - 2s 28us/step - loss: 0.1020 - acc: 0.8136 - val_loss: 0.1003 - val_acc: 0.8127\n",
            "Epoch 53/100\n",
            "60000/60000 [==============================] - 2s 28us/step - loss: 0.1017 - acc: 0.8136 - val_loss: 0.1000 - val_acc: 0.8127\n",
            "Epoch 54/100\n",
            "60000/60000 [==============================] - 2s 28us/step - loss: 0.1014 - acc: 0.8136 - val_loss: 0.0997 - val_acc: 0.8127\n",
            "Epoch 55/100\n",
            "45568/60000 [=====================>........] - ETA: 0s - loss: 0.1011 - acc: 0.8137"
          ],
          "name": "stdout"
        },
        {
          "output_type": "stream",
          "text": [
            "60000/60000 [==============================] - 2s 28us/step - loss: 0.1011 - acc: 0.8137 - val_loss: 0.0994 - val_acc: 0.8128\n",
            "Epoch 56/100\n",
            "60000/60000 [==============================] - 2s 28us/step - loss: 0.1008 - acc: 0.8137 - val_loss: 0.0992 - val_acc: 0.8128\n",
            "Epoch 57/100\n",
            "60000/60000 [==============================] - 2s 27us/step - loss: 0.1006 - acc: 0.8137 - val_loss: 0.0989 - val_acc: 0.8128\n",
            "Epoch 58/100\n",
            "60000/60000 [==============================] - 2s 28us/step - loss: 0.1003 - acc: 0.8137 - val_loss: 0.0987 - val_acc: 0.8129\n",
            "Epoch 59/100\n",
            "60000/60000 [==============================] - 2s 27us/step - loss: 0.1001 - acc: 0.8137 - val_loss: 0.0984 - val_acc: 0.8129\n",
            "Epoch 60/100\n",
            "60000/60000 [==============================] - 2s 28us/step - loss: 0.0998 - acc: 0.8138 - val_loss: 0.0982 - val_acc: 0.8129\n",
            "Epoch 61/100\n",
            "44800/60000 [=====================>........] - ETA: 0s - loss: 0.0997 - acc: 0.8136"
          ],
          "name": "stdout"
        },
        {
          "output_type": "stream",
          "text": [
            "60000/60000 [==============================] - 2s 28us/step - loss: 0.0996 - acc: 0.8138 - val_loss: 0.0980 - val_acc: 0.8129\n",
            "Epoch 62/100\n",
            "60000/60000 [==============================] - 2s 28us/step - loss: 0.0994 - acc: 0.8138 - val_loss: 0.0978 - val_acc: 0.8129\n",
            "Epoch 63/100\n",
            "60000/60000 [==============================] - 2s 28us/step - loss: 0.0992 - acc: 0.8138 - val_loss: 0.0976 - val_acc: 0.8129\n",
            "Epoch 64/100\n",
            "60000/60000 [==============================] - 2s 28us/step - loss: 0.0990 - acc: 0.8138 - val_loss: 0.0974 - val_acc: 0.8129\n",
            "Epoch 65/100\n",
            "60000/60000 [==============================] - 2s 28us/step - loss: 0.0989 - acc: 0.8138 - val_loss: 0.0973 - val_acc: 0.8130\n",
            "Epoch 66/100\n",
            "60000/60000 [==============================] - 2s 28us/step - loss: 0.0987 - acc: 0.8138 - val_loss: 0.0972 - val_acc: 0.8129\n",
            "Epoch 67/100\n",
            "45568/60000 [=====================>........] - ETA: 0s - loss: 0.0985 - acc: 0.8141"
          ],
          "name": "stdout"
        },
        {
          "output_type": "stream",
          "text": [
            "60000/60000 [==============================] - 2s 27us/step - loss: 0.0985 - acc: 0.8139 - val_loss: 0.0970 - val_acc: 0.8130\n",
            "Epoch 68/100\n",
            "60000/60000 [==============================] - 2s 28us/step - loss: 0.0984 - acc: 0.8139 - val_loss: 0.0968 - val_acc: 0.8130\n",
            "Epoch 69/100\n",
            "60000/60000 [==============================] - 2s 28us/step - loss: 0.0983 - acc: 0.8139 - val_loss: 0.0967 - val_acc: 0.8130\n",
            "Epoch 70/100\n",
            "60000/60000 [==============================] - 2s 28us/step - loss: 0.0981 - acc: 0.8139 - val_loss: 0.0966 - val_acc: 0.8130\n",
            "Epoch 71/100\n",
            "60000/60000 [==============================] - 2s 28us/step - loss: 0.0980 - acc: 0.8139 - val_loss: 0.0965 - val_acc: 0.8130\n",
            "Epoch 72/100\n",
            "60000/60000 [==============================] - 2s 28us/step - loss: 0.0979 - acc: 0.8139 - val_loss: 0.0964 - val_acc: 0.8130\n",
            "Epoch 73/100\n",
            "45056/60000 [=====================>........] - ETA: 0s - loss: 0.0977 - acc: 0.8139"
          ],
          "name": "stdout"
        },
        {
          "output_type": "stream",
          "text": [
            "60000/60000 [==============================] - 2s 28us/step - loss: 0.0977 - acc: 0.8139 - val_loss: 0.0962 - val_acc: 0.8130\n",
            "Epoch 74/100\n",
            "60000/60000 [==============================] - 2s 28us/step - loss: 0.0976 - acc: 0.8139 - val_loss: 0.0961 - val_acc: 0.8130\n",
            "Epoch 75/100\n",
            "60000/60000 [==============================] - 2s 28us/step - loss: 0.0975 - acc: 0.8139 - val_loss: 0.0960 - val_acc: 0.8130\n",
            "Epoch 76/100\n",
            "60000/60000 [==============================] - 2s 28us/step - loss: 0.0974 - acc: 0.8139 - val_loss: 0.0959 - val_acc: 0.8131\n",
            "Epoch 77/100\n",
            "60000/60000 [==============================] - 2s 28us/step - loss: 0.0973 - acc: 0.8139 - val_loss: 0.0958 - val_acc: 0.8131\n",
            "Epoch 78/100\n",
            "60000/60000 [==============================] - 2s 28us/step - loss: 0.0972 - acc: 0.8140 - val_loss: 0.0957 - val_acc: 0.8130\n",
            "Epoch 79/100\n",
            "42752/60000 [====================>.........] - ETA: 0s - loss: 0.0972 - acc: 0.8139"
          ],
          "name": "stdout"
        },
        {
          "output_type": "stream",
          "text": [
            "60000/60000 [==============================] - 2s 28us/step - loss: 0.0971 - acc: 0.8140 - val_loss: 0.0956 - val_acc: 0.8131\n",
            "Epoch 80/100\n",
            "60000/60000 [==============================] - 2s 28us/step - loss: 0.0970 - acc: 0.8140 - val_loss: 0.0956 - val_acc: 0.8131\n",
            "Epoch 81/100\n",
            "60000/60000 [==============================] - 2s 28us/step - loss: 0.0970 - acc: 0.8140 - val_loss: 0.0955 - val_acc: 0.8131\n",
            "Epoch 82/100\n",
            "60000/60000 [==============================] - 2s 28us/step - loss: 0.0969 - acc: 0.8140 - val_loss: 0.0954 - val_acc: 0.8131\n",
            "Epoch 83/100\n",
            "60000/60000 [==============================] - 2s 28us/step - loss: 0.0968 - acc: 0.8140 - val_loss: 0.0953 - val_acc: 0.8131\n",
            "Epoch 84/100\n",
            "60000/60000 [==============================] - 2s 28us/step - loss: 0.0967 - acc: 0.8140 - val_loss: 0.0952 - val_acc: 0.8131\n",
            "Epoch 85/100\n",
            "42752/60000 [====================>.........] - ETA: 0s - loss: 0.0967 - acc: 0.8140"
          ],
          "name": "stdout"
        },
        {
          "output_type": "stream",
          "text": [
            "60000/60000 [==============================] - 2s 28us/step - loss: 0.0966 - acc: 0.8140 - val_loss: 0.0952 - val_acc: 0.8131\n",
            "Epoch 86/100\n",
            "60000/60000 [==============================] - 2s 28us/step - loss: 0.0966 - acc: 0.8140 - val_loss: 0.0951 - val_acc: 0.8131\n",
            "Epoch 87/100\n",
            "60000/60000 [==============================] - 2s 28us/step - loss: 0.0965 - acc: 0.8140 - val_loss: 0.0950 - val_acc: 0.8131\n",
            "Epoch 88/100\n",
            "60000/60000 [==============================] - 2s 28us/step - loss: 0.0964 - acc: 0.8140 - val_loss: 0.0950 - val_acc: 0.8131\n",
            "Epoch 89/100\n",
            "60000/60000 [==============================] - 2s 28us/step - loss: 0.0964 - acc: 0.8140 - val_loss: 0.0949 - val_acc: 0.8131\n",
            "Epoch 90/100\n",
            "60000/60000 [==============================] - 2s 28us/step - loss: 0.0963 - acc: 0.8140 - val_loss: 0.0948 - val_acc: 0.8131\n",
            "Epoch 91/100\n",
            "43264/60000 [====================>.........] - ETA: 0s - loss: 0.0962 - acc: 0.8139"
          ],
          "name": "stdout"
        },
        {
          "output_type": "stream",
          "text": [
            "60000/60000 [==============================] - 2s 28us/step - loss: 0.0962 - acc: 0.8140 - val_loss: 0.0948 - val_acc: 0.8131\n",
            "Epoch 92/100\n",
            "60000/60000 [==============================] - 2s 28us/step - loss: 0.0962 - acc: 0.8140 - val_loss: 0.0947 - val_acc: 0.8131\n",
            "Epoch 93/100\n",
            "60000/60000 [==============================] - 2s 28us/step - loss: 0.0961 - acc: 0.8140 - val_loss: 0.0947 - val_acc: 0.8131\n",
            "Epoch 94/100\n",
            "60000/60000 [==============================] - 2s 28us/step - loss: 0.0961 - acc: 0.8140 - val_loss: 0.0946 - val_acc: 0.8132\n",
            "Epoch 95/100\n",
            "60000/60000 [==============================] - 2s 28us/step - loss: 0.0960 - acc: 0.8140 - val_loss: 0.0946 - val_acc: 0.8131\n",
            "Epoch 96/100\n",
            "60000/60000 [==============================] - 2s 28us/step - loss: 0.0959 - acc: 0.8140 - val_loss: 0.0945 - val_acc: 0.8132\n",
            "Epoch 97/100\n",
            "43008/60000 [====================>.........] - ETA: 0s - loss: 0.0959 - acc: 0.8138"
          ],
          "name": "stdout"
        },
        {
          "output_type": "stream",
          "text": [
            "60000/60000 [==============================] - 2s 28us/step - loss: 0.0959 - acc: 0.8140 - val_loss: 0.0945 - val_acc: 0.8131\n",
            "Epoch 98/100\n",
            "60000/60000 [==============================] - 2s 28us/step - loss: 0.0958 - acc: 0.8140 - val_loss: 0.0944 - val_acc: 0.8132\n",
            "Epoch 99/100\n",
            "60000/60000 [==============================] - 2s 28us/step - loss: 0.0958 - acc: 0.8141 - val_loss: 0.0943 - val_acc: 0.8132\n",
            "Epoch 100/100\n",
            "60000/60000 [==============================] - 2s 27us/step - loss: 0.0957 - acc: 0.8141 - val_loss: 0.0943 - val_acc: 0.8132\n"
          ],
          "name": "stdout"
        }
      ]
    },
    {
      "metadata": {
        "id": "-eOAeJJLdth1",
        "colab_type": "text"
      },
      "cell_type": "markdown",
      "source": [
        "### Plotting the model performances"
      ]
    },
    {
      "metadata": {
        "id": "J6AOXojQdth1",
        "colab_type": "code",
        "colab": {
          "base_uri": "https://localhost:8080/",
          "height": 541
        },
        "outputId": "dd7d1859-1d0d-434b-f72d-b709ca0b2105"
      },
      "cell_type": "code",
      "source": [
        "import matplotlib.pyplot as plt\n",
        "%matplotlib inline\n",
        "\n",
        "def plot_history(network_history):\n",
        "    plt.figure()\n",
        "    plt.xlabel('Epochs')\n",
        "    plt.ylabel('Loss')\n",
        "    plt.plot(network_history.history['loss'])\n",
        "    plt.plot(network_history.history['val_loss'])\n",
        "    plt.legend(['Training', 'Validation'])\n",
        "\n",
        "    plt.figure()\n",
        "    plt.xlabel('Epochs')\n",
        "    plt.ylabel('Accuracy')\n",
        "    plt.plot(network_history.history['acc'])\n",
        "    plt.plot(network_history.history['val_acc'])\n",
        "    plt.legend(['Training', 'Validation'], loc='lower right')\n",
        "    plt.show()\n",
        "\n",
        "plot_history(autoencoder_history)# use Matplotlib (don't ask)"
      ],
      "execution_count": 8,
      "outputs": [
        {
          "output_type": "display_data",
          "data": {
            "image/png": "[encoded data removed]",
            "text/plain": [
              "<matplotlib.figure.Figure at 0x7faa66cf7ed0>"
            ]
          },
          "metadata": {
            "tags": []
          }
        },
        {
          "output_type": "display_data",
          "data": {
            "image/png": "[encoded data removed]",
            "text/plain": [
              "<matplotlib.figure.Figure at 0x7faa62936f10>"
            ]
          },
          "metadata": {
            "tags": []
          }
        }
      ]
    },
    {
      "metadata": {
        "id": "LIYXglsIdth5",
        "colab_type": "text"
      },
      "cell_type": "markdown",
      "source": [
        "### Reconstructing the test images"
      ]
    },
    {
      "metadata": {
        "id": "8UsjwLgQdth7",
        "colab_type": "code",
        "colab": {
          "base_uri": "https://localhost:8080/",
          "height": 34
        },
        "outputId": "7457463f-08bc-462b-e590-475f68b064b5"
      },
      "cell_type": "code",
      "source": [
        "reconstructed_imgs = autoencoder.predict(x_test_reshape)\n",
        "print \"Shape of reconstructed images = \", reconstructed_imgs.shape"
      ],
      "execution_count": 9,
      "outputs": [
        {
          "output_type": "stream",
          "text": [
            "Shape of reconstructed images =  (10000, 784)\n"
          ],
          "name": "stdout"
        }
      ]
    },
    {
      "metadata": {
        "id": "-TgkSjhwdth_",
        "colab_type": "code",
        "colab": {
          "base_uri": "https://localhost:8080/",
          "height": 244
        },
        "outputId": "e5c9d8a9-798d-4bfc-9498-a7d405c4f640"
      },
      "cell_type": "code",
      "source": [
        "import matplotlib.pyplot as plt\n",
        "\n",
        "n = 10  # how many digits we will display\n",
        "plt.figure(figsize=(20, 4))\n",
        "for i in range(n):\n",
        "    # display original\n",
        "    ax = plt.subplot(2, n, i + 1)\n",
        "    plt.imshow(x_test[i].reshape(28, 28))\n",
        "    plt.gray()\n",
        "    ax.get_xaxis().set_visible(False)\n",
        "    ax.get_yaxis().set_visible(False)\n",
        "\n",
        "    # display reconstruction\n",
        "    ax = plt.subplot(2, n, i + 1 + n)\n",
        "    plt.imshow(reconstructed_imgs[i].reshape(28, 28))\n",
        "    plt.gray()\n",
        "    ax.get_xaxis().set_visible(False)\n",
        "    ax.get_yaxis().set_visible(False)\n",
        "plt.show()"
      ],
      "execution_count": 10,
      "outputs": [
        {
          "output_type": "display_data",
          "data": {
            "image/png": "[encoded data removed]",
            "text/plain": [
              "<matplotlib.figure.Figure at 0x7faa628ad5d0>"
            ]
          },
          "metadata": {
            "tags": []
          }
        }
      ]
    }
  ]
}