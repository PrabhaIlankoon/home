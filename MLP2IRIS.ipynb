{
  "nbformat": 4,
  "nbformat_minor": 0,
  "metadata": {
    "colab": {
      "name": "MLP2IRIS.ipynb",
      "version": "0.3.2",
      "provenance": [],
      "collapsed_sections": []
    },
    "kernelspec": {
      "name": "python2",
      "display_name": "Python 2"
    }
  },
  "cells": [
    {
      "cell_type": "markdown",
      "metadata": {
        "id": "OxKlXxLuIJxQ",
        "colab_type": "text"
      },
      "source": [
        "# MLP to IRIS Dataset\n"
      ]
    },
    {
      "cell_type": "markdown",
      "metadata": {
        "id": "Z5ZqK9LXIgWJ",
        "colab_type": "text"
      },
      "source": [
        "## Loading the IRIS Dataset\n"
      ]
    },
    {
      "cell_type": "code",
      "metadata": {
        "id": "EEH4LLTF3oTT",
        "colab_type": "code",
        "colab": {}
      },
      "source": [
        "from sklearn.datasets import load_iris"
      ],
      "execution_count": 0,
      "outputs": []
    },
    {
      "cell_type": "code",
      "metadata": {
        "id": "rTLVFqey4FWW",
        "colab_type": "code",
        "colab": {}
      },
      "source": [
        "iris = load_iris()"
      ],
      "execution_count": 0,
      "outputs": []
    },
    {
      "cell_type": "code",
      "metadata": {
        "id": "6W5Ys83bS3Pz",
        "colab_type": "code",
        "outputId": "c5a1ea50-d8f2-478e-efff-9c12a823ea1e",
        "colab": {
          "base_uri": "https://localhost:8080/",
          "height": 54
        }
      },
      "source": [
        "print \"Feature names = \", iris.feature_names\n",
        "print \"Target names  = \", iris.target_names"
      ],
      "execution_count": 3,
      "outputs": [
        {
          "output_type": "stream",
          "text": [
            "Feature names =  ['sepal length (cm)', 'sepal width (cm)', 'petal length (cm)', 'petal width (cm)']\n",
            "Target names  =  ['setosa' 'versicolor' 'virginica']\n"
          ],
          "name": "stdout"
        }
      ]
    },
    {
      "cell_type": "code",
      "metadata": {
        "id": "TePzJWd74I1j",
        "colab_type": "code",
        "colab": {}
      },
      "source": [
        "X = iris.data\n",
        "y = iris.target"
      ],
      "execution_count": 0,
      "outputs": []
    },
    {
      "cell_type": "code",
      "metadata": {
        "id": "ZdTTKnXk9g9F",
        "colab_type": "code",
        "outputId": "5e81abc0-19c8-4c8e-8ec3-af4af1ea7084",
        "colab": {
          "base_uri": "https://localhost:8080/",
          "height": 54
        }
      },
      "source": [
        "print \"size(X) = \", X.shape\n",
        "print \"size(y) = \", y.shape"
      ],
      "execution_count": 5,
      "outputs": [
        {
          "output_type": "stream",
          "text": [
            "size(X) =  (150, 4)\n",
            "size(y) =  (150,)\n"
          ],
          "name": "stdout"
        }
      ]
    },
    {
      "cell_type": "markdown",
      "metadata": {
        "id": "Nbw-JFqcQqxJ",
        "colab_type": "text"
      },
      "source": [
        "###Converting y values to one-hot representation"
      ]
    },
    {
      "cell_type": "code",
      "metadata": {
        "id": "qER_MUmgKgow",
        "colab_type": "code",
        "outputId": "5c6160d4-1536-4fff-ad28-11a5a94f4d0a",
        "colab": {
          "base_uri": "https://localhost:8080/",
          "height": 72
        }
      },
      "source": [
        "from keras.utils import np_utils\n",
        "\n",
        "NB_CLASSES = 3\n",
        "y_one_hot = np_utils.to_categorical(y, NB_CLASSES)\n",
        "print \"Size(X) = \", X.shape\n",
        "print \"Size(y_one_hot) = \", y_one_hot.shape"
      ],
      "execution_count": 6,
      "outputs": [
        {
          "output_type": "stream",
          "text": [
            "Using TensorFlow backend.\n"
          ],
          "name": "stderr"
        },
        {
          "output_type": "stream",
          "text": [
            "Size(X) =  (150, 4)\n",
            "Size(y_one_hot) =  (150, 3)\n"
          ],
          "name": "stdout"
        }
      ]
    },
    {
      "cell_type": "markdown",
      "metadata": {
        "id": "LEhH2PFSI8QV",
        "colab_type": "text"
      },
      "source": [
        "###Spliting the Dataset to Train and Test Datasets"
      ]
    },
    {
      "cell_type": "code",
      "metadata": {
        "id": "pZa_TvWq93CW",
        "colab_type": "code",
        "outputId": "a1fd0ae0-1c0e-4d5b-a812-4ab03f8394aa",
        "colab": {
          "base_uri": "https://localhost:8080/",
          "height": 90
        }
      },
      "source": [
        "from sklearn.model_selection import train_test_split\n",
        "X_train, X_test, y_train_one_hot, y_test_one_hot = train_test_split(X, y_one_hot, test_size=0.2)\n",
        "print \"Size(X_train) = \", X_train.shape\n",
        "print \"Size(y_train_one_hot) = \", y_train_one_hot.shape\n",
        "print \"Size(X_test) = \", X_test.shape\n",
        "print \"Size(y_test_one_hot) = \", y_test_one_hot.shape"
      ],
      "execution_count": 7,
      "outputs": [
        {
          "output_type": "stream",
          "text": [
            "Size(X_train) =  (120, 4)\n",
            "Size(y_train_one_hot) =  (120, 3)\n",
            "Size(X_test) =  (30, 4)\n",
            "Size(y_test_one_hot) =  (30, 3)\n"
          ],
          "name": "stdout"
        }
      ]
    },
    {
      "cell_type": "markdown",
      "metadata": {
        "id": "jJ62gZHZ4EP6",
        "colab_type": "text"
      },
      "source": [
        "###Scaling the training dataset and the test dataset using the MinMaxScaler"
      ]
    },
    {
      "cell_type": "code",
      "metadata": {
        "id": "nM21l8rh0SDG",
        "colab_type": "code",
        "colab": {}
      },
      "source": [
        "from sklearn import preprocessing\n",
        "scaler = preprocessing.MinMaxScaler()\n",
        "X_train_scaled = scaler.fit_transform(X_train)\n",
        "X_test_scaled = scaler.transform(X_test)"
      ],
      "execution_count": 0,
      "outputs": []
    },
    {
      "cell_type": "code",
      "metadata": {
        "id": "VsQxLSXv6nau",
        "colab_type": "code",
        "colab": {
          "base_uri": "https://localhost:8080/",
          "height": 54
        },
        "outputId": "9c7a5368-ef69-4c6a-f20c-3a7e7f23ead1"
      },
      "source": [
        "print X_train[0], \"=>\", X_train_scaled[0]\n",
        "print X_test[0], \"=>\", X_test_scaled[0]"
      ],
      "execution_count": 9,
      "outputs": [
        {
          "output_type": "stream",
          "text": [
            "[6.  2.2 4.  1. ] => [0.47222222 0.08333333 0.50847458 0.375     ]\n",
            "[4.7 3.2 1.6 0.2] => [0.11111111 0.5        0.10169492 0.04166667]\n"
          ],
          "name": "stdout"
        }
      ]
    },
    {
      "cell_type": "markdown",
      "metadata": {
        "id": "0SJK03wGUl99",
        "colab_type": "text"
      },
      "source": [
        "##Building an MLP model"
      ]
    },
    {
      "cell_type": "markdown",
      "metadata": {
        "id": "h0i51seGt3ad",
        "colab_type": "text"
      },
      "source": [
        "###Creating the model architecture"
      ]
    },
    {
      "cell_type": "code",
      "metadata": {
        "id": "V9O1ULJwQ533",
        "colab_type": "code",
        "outputId": "3a2bfe2c-19ee-42c1-a39f-93342cb5601d",
        "colab": {
          "base_uri": "https://localhost:8080/",
          "height": 368
        }
      },
      "source": [
        "from keras.models import Sequential\n",
        "from keras.layers import Dense, Activation\n",
        "\n",
        "model = Sequential()\n",
        "model.add(Dense(10, activation='relu', input_shape=(4,)))\n",
        "#model.add(Dense(5, activation='relu'))\n",
        "model.add(Dense(3, activation='softmax'))\n",
        "model.summary()"
      ],
      "execution_count": 10,
      "outputs": [
        {
          "output_type": "stream",
          "text": [
            "WARNING: Logging before flag parsing goes to stderr.\n",
            "W0709 13:43:23.985137 140604920362880 deprecation_wrapper.py:119] From /usr/local/lib/python2.7/dist-packages/keras/backend/tensorflow_backend.py:74: The name tf.get_default_graph is deprecated. Please use tf.compat.v1.get_default_graph instead.\n",
            "\n",
            "W0709 13:43:24.005913 140604920362880 deprecation_wrapper.py:119] From /usr/local/lib/python2.7/dist-packages/keras/backend/tensorflow_backend.py:517: The name tf.placeholder is deprecated. Please use tf.compat.v1.placeholder instead.\n",
            "\n",
            "W0709 13:43:24.009668 140604920362880 deprecation_wrapper.py:119] From /usr/local/lib/python2.7/dist-packages/keras/backend/tensorflow_backend.py:4138: The name tf.random_uniform is deprecated. Please use tf.random.uniform instead.\n",
            "\n"
          ],
          "name": "stderr"
        },
        {
          "output_type": "stream",
          "text": [
            "_________________________________________________________________\n",
            "Layer (type)                 Output Shape              Param #   \n",
            "=================================================================\n",
            "dense_1 (Dense)              (None, 10)                50        \n",
            "_________________________________________________________________\n",
            "dense_2 (Dense)              (None, 3)                 33        \n",
            "=================================================================\n",
            "Total params: 83\n",
            "Trainable params: 83\n",
            "Non-trainable params: 0\n",
            "_________________________________________________________________\n"
          ],
          "name": "stdout"
        }
      ]
    },
    {
      "cell_type": "markdown",
      "metadata": {
        "id": "AmuuT_nEtxAR",
        "colab_type": "text"
      },
      "source": [
        "###Compiling the model"
      ]
    },
    {
      "cell_type": "code",
      "metadata": {
        "id": "6XnDtrO2uFFZ",
        "colab_type": "code",
        "colab": {
          "base_uri": "https://localhost:8080/",
          "height": 110
        },
        "outputId": "4ab71dcd-91cf-464c-93c8-b37ca56f625f"
      },
      "source": [
        "from keras.optimizers import SGD\n",
        "\n",
        "OPTIMIZER = SGD(lr=0.1)\n",
        "model.compile(optimizer=OPTIMIZER, loss='categorical_crossentropy', metrics=['accuracy'])"
      ],
      "execution_count": 11,
      "outputs": [
        {
          "output_type": "stream",
          "text": [
            "W0709 13:43:24.072609 140604920362880 deprecation_wrapper.py:119] From /usr/local/lib/python2.7/dist-packages/keras/optimizers.py:790: The name tf.train.Optimizer is deprecated. Please use tf.compat.v1.train.Optimizer instead.\n",
            "\n",
            "W0709 13:43:24.082535 140604920362880 deprecation_wrapper.py:119] From /usr/local/lib/python2.7/dist-packages/keras/backend/tensorflow_backend.py:3295: The name tf.log is deprecated. Please use tf.math.log instead.\n",
            "\n"
          ],
          "name": "stderr"
        }
      ]
    },
    {
      "cell_type": "markdown",
      "metadata": {
        "id": "oSrUYVDXufo5",
        "colab_type": "text"
      },
      "source": [
        "###Fitting the model"
      ]
    },
    {
      "cell_type": "code",
      "metadata": {
        "id": "FqAUWLOHudnY",
        "colab_type": "code",
        "colab": {
          "base_uri": "https://localhost:8080/",
          "height": 1000
        },
        "outputId": "d0352cc7-7c7c-457c-cb90-e237a1271a28"
      },
      "source": [
        "model_history = model.fit(x=X_train_scaled, y=y_train_one_hot, epochs=50, verbose=1)"
      ],
      "execution_count": 12,
      "outputs": [
        {
          "output_type": "stream",
          "text": [
            "W0709 13:43:24.192915 140604920362880 deprecation.py:323] From /usr/local/lib/python2.7/dist-packages/tensorflow/python/ops/math_grad.py:1250: where (from tensorflow.python.ops.array_ops) is deprecated and will be removed in a future version.\n",
            "Instructions for updating:\n",
            "Use tf.where in 2.0, which has the same broadcast rule as np.where\n",
            "W0709 13:43:24.244833 140604920362880 deprecation_wrapper.py:119] From /usr/local/lib/python2.7/dist-packages/keras/backend/tensorflow_backend.py:986: The name tf.assign_add is deprecated. Please use tf.compat.v1.assign_add instead.\n",
            "\n"
          ],
          "name": "stderr"
        },
        {
          "output_type": "stream",
          "text": [
            "Epoch 1/50\n",
            "120/120 [==============================] - 0s 1ms/step - loss: 1.0362 - acc: 0.3167\n",
            "Epoch 2/50\n",
            "120/120 [==============================] - 0s 85us/step - loss: 0.9914 - acc: 0.5000\n",
            "Epoch 3/50\n",
            "120/120 [==============================] - 0s 63us/step - loss: 0.9575 - acc: 0.6583\n",
            "Epoch 4/50\n",
            "120/120 [==============================] - 0s 63us/step - loss: 0.9226 - acc: 0.7083\n",
            "Epoch 5/50\n",
            "120/120 [==============================] - 0s 89us/step - loss: 0.8903 - acc: 0.6833\n",
            "Epoch 6/50\n",
            "120/120 [==============================] - 0s 79us/step - loss: 0.8613 - acc: 0.7083\n",
            "Epoch 7/50\n",
            "120/120 [==============================] - 0s 64us/step - loss: 0.8306 - acc: 0.7083\n",
            "Epoch 8/50\n",
            "120/120 [==============================] - 0s 82us/step - loss: 0.8048 - acc: 0.7500\n",
            "Epoch 9/50\n",
            "120/120 [==============================] - 0s 85us/step - loss: 0.7790 - acc: 0.7250\n",
            "Epoch 10/50\n",
            "120/120 [==============================] - 0s 80us/step - loss: 0.7520 - acc: 0.7417\n",
            "Epoch 11/50\n",
            "120/120 [==============================] - 0s 80us/step - loss: 0.7250 - acc: 0.7250\n",
            "Epoch 12/50\n",
            "120/120 [==============================] - 0s 79us/step - loss: 0.7034 - acc: 0.7583\n",
            "Epoch 13/50\n",
            "120/120 [==============================] - 0s 84us/step - loss: 0.6793 - acc: 0.7250\n",
            "Epoch 14/50\n",
            "120/120 [==============================] - 0s 90us/step - loss: 0.6575 - acc: 0.7833\n",
            "Epoch 15/50\n",
            "120/120 [==============================] - 0s 89us/step - loss: 0.6384 - acc: 0.7500\n",
            "Epoch 16/50\n",
            "120/120 [==============================] - 0s 103us/step - loss: 0.6163 - acc: 0.8250\n",
            "Epoch 17/50\n",
            "120/120 [==============================] - 0s 94us/step - loss: 0.5963 - acc: 0.8167\n",
            "Epoch 18/50\n",
            "120/120 [==============================] - 0s 70us/step - loss: 0.5826 - acc: 0.7833\n",
            "Epoch 19/50\n",
            "120/120 [==============================] - 0s 69us/step - loss: 0.5628 - acc: 0.8833\n",
            "Epoch 20/50\n",
            "120/120 [==============================] - 0s 85us/step - loss: 0.5503 - acc: 0.8750\n",
            "Epoch 21/50\n",
            "120/120 [==============================] - 0s 75us/step - loss: 0.5311 - acc: 0.8667\n",
            "Epoch 22/50\n",
            "120/120 [==============================] - 0s 67us/step - loss: 0.5174 - acc: 0.8750\n",
            "Epoch 23/50\n",
            "120/120 [==============================] - 0s 78us/step - loss: 0.5090 - acc: 0.8750\n",
            "Epoch 24/50\n",
            "120/120 [==============================] - 0s 85us/step - loss: 0.4930 - acc: 0.8667\n",
            "Epoch 25/50\n",
            "120/120 [==============================] - 0s 97us/step - loss: 0.4813 - acc: 0.8750\n",
            "Epoch 26/50\n",
            "120/120 [==============================] - 0s 108us/step - loss: 0.4706 - acc: 0.8917\n",
            "Epoch 27/50\n",
            "120/120 [==============================] - 0s 79us/step - loss: 0.4621 - acc: 0.8833\n",
            "Epoch 28/50\n",
            "120/120 [==============================] - 0s 81us/step - loss: 0.4507 - acc: 0.8917\n",
            "Epoch 29/50\n",
            "120/120 [==============================] - 0s 103us/step - loss: 0.4417 - acc: 0.8917\n",
            "Epoch 30/50\n",
            "120/120 [==============================] - 0s 113us/step - loss: 0.4351 - acc: 0.9000\n",
            "Epoch 31/50\n",
            "120/120 [==============================] - 0s 102us/step - loss: 0.4247 - acc: 0.8917\n",
            "Epoch 32/50\n",
            "120/120 [==============================] - 0s 98us/step - loss: 0.4156 - acc: 0.9167\n",
            "Epoch 33/50\n",
            "120/120 [==============================] - 0s 97us/step - loss: 0.4099 - acc: 0.9000\n",
            "Epoch 34/50\n",
            "120/120 [==============================] - 0s 96us/step - loss: 0.4014 - acc: 0.9333\n",
            "Epoch 35/50\n",
            "120/120 [==============================] - 0s 89us/step - loss: 0.3933 - acc: 0.8917\n",
            "Epoch 36/50\n",
            "120/120 [==============================] - 0s 79us/step - loss: 0.3877 - acc: 0.9167\n",
            "Epoch 37/50\n",
            "120/120 [==============================] - 0s 87us/step - loss: 0.3824 - acc: 0.9083\n",
            "Epoch 38/50\n",
            "120/120 [==============================] - 0s 77us/step - loss: 0.3732 - acc: 0.9167\n",
            "Epoch 39/50\n",
            "120/120 [==============================] - 0s 75us/step - loss: 0.3682 - acc: 0.9167\n",
            "Epoch 40/50\n",
            "120/120 [==============================] - 0s 101us/step - loss: 0.3628 - acc: 0.9167\n",
            "Epoch 41/50\n",
            "120/120 [==============================] - 0s 80us/step - loss: 0.3545 - acc: 0.9250\n",
            "Epoch 42/50\n",
            "120/120 [==============================] - 0s 86us/step - loss: 0.3494 - acc: 0.9083\n",
            "Epoch 43/50\n",
            "120/120 [==============================] - 0s 89us/step - loss: 0.3442 - acc: 0.9167\n",
            "Epoch 44/50\n",
            "120/120 [==============================] - 0s 85us/step - loss: 0.3389 - acc: 0.9250\n",
            "Epoch 45/50\n",
            "120/120 [==============================] - 0s 84us/step - loss: 0.3332 - acc: 0.9167\n",
            "Epoch 46/50\n",
            "120/120 [==============================] - 0s 165us/step - loss: 0.3308 - acc: 0.9167\n",
            "Epoch 47/50\n",
            "120/120 [==============================] - 0s 107us/step - loss: 0.3264 - acc: 0.9167\n",
            "Epoch 48/50\n",
            "120/120 [==============================] - 0s 105us/step - loss: 0.3204 - acc: 0.9333\n",
            "Epoch 49/50\n",
            "120/120 [==============================] - 0s 91us/step - loss: 0.3172 - acc: 0.9167\n",
            "Epoch 50/50\n",
            "120/120 [==============================] - 0s 99us/step - loss: 0.3132 - acc: 0.9250\n"
          ],
          "name": "stdout"
        }
      ]
    },
    {
      "cell_type": "code",
      "metadata": {
        "id": "-izP4QHvzI0N",
        "colab_type": "code",
        "colab": {
          "base_uri": "https://localhost:8080/",
          "height": 72
        },
        "outputId": "aba0a3dd-d979-4b17-d656-48ca8971616d"
      },
      "source": [
        "score = model.evaluate(X_test_scaled, y_test_one_hot, verbose=1)\n",
        "print('Test score:', score[0]) \n",
        "print('Test accuracy:', score[1])"
      ],
      "execution_count": 13,
      "outputs": [
        {
          "output_type": "stream",
          "text": [
            "\r30/30 [==============================] - 0s 831us/step\n",
            "('Test score:', 0.39424267411231995)\n",
            "('Test accuracy:', 0.800000011920929)\n"
          ],
          "name": "stdout"
        }
      ]
    },
    {
      "cell_type": "markdown",
      "metadata": {
        "id": "x_vfNXBI-oIl",
        "colab_type": "text"
      },
      "source": [
        "###Predicting the class"
      ]
    },
    {
      "cell_type": "code",
      "metadata": {
        "id": "0cw7yIKI-mmy",
        "colab_type": "code",
        "colab": {}
      },
      "source": [
        "y_pred_classes = model.predict_classes(X_test_scaled)"
      ],
      "execution_count": 0,
      "outputs": []
    },
    {
      "cell_type": "code",
      "metadata": {
        "id": "d5yaBBPH_BLp",
        "colab_type": "code",
        "colab": {
          "base_uri": "https://localhost:8080/",
          "height": 35
        },
        "outputId": "9caea05f-3af9-48c9-fffd-e4b4732292c2"
      },
      "source": [
        "print y_pred_classes"
      ],
      "execution_count": 25,
      "outputs": [
        {
          "output_type": "stream",
          "text": [
            "[0 0 2 2 2 0 2 2 0 2 2 2 0 0 1 0 1 0 1 1 0 0 2 2 2 1 2 2 2 1]\n"
          ],
          "name": "stdout"
        }
      ]
    },
    {
      "cell_type": "code",
      "metadata": {
        "id": "kgVod_MPAU8R",
        "colab_type": "code",
        "colab": {
          "base_uri": "https://localhost:8080/",
          "height": 295
        },
        "outputId": "e9effc20-0f5a-4a31-9271-a4530c820c04"
      },
      "source": [
        "import matplotlib.pyplot as plt\n",
        "%matplotlib inline\n",
        "\n",
        "def plot_history(network_history):\n",
        "  plt.figure()\n",
        "  plt.xlabel('Epoches')\n",
        "  plt.ylabel('Accuracy')\n",
        "  plt.title('Accuracy Vs Epoches')\n",
        "  plt.plot(network_history.history['acc'])\n",
        "  plt.show()\n",
        "\n",
        "plot_history(model_history)"
      ],
      "execution_count": 28,
      "outputs": [
        {
          "output_type": "display_data",
          "data": {
            "image/png": "[encoded data removed]",
            "text/plain": [
              "<Figure size 432x288 with 1 Axes>"
            ]
          },
          "metadata": {
            "tags": []
          }
        }
      ]
    }
  ]
}