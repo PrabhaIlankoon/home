{
 "cells": [
  {
   "cell_type": "markdown",
   "metadata": {},
   "source": [
    "# Keras - Classifying MNIST dataset with Logistic Regression"
   ]
  },
  {
   "cell_type": "markdown",
   "metadata": {},
   "source": [
    "From Wikipedia, the free encyclopedia (https://en.wikipedia.org/wiki/MNIST_database)\n",
    "\n",
    "The MNIST database (Modified National Institute of Standards and Technology database) is a large database of handwritten digits that is commonly used for training various image processing systems.The database is also widely used for training and testing in the field of machine learning. It was created by \"re-mixing\" the samples from NIST's original datasets. The creators felt that since NIST's training dataset was taken from American Census Bureau employees, while the testing dataset was taken from American high school students, it was not well-suited for machine learning experiments. Furthermore, the black and white images from NIST were normalized to fit into a 28x28 pixel bounding box and anti-aliased, which introduced grayscale levels.\n",
    "\n",
    "The MNIST database contains 60,000 training images and 10,000 testing images. Half of the training set and half of the test set were taken from NIST's training dataset, while the other half of the training set and the other half of the test set were taken from NIST's testing dataset. There have been a number of scientific papers on attempts to achieve the lowest error rate; one paper, using a hierarchical system of convolutional neural networks, manages to get an error rate on the MNIST database of 0.23 percent. The original creators of the database keep a list of some of the methods tested on it. In their original paper, they use a support vector machine to get an error rate of 0.8 percent.An extended dataset similar to MNIST called EMNIST has been published in 2017, which contains 240,000 training images, and 40,000 testing images of handwritten digits.\n",
    "\n",
    "\n",
    "THE MNIST DATABASE of handwritten digits - http://yann.lecun.com/exdb/mnist/"
   ]
  },
  {
   "cell_type": "markdown",
   "metadata": {},
   "source": [
    "### Loading the MNIST dataset"
   ]
  },
  {
   "cell_type": "code",
   "execution_count": 58,
   "metadata": {},
   "outputs": [
    {
     "name": "stdout",
     "output_type": "stream",
     "text": [
      "x_train shape =  (60000, 28, 28) y_train shape =  (60000,)\n",
      "x_test shape =  (10000, 28, 28) y_test shape =  (10000,)\n"
     ]
    }
   ],
   "source": [
    "from keras.datasets import mnist #importing the MNIST dataset\n",
    "(x_train, y_train), (x_test, y_test) = mnist.load_data()\n",
    "print \"x_train shape = \", x_train.shape, \"y_train shape = \", y_train.shape\n",
    "print \"x_test shape = \", x_test.shape, \"y_test shape = \", y_test.shape"
   ]
  },
  {
   "cell_type": "markdown",
   "metadata": {},
   "source": [
    "### Plotting digits"
   ]
  },
  {
   "cell_type": "code",
   "execution_count": 59,
   "metadata": {},
   "outputs": [
    {
     "data": {
      "text/plain": [
       "<matplotlib.image.AxesImage at 0x7faab2512490>"
      ]
     },
     "execution_count": 59,
     "metadata": {},
     "output_type": "execute_result"
    },
    {
     "data": {
      "image/png": "[encoded data removed]",
      "text/plain": [
       "<matplotlib.figure.Figure at 0x7faab2907f50>"
      ]
     },
     "metadata": {},
     "output_type": "display_data"
    }
   ],
   "source": [
    "import matplotlib.pyplot as plt\n",
    "%matplotlib inline\n",
    "plt.imshow(x_train[0]) #plots the first digit stored in the training dataset"
   ]
  },
  {
   "cell_type": "code",
   "execution_count": 60,
   "metadata": {},
   "outputs": [
    {
     "data": {
      "text/plain": [
       "<matplotlib.image.AxesImage at 0x7faab243f1d0>"
      ]
     },
     "execution_count": 60,
     "metadata": {},
     "output_type": "execute_result"
    },
    {
     "data": {
      "image/png": "[encoded data removed]",
      "text/plain": [
       "<matplotlib.figure.Figure at 0x7faab2532890>"
      ]
     },
     "metadata": {},
     "output_type": "display_data"
    }
   ],
   "source": [
    "plt.imshow(x_test[0]) #plots the first digit stored in the testing dataset"
   ]
  },
  {
   "cell_type": "markdown",
   "metadata": {},
   "source": [
    "### Casting inputs to float32"
   ]
  },
  {
   "cell_type": "code",
   "execution_count": 61,
   "metadata": {
    "collapsed": true
   },
   "outputs": [],
   "source": [
    "x_train = x_train.astype('float32')\n",
    "x_test  = x_test.astype('float32')"
   ]
  },
  {
   "cell_type": "markdown",
   "metadata": {},
   "source": [
    "### Reshaping inputs"
   ]
  },
  {
   "cell_type": "code",
   "execution_count": 62,
   "metadata": {},
   "outputs": [
    {
     "name": "stdout",
     "output_type": "stream",
     "text": [
      "(60000, 28, 28) => (60000, 784)\n",
      "(10000, 28, 28) => (10000, 784)\n"
     ]
    }
   ],
   "source": [
    "INPUT_DIM = 784 #28 by 28\n",
    "\n",
    "x_train_reshape = x_train.reshape(60000, INPUT_DIM)\n",
    "x_test_reshape = x_test.reshape(10000, INPUT_DIM)\n",
    "print x_train.shape, \"=>\", x_train_reshape.shape\n",
    "print x_test.shape,  \"=>\", x_test_reshape.shape"
   ]
  },
  {
   "cell_type": "markdown",
   "metadata": {},
   "source": [
    "### Normalizing the inputs"
   ]
  },
  {
   "cell_type": "code",
   "execution_count": 63,
   "metadata": {
    "collapsed": true
   },
   "outputs": [],
   "source": [
    "x_train_reshape /= 255\n",
    "x_test_reshape  /= 255"
   ]
  },
  {
   "cell_type": "markdown",
   "metadata": {},
   "source": [
    "### Converting labels to one-hot vectors"
   ]
  },
  {
   "cell_type": "code",
   "execution_count": 64,
   "metadata": {},
   "outputs": [
    {
     "name": "stdout",
     "output_type": "stream",
     "text": [
      "Dimension of y_train_one_hot =  (60000, 10)\n",
      "Dimension of y_test_one_hot  =  (10000, 10)\n",
      "5 => [ 0.  0.  0.  0.  0.  1.  0.  0.  0.  0.]\n",
      "7 => [ 0.  0.  0.  0.  0.  0.  0.  1.  0.  0.]\n"
     ]
    }
   ],
   "source": [
    "from keras.utils import np_utils\n",
    "\n",
    "NB_CLASSES = 10 #nb_classes = 10 (number of classes)\n",
    "y_train_one_hot = np_utils.to_categorical(y_train, NB_CLASSES) \n",
    "y_test_one_hot  = np_utils.to_categorical(y_test, NB_CLASSES)\n",
    "print \"Dimension of y_train_one_hot = \", y_train_one_hot.shape\n",
    "print \"Dimension of y_test_one_hot  = \", y_test_one_hot.shape\n",
    "print y_train[0], \"=>\", y_train_one_hot[0]\n",
    "print y_test[0],  \"=>\", y_test_one_hot[0]"
   ]
  },
  {
   "cell_type": "markdown",
   "metadata": {},
   "source": [
    "### Building the logistic model"
   ]
  },
  {
   "cell_type": "code",
   "execution_count": 65,
   "metadata": {},
   "outputs": [
    {
     "name": "stdout",
     "output_type": "stream",
     "text": [
      "_________________________________________________________________\n",
      "Layer (type)                 Output Shape              Param #   \n",
      "=================================================================\n",
      "dense_5 (Dense)              (None, 10)                7850      \n",
      "=================================================================\n",
      "Total params: 7,850\n",
      "Trainable params: 7,850\n",
      "Non-trainable params: 0\n",
      "_________________________________________________________________\n"
     ]
    }
   ],
   "source": [
    "from keras.models import Sequential\n",
    "from keras.layers import Dense, Activation\n",
    "\n",
    "model = Sequential()\n",
    "model.add(Dense(NB_CLASSES, activation='softmax', input_shape=(INPUT_DIM,)))\n",
    "model.summary()"
   ]
  },
  {
   "cell_type": "markdown",
   "metadata": {},
   "source": [
    "### Compiling the model"
   ]
  },
  {
   "cell_type": "code",
   "execution_count": 66,
   "metadata": {
    "collapsed": true
   },
   "outputs": [],
   "source": [
    "from keras.optimizers import SGD\n",
    "\n",
    "OPTIMIZER = SGD(lr=0.1)\n",
    "model.compile(optimizer=OPTIMIZER, loss='categorical_crossentropy', metrics=['accuracy'])"
   ]
  },
  {
   "cell_type": "markdown",
   "metadata": {},
   "source": [
    "### Fitting the model"
   ]
  },
  {
   "cell_type": "code",
   "execution_count": 67,
   "metadata": {},
   "outputs": [
    {
     "name": "stdout",
     "output_type": "stream",
     "text": [
      "Train on 48000 samples, validate on 12000 samples\n",
      "Epoch 1/50\n",
      "48000/48000 [==============================] - 0s - loss: 0.6267 - acc: 0.8437 - val_loss: 0.3952 - val_acc: 0.8978\n",
      "Epoch 2/50\n",
      "48000/48000 [==============================] - 0s - loss: 0.3954 - acc: 0.8924 - val_loss: 0.3484 - val_acc: 0.9035\n",
      "Epoch 3/50\n",
      "48000/48000 [==============================] - 1s - loss: 0.3587 - acc: 0.9010 - val_loss: 0.3268 - val_acc: 0.9116\n",
      "Epoch 4/50\n",
      "48000/48000 [==============================] - 0s - loss: 0.3400 - acc: 0.9049 - val_loss: 0.3140 - val_acc: 0.9137\n",
      "Epoch 5/50\n",
      "48000/48000 [==============================] - 0s - loss: 0.3276 - acc: 0.9086 - val_loss: 0.3072 - val_acc: 0.9156\n",
      "Epoch 6/50\n",
      "48000/48000 [==============================] - 1s - loss: 0.3194 - acc: 0.9106 - val_loss: 0.3006 - val_acc: 0.9163\n",
      "Epoch 7/50\n",
      "48000/48000 [==============================] - 0s - loss: 0.3125 - acc: 0.9131 - val_loss: 0.2971 - val_acc: 0.9170\n",
      "Epoch 8/50\n",
      "48000/48000 [==============================] - 0s - loss: 0.3073 - acc: 0.9144 - val_loss: 0.2934 - val_acc: 0.9174\n",
      "Epoch 9/50\n",
      "48000/48000 [==============================] - 1s - loss: 0.3027 - acc: 0.9157 - val_loss: 0.2905 - val_acc: 0.9192\n",
      "Epoch 10/50\n",
      "48000/48000 [==============================] - 1s - loss: 0.2990 - acc: 0.9162 - val_loss: 0.2875 - val_acc: 0.9199\n",
      "Epoch 11/50\n",
      "48000/48000 [==============================] - 0s - loss: 0.2962 - acc: 0.9172 - val_loss: 0.2851 - val_acc: 0.9203\n",
      "Epoch 12/50\n",
      "48000/48000 [==============================] - 1s - loss: 0.2930 - acc: 0.9180 - val_loss: 0.2842 - val_acc: 0.9193\n",
      "Epoch 13/50\n",
      "48000/48000 [==============================] - 0s - loss: 0.2909 - acc: 0.9181 - val_loss: 0.2827 - val_acc: 0.9207\n",
      "Epoch 14/50\n",
      "48000/48000 [==============================] - 1s - loss: 0.2886 - acc: 0.9190 - val_loss: 0.2818 - val_acc: 0.9211\n",
      "Epoch 15/50\n",
      "48000/48000 [==============================] - 1s - loss: 0.2864 - acc: 0.9199 - val_loss: 0.2806 - val_acc: 0.9225\n",
      "Epoch 16/50\n",
      "48000/48000 [==============================] - 1s - loss: 0.2848 - acc: 0.9206 - val_loss: 0.2781 - val_acc: 0.9223\n",
      "Epoch 17/50\n",
      "48000/48000 [==============================] - 1s - loss: 0.2830 - acc: 0.9211 - val_loss: 0.2786 - val_acc: 0.9216\n",
      "Epoch 18/50\n",
      "48000/48000 [==============================] - 1s - loss: 0.2817 - acc: 0.9216 - val_loss: 0.2774 - val_acc: 0.9222\n",
      "Epoch 19/50\n",
      "48000/48000 [==============================] - 1s - loss: 0.2802 - acc: 0.9215 - val_loss: 0.2760 - val_acc: 0.9230\n",
      "Epoch 20/50\n",
      "48000/48000 [==============================] - 1s - loss: 0.2789 - acc: 0.9218 - val_loss: 0.2750 - val_acc: 0.9242\n",
      "Epoch 21/50\n",
      "48000/48000 [==============================] - 1s - loss: 0.2776 - acc: 0.9229 - val_loss: 0.2748 - val_acc: 0.9235\n",
      "Epoch 22/50\n",
      "48000/48000 [==============================] - 1s - loss: 0.2767 - acc: 0.9231 - val_loss: 0.2739 - val_acc: 0.9231\n",
      "Epoch 23/50\n",
      "48000/48000 [==============================] - 1s - loss: 0.2755 - acc: 0.9231 - val_loss: 0.2736 - val_acc: 0.9239\n",
      "Epoch 24/50\n",
      "48000/48000 [==============================] - 1s - loss: 0.2744 - acc: 0.9235 - val_loss: 0.2733 - val_acc: 0.9241\n",
      "Epoch 25/50\n",
      "48000/48000 [==============================] - 1s - loss: 0.2735 - acc: 0.9244 - val_loss: 0.2750 - val_acc: 0.9234\n",
      "Epoch 26/50\n",
      "48000/48000 [==============================] - 1s - loss: 0.2725 - acc: 0.9236 - val_loss: 0.2728 - val_acc: 0.9246\n",
      "Epoch 27/50\n",
      "48000/48000 [==============================] - 1s - loss: 0.2717 - acc: 0.9241 - val_loss: 0.2730 - val_acc: 0.9241\n",
      "Epoch 28/50\n",
      "48000/48000 [==============================] - 1s - loss: 0.2711 - acc: 0.9243 - val_loss: 0.2728 - val_acc: 0.9248\n",
      "Epoch 29/50\n",
      "48000/48000 [==============================] - 1s - loss: 0.2702 - acc: 0.9250 - val_loss: 0.2710 - val_acc: 0.9247\n",
      "Epoch 30/50\n",
      "48000/48000 [==============================] - 1s - loss: 0.2697 - acc: 0.9250 - val_loss: 0.2706 - val_acc: 0.9253\n",
      "Epoch 31/50\n",
      "48000/48000 [==============================] - 1s - loss: 0.2688 - acc: 0.9251 - val_loss: 0.2706 - val_acc: 0.9256\n",
      "Epoch 32/50\n",
      "48000/48000 [==============================] - 1s - loss: 0.2680 - acc: 0.9252 - val_loss: 0.2707 - val_acc: 0.9244\n",
      "Epoch 33/50\n",
      "48000/48000 [==============================] - 1s - loss: 0.2676 - acc: 0.9252 - val_loss: 0.2704 - val_acc: 0.9247\n",
      "Epoch 34/50\n",
      "48000/48000 [==============================] - 1s - loss: 0.2670 - acc: 0.9252 - val_loss: 0.2693 - val_acc: 0.9253\n",
      "Epoch 35/50\n",
      "48000/48000 [==============================] - 1s - loss: 0.2662 - acc: 0.9255 - val_loss: 0.2705 - val_acc: 0.9252\n",
      "Epoch 36/50\n",
      "48000/48000 [==============================] - 1s - loss: 0.2657 - acc: 0.9261 - val_loss: 0.2696 - val_acc: 0.9253\n",
      "Epoch 37/50\n",
      "48000/48000 [==============================] - 1s - loss: 0.2650 - acc: 0.9261 - val_loss: 0.2697 - val_acc: 0.9265\n",
      "Epoch 38/50\n",
      "48000/48000 [==============================] - 1s - loss: 0.2646 - acc: 0.9260 - val_loss: 0.2685 - val_acc: 0.9258\n",
      "Epoch 39/50\n",
      "48000/48000 [==============================] - 1s - loss: 0.2640 - acc: 0.9265 - val_loss: 0.2690 - val_acc: 0.9250\n",
      "Epoch 40/50\n",
      "48000/48000 [==============================] - 1s - loss: 0.2635 - acc: 0.9267 - val_loss: 0.2680 - val_acc: 0.9268\n",
      "Epoch 41/50\n",
      "48000/48000 [==============================] - 1s - loss: 0.2628 - acc: 0.9270 - val_loss: 0.2691 - val_acc: 0.9260\n",
      "Epoch 42/50\n",
      "48000/48000 [==============================] - 1s - loss: 0.2625 - acc: 0.9269 - val_loss: 0.2693 - val_acc: 0.9263\n",
      "Epoch 43/50\n",
      "48000/48000 [==============================] - 1s - loss: 0.2621 - acc: 0.9268 - val_loss: 0.2683 - val_acc: 0.9260\n",
      "Epoch 44/50\n",
      "48000/48000 [==============================] - 1s - loss: 0.2617 - acc: 0.9269 - val_loss: 0.2691 - val_acc: 0.9263\n",
      "Epoch 45/50\n",
      "48000/48000 [==============================] - 1s - loss: 0.2613 - acc: 0.9270 - val_loss: 0.2676 - val_acc: 0.9258\n",
      "Epoch 46/50\n",
      "48000/48000 [==============================] - 1s - loss: 0.2609 - acc: 0.9277 - val_loss: 0.2676 - val_acc: 0.9265\n",
      "Epoch 47/50\n",
      "48000/48000 [==============================] - 1s - loss: 0.2603 - acc: 0.9272 - val_loss: 0.2678 - val_acc: 0.9264\n",
      "Epoch 48/50\n",
      "48000/48000 [==============================] - 1s - loss: 0.2601 - acc: 0.9278 - val_loss: 0.2673 - val_acc: 0.9261\n",
      "Epoch 49/50\n",
      "48000/48000 [==============================] - 1s - loss: 0.2596 - acc: 0.9274 - val_loss: 0.2665 - val_acc: 0.9272\n",
      "Epoch 50/50\n",
      "48000/48000 [==============================] - 1s - loss: 0.2593 - acc: 0.9281 - val_loss: 0.2676 - val_acc: 0.9268\n"
     ]
    }
   ],
   "source": [
    "BATCH_SIZE = 128\n",
    "EPOCHES = 50\n",
    "VERBOSE = 1\n",
    "VALIDATION_SPLIT = 0.2\n",
    "\n",
    "model_history = model.fit(x=x_train_reshape, y=y_train_one_hot, batch_size=BATCH_SIZE, \n",
    "                          epochs=EPOCHES, verbose=VERBOSE, validation_split=VALIDATION_SPLIT)"
   ]
  },
  {
   "cell_type": "markdown",
   "metadata": {},
   "source": [
    "### Evaluating the model"
   ]
  },
  {
   "cell_type": "code",
   "execution_count": 68,
   "metadata": {},
   "outputs": [
    {
     "name": "stdout",
     "output_type": "stream",
     "text": [
      "('Test score:', 0.27096405602395535)\n",
      "('Test accuracy:', 0.92210000000000003)\n"
     ]
    }
   ],
   "source": [
    "score = model.evaluate(x_test_reshape, y_test_one_hot, verbose=0)\n",
    "print('Test score:', score[0]) \n",
    "print('Test accuracy:', score[1])"
   ]
  },
  {
   "cell_type": "markdown",
   "metadata": {},
   "source": [
    "### Predicting the class"
   ]
  },
  {
   "cell_type": "code",
   "execution_count": 69,
   "metadata": {},
   "outputs": [
    {
     "name": "stdout",
     "output_type": "stream",
     "text": [
      "True class =  7 Predicted class =  7\n"
     ]
    }
   ],
   "source": [
    "y_probability = model.predict(x_test_reshape)\n",
    "y_classes = y_probability.argmax(axis=-1)\n",
    "print \"True class = \", y_test[0], \"Predicted class = \", y_classes[0]"
   ]
  },
  {
   "cell_type": "markdown",
   "metadata": {},
   "source": [
    "### Saving the trained model and its weights"
   ]
  },
  {
   "cell_type": "code",
   "execution_count": 70,
   "metadata": {
    "collapsed": true
   },
   "outputs": [],
   "source": [
    "json_string = model.to_json() # as json \n",
    "open('mnist_Logistic_model.json', 'w').write(json_string)\n",
    "# save the weights in h5 format \n",
    "model.save_weights('mnist_Logistic_wts.h5')"
   ]
  },
  {
   "cell_type": "markdown",
   "metadata": {},
   "source": [
    "### Retrieving a trained model and its weights"
   ]
  },
  {
   "cell_type": "code",
   "execution_count": 71,
   "metadata": {},
   "outputs": [
    {
     "name": "stdout",
     "output_type": "stream",
     "text": [
      "_________________________________________________________________\n",
      "Layer (type)                 Output Shape              Param #   \n",
      "=================================================================\n",
      "dense_5 (Dense)              (None, 10)                7850      \n",
      "=================================================================\n",
      "Total params: 7,850\n",
      "Trainable params: 7,850\n",
      "Non-trainable params: 0\n",
      "_________________________________________________________________\n",
      "('Test score:', 0.27096405602395535)\n",
      "('Test accuracy:', 0.92210000000000003)\n",
      "True class =  7 Predicted class =  7\n"
     ]
    }
   ],
   "source": [
    "from keras.models import model_from_json\n",
    "model1 = model_from_json(open('mnist_Logistic_model.json').read())\n",
    "model1.load_weights('mnist_Logistic_wts.h5')\n",
    "model1.summary()\n",
    "model1.compile(optimizer='sgd', loss='categorical_crossentropy', metrics=['accuracy'])\n",
    "score = model1.evaluate(x_test_reshape, y_test_one_hot, verbose=0) \n",
    "print('Test score:', score[0]) \n",
    "print('Test accuracy:', score[1])\n",
    "\n",
    "y_probability = model.predict(x_test_reshape)\n",
    "y_classes = y_probability.argmax(axis=-1)\n",
    "print \"True class = \", y_test[0], \"Predicted class = \", y_classes[0]"
   ]
  }
 ],
 "metadata": {
  "kernelspec": {
   "display_name": "Python 2",
   "language": "python",
   "name": "python2"
  },
  "language_info": {
   "codemirror_mode": {
    "name": "ipython",
    "version": 2
   },
   "file_extension": ".py",
   "mimetype": "text/x-python",
   "name": "python",
   "nbconvert_exporter": "python",
   "pygments_lexer": "ipython2",
   "version": "2.7.13"
  }
 },
 "nbformat": 4,
 "nbformat_minor": 2
}
