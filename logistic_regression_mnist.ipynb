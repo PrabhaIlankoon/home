{
 "cells": [
  {
   "cell_type": "markdown",
   "metadata": {},
   "source": [
    "# Keras - Classifying MNIST dataset with Logistic Regression"
   ]
  },
  {
   "cell_type": "markdown",
   "metadata": {},
   "source": [
    "From Wikipedia, the free encyclopedia (https://en.wikipedia.org/wiki/MNIST_database)\n",
    "\n",
    "The MNIST database (Modified National Institute of Standards and Technology database) is a large database of handwritten digits that is commonly used for training various image processing systems.The database is also widely used for training and testing in the field of machine learning. It was created by \"re-mixing\" the samples from NIST's original datasets. The creators felt that since NIST's training dataset was taken from American Census Bureau employees, while the testing dataset was taken from American high school students, it was not well-suited for machine learning experiments. Furthermore, the black and white images from NIST were normalized to fit into a 28x28 pixel bounding box and anti-aliased, which introduced grayscale levels.\n",
    "\n",
    "The MNIST database contains 60,000 training images and 10,000 testing images. Half of the training set and half of the test set were taken from NIST's training dataset, while the other half of the training set and the other half of the test set were taken from NIST's testing dataset. There have been a number of scientific papers on attempts to achieve the lowest error rate; one paper, using a hierarchical system of convolutional neural networks, manages to get an error rate on the MNIST database of 0.23 percent. The original creators of the database keep a list of some of the methods tested on it. In their original paper, they use a support vector machine to get an error rate of 0.8 percent.An extended dataset similar to MNIST called EMNIST has been published in 2017, which contains 240,000 training images, and 40,000 testing images of handwritten digits."
   ]
  },
  {
   "cell_type": "markdown",
   "metadata": {},
   "source": [
    "### Loading the MNIST dataset"
   ]
  },
  {
   "cell_type": "code",
   "execution_count": 190,
   "metadata": {},
   "outputs": [
    {
     "name": "stdout",
     "output_type": "stream",
     "text": [
      "x_train shape =  (60000, 28, 28) y_train shape =  (60000,)\n",
      "x_test shape =  (10000, 28, 28) y_test shape =  (10000,)\n"
     ]
    }
   ],
   "source": [
    "from keras.datasets import mnist #importing the MNIST dataset\n",
    "(x_train, y_train), (x_test, y_test) = mnist.load_data()\n",
    "print \"x_train shape = \", x_train.shape, \"y_train shape = \", y_train.shape\n",
    "print \"x_test shape = \", x_test.shape, \"y_test shape = \", y_test.shape"
   ]
  },
  {
   "cell_type": "markdown",
   "metadata": {},
   "source": [
    "### Plotting digits"
   ]
  },
  {
   "cell_type": "code",
   "execution_count": 191,
   "metadata": {},
   "outputs": [
    {
     "data": {
      "text/plain": [
       "<matplotlib.image.AxesImage at 0x7fb05dfc7590>"
      ]
     },
     "execution_count": 191,
     "metadata": {},
     "output_type": "execute_result"
    },
    {
     "data": {
      "image/png": "[encoded data removed]",
      "text/plain": [
       "<matplotlib.figure.Figure at 0x7fb05df451d0>"
      ]
     },
     "metadata": {},
     "output_type": "display_data"
    }
   ],
   "source": [
    "import matplotlib.pyplot as plt\n",
    "%matplotlib inline\n",
    "plt.imshow(x_train[0]) #plots the first digit stored in the training dataset"
   ]
  },
  {
   "cell_type": "code",
   "execution_count": 192,
   "metadata": {},
   "outputs": [
    {
     "data": {
      "text/plain": [
       "<matplotlib.image.AxesImage at 0x7fb05de33610>"
      ]
     },
     "execution_count": 192,
     "metadata": {},
     "output_type": "execute_result"
    },
    {
     "data": {
      "image/png": "[encoded data removed]",
      "text/plain": [
       "<matplotlib.figure.Figure at 0x7fb05df40710>"
      ]
     },
     "metadata": {},
     "output_type": "display_data"
    }
   ],
   "source": [
    "plt.imshow(x_test[0]) #plots the first digit stored in the testing dataset"
   ]
  },
  {
   "cell_type": "markdown",
   "metadata": {},
   "source": [
    "### Reshaping inputs"
   ]
  },
  {
   "cell_type": "code",
   "execution_count": 193,
   "metadata": {},
   "outputs": [
    {
     "name": "stdout",
     "output_type": "stream",
     "text": [
      "(60000, 28, 28) => (60000, 784)\n",
      "(10000, 28, 28) => (10000, 784)\n"
     ]
    }
   ],
   "source": [
    "input_dim = 784 #28 by 28\n",
    "x_train_reshape = x_train.reshape(60000, input_dim)\n",
    "x_test_reshape = x_test.reshape(10000, input_dim)\n",
    "print x_train.shape, \"=>\", x_train_reshape.shape\n",
    "print x_test.shape,  \"=>\", x_test_reshape.shape"
   ]
  },
  {
   "cell_type": "markdown",
   "metadata": {},
   "source": [
    "### Casting inputs to float32"
   ]
  },
  {
   "cell_type": "code",
   "execution_count": 194,
   "metadata": {
    "collapsed": true
   },
   "outputs": [],
   "source": [
    "x_train = x_train.astype('float32')\n",
    "x_test  = x_test.astype('float32')"
   ]
  },
  {
   "cell_type": "markdown",
   "metadata": {},
   "source": [
    "### Normalizing the inputs"
   ]
  },
  {
   "cell_type": "code",
   "execution_count": 195,
   "metadata": {
    "collapsed": true
   },
   "outputs": [],
   "source": [
    "x_train_reshape /= 255\n",
    "x_test_reshape  /= 255"
   ]
  },
  {
   "cell_type": "markdown",
   "metadata": {},
   "source": [
    "### Converting labels to one-hot vectors"
   ]
  },
  {
   "cell_type": "code",
   "execution_count": 196,
   "metadata": {},
   "outputs": [
    {
     "name": "stdout",
     "output_type": "stream",
     "text": [
      "Dimension of y_train_one_hot =  (60000, 10)\n",
      "Dimension of y_test_one_hot  =  (10000, 10)\n",
      "5 => [ 0.  0.  0.  0.  0.  1.  0.  0.  0.  0.]\n",
      "7 => [ 0.  0.  0.  0.  0.  0.  0.  1.  0.  0.]\n"
     ]
    }
   ],
   "source": [
    "from keras.utils import np_utils\n",
    "\n",
    "y_train_one_hot = np_utils.to_categorical(y_train, nb_classes) #nb_classes = 10 (number of classes)\n",
    "y_test_one_hot  = np_utils.to_categorical(y_test, nb_classes)\n",
    "print \"Dimension of y_train_one_hot = \", y_train_one_hot.shape\n",
    "print \"Dimension of y_test_one_hot  = \", y_test_one_hot.shape\n",
    "print y_train[0], \"=>\", y_train_one_hot[0]\n",
    "print y_test[0],  \"=>\", y_test_one_hot[0]"
   ]
  },
  {
   "cell_type": "markdown",
   "metadata": {},
   "source": [
    "### Building the logistic model"
   ]
  },
  {
   "cell_type": "code",
   "execution_count": 197,
   "metadata": {},
   "outputs": [
    {
     "name": "stdout",
     "output_type": "stream",
     "text": [
      "_________________________________________________________________\n",
      "Layer (type)                 Output Shape              Param #   \n",
      "=================================================================\n",
      "dense_17 (Dense)             (None, 10)                7850      \n",
      "=================================================================\n",
      "Total params: 7,850\n",
      "Trainable params: 7,850\n",
      "Non-trainable params: 0\n",
      "_________________________________________________________________\n"
     ]
    },
    {
     "name": "stderr",
     "output_type": "stream",
     "text": [
      "/home/tgi/anaconda2/lib/python2.7/site-packages/ipykernel_launcher.py:5: UserWarning: Update your `Dense` call to the Keras 2 API: `Dense(units=10, activation=\"softmax\", input_dim=784)`\n",
      "  \"\"\"\n"
     ]
    }
   ],
   "source": [
    "from keras.models import Sequential\n",
    "from keras.layers import Dense, Activation\n",
    "\n",
    "model = Sequential()\n",
    "model.add(Dense(output_dim=nb_classes, input_dim=input_dim, activation='softmax'))\n",
    "model.summary()"
   ]
  },
  {
   "cell_type": "markdown",
   "metadata": {},
   "source": [
    "### Compiling the model"
   ]
  },
  {
   "cell_type": "code",
   "execution_count": 198,
   "metadata": {},
   "outputs": [],
   "source": [
    "from keras import optimizers\n",
    "\n",
    "sgd_optimizer = optimizers.sgd(lr=0.01)\n",
    "model.compile(optimizer=sgd_optimizer, loss='categorical_crossentropy', metrics=['accuracy'])"
   ]
  },
  {
   "cell_type": "markdown",
   "metadata": {},
   "source": [
    "### Fitting the model"
   ]
  },
  {
   "cell_type": "code",
   "execution_count": 203,
   "metadata": {},
   "outputs": [
    {
     "name": "stdout",
     "output_type": "stream",
     "text": [
      "Train on 60000 samples, validate on 10000 samples\n",
      "Epoch 1/20\n",
      "60000/60000 [==============================] - 1s - loss: 1.9685 - acc: 0.3795 - val_loss: 1.9700 - val_acc: 0.3738\n",
      "Epoch 2/20\n",
      "60000/60000 [==============================] - 1s - loss: 1.9670 - acc: 0.3795 - val_loss: 1.9686 - val_acc: 0.3739\n",
      "Epoch 3/20\n",
      "60000/60000 [==============================] - 1s - loss: 1.9655 - acc: 0.3797 - val_loss: 1.9672 - val_acc: 0.3739\n",
      "Epoch 4/20\n",
      "60000/60000 [==============================] - 1s - loss: 1.9640 - acc: 0.3800 - val_loss: 1.9658 - val_acc: 0.3740\n",
      "Epoch 5/20\n",
      "60000/60000 [==============================] - 1s - loss: 1.9625 - acc: 0.3802 - val_loss: 1.9644 - val_acc: 0.3743\n",
      "Epoch 6/20\n",
      "60000/60000 [==============================] - 1s - loss: 1.9611 - acc: 0.3802 - val_loss: 1.9631 - val_acc: 0.3745\n",
      "Epoch 7/20\n",
      "60000/60000 [==============================] - 1s - loss: 1.9597 - acc: 0.3805 - val_loss: 1.9617 - val_acc: 0.3745\n",
      "Epoch 8/20\n",
      "60000/60000 [==============================] - 1s - loss: 1.9583 - acc: 0.3806 - val_loss: 1.9604 - val_acc: 0.3746\n",
      "Epoch 9/20\n",
      "60000/60000 [==============================] - 1s - loss: 1.9569 - acc: 0.3806 - val_loss: 1.9591 - val_acc: 0.3747\n",
      "Epoch 10/20\n",
      "60000/60000 [==============================] - 1s - loss: 1.9555 - acc: 0.3807 - val_loss: 1.9578 - val_acc: 0.3749\n",
      "Epoch 11/20\n",
      "60000/60000 [==============================] - 1s - loss: 1.9541 - acc: 0.3809 - val_loss: 1.9566 - val_acc: 0.3751\n",
      "Epoch 12/20\n",
      "60000/60000 [==============================] - 1s - loss: 1.9528 - acc: 0.3808 - val_loss: 1.9553 - val_acc: 0.3759\n",
      "Epoch 13/20\n",
      "60000/60000 [==============================] - 1s - loss: 1.9515 - acc: 0.3810 - val_loss: 1.9540 - val_acc: 0.3763\n",
      "Epoch 14/20\n",
      "60000/60000 [==============================] - 1s - loss: 1.9501 - acc: 0.3811 - val_loss: 1.9528 - val_acc: 0.3763\n",
      "Epoch 15/20\n",
      "60000/60000 [==============================] - 1s - loss: 1.9488 - acc: 0.3814 - val_loss: 1.9516 - val_acc: 0.3766\n",
      "Epoch 16/20\n",
      "60000/60000 [==============================] - 1s - loss: 1.9475 - acc: 0.3815 - val_loss: 1.9504 - val_acc: 0.3769\n",
      "Epoch 17/20\n",
      "60000/60000 [==============================] - 1s - loss: 1.9463 - acc: 0.3815 - val_loss: 1.9492 - val_acc: 0.3770\n",
      "Epoch 18/20\n",
      "60000/60000 [==============================] - 1s - loss: 1.9450 - acc: 0.3816 - val_loss: 1.9480 - val_acc: 0.3768\n",
      "Epoch 19/20\n",
      "60000/60000 [==============================] - 1s - loss: 1.9437 - acc: 0.3818 - val_loss: 1.9469 - val_acc: 0.3774\n",
      "Epoch 20/20\n",
      "60000/60000 [==============================] - 1s - loss: 1.9425 - acc: 0.3818 - val_loss: 1.9457 - val_acc: 0.3780\n"
     ]
    },
    {
     "data": {
      "text/plain": [
       "<keras.callbacks.History at 0x7fb05dd92090>"
      ]
     },
     "execution_count": 203,
     "metadata": {},
     "output_type": "execute_result"
    }
   ],
   "source": [
    "model.fit(x=x_train_reshape, y=y_train_one_hot, batch_size=128, epochs=20, verbose=1, \n",
    "          validation_data=(x_test_reshape, y_test_one_hot))"
   ]
  },
  {
   "cell_type": "code",
   "execution_count": 204,
   "metadata": {},
   "outputs": [
    {
     "name": "stdout",
     "output_type": "stream",
     "text": [
      "('Test score:', 1.9457175031661986)\n",
      "('Test accuracy:', 0.378)\n"
     ]
    }
   ],
   "source": [
    "score = model.evaluate(x_test_reshape, y_test_one_hot, verbose=0) \n",
    "print('Test score:', score[0]) \n",
    "print('Test accuracy:', score[1])"
   ]
  }
 ],
 "metadata": {
  "kernelspec": {
   "display_name": "Python 2",
   "language": "python",
   "name": "python2"
  },
  "language_info": {
   "codemirror_mode": {
    "name": "ipython",
    "version": 2
   },
   "file_extension": ".py",
   "mimetype": "text/x-python",
   "name": "python",
   "nbconvert_exporter": "python",
   "pygments_lexer": "ipython2",
   "version": "2.7.13"
  }
 },
 "nbformat": 4,
 "nbformat_minor": 2
}
