{
 "cells": [
  {
   "cell_type": "markdown",
   "metadata": {},
   "source": [
    "## Keras - Classifying IRIS dataset with Logistic Regression"
   ]
  },
  {
   "cell_type": "markdown",
   "metadata": {},
   "source": [
    "From Wikipedia, the free encyclopedia (https://en.wikipedia.org/wiki/Iris_flower_data_set)\n",
    "\n",
    "The Iris flower data set or Fisher's Iris data set is a multivariate data set introduced by the British statistician and biologist Ronald Fisher in his 1936 paper The use of multiple measurements in taxonomic problems as an example of linear discriminant analysis.\n",
    "\n",
    "The data set consists of 50 samples from each of three species of Iris (Iris setosa, Iris virginica and Iris versicolor). Four features were measured from each sample: the length and the width of the sepals and petals, in centimetres. Based on the combination of these four features, Fisher developed a linear discriminant model to distinguish the species from each other.\n",
    "\n",
    "In this Jupyter notebook, logistic regression model is used to classify Iris flowers on the four features - petal length, petal width, sepal length and sepal width). The library Pandas is used to read the dataset as a CSV file."
   ]
  },
  {
   "cell_type": "markdown",
   "metadata": {},
   "source": [
    "### Reading the IRIS dataset as a CSV file"
   ]
  },
  {
   "cell_type": "code",
   "execution_count": 104,
   "metadata": {},
   "outputs": [
    {
     "name": "stdout",
     "output_type": "stream",
     "text": [
      "Size(X) =  (150, 4)\n",
      "Size(y_one_hot) =  (150, 3)\n"
     ]
    }
   ],
   "source": [
    "import pandas as pd #Use Pandas to read the CSV file\n",
    "from keras.utils import np_utils\n",
    "\n",
    "df = pd.read_csv('IRIS.csv')\n",
    "dataset = df.values\n",
    "#Reads first 4 columns as features (petal length, petal width, sepal length and sepal width)\n",
    "X = dataset[:,0:4].astype('float32') #convert features to float32 also\n",
    "y = dataset[:,4] #Reads the last column as labels (0 - Setosa, 1 - Versicolour, 2 - Virginica)\n",
    "NB_CLASSES = 3 #No of classes\n",
    "y_one_hot = np_utils.to_categorical(y, NB_CLASSES) #Labels converted to one-hot vectors\n",
    "print \"Size(X) = \", X.shape\n",
    "print \"Size(y_one_hot) = \", y_one_hot.shape "
   ]
  },
  {
   "cell_type": "markdown",
   "metadata": {},
   "source": [
    "### Splitting the dataset into training and testing"
   ]
  },
  {
   "cell_type": "code",
   "execution_count": 105,
   "metadata": {},
   "outputs": [
    {
     "name": "stdout",
     "output_type": "stream",
     "text": [
      "Size(X_train) =  (120, 4)\n",
      "Size(y_train_one_hot) =  (120, 3)\n",
      "Size(X_test) =  (30, 4)\n",
      "Size(y_test_one_hot) =  (30, 3)\n"
     ]
    }
   ],
   "source": [
    "from sklearn.model_selection import train_test_split\n",
    "#80% for training and 20% for testing\n",
    "X_train, X_test, y_train_one_hot, y_test_one_hot = train_test_split(X, y_one_hot, test_size=0.2)\n",
    "print \"Size(X_train) = \", X_train.shape\n",
    "print \"Size(y_train_one_hot) = \", y_train_one_hot.shape\n",
    "print \"Size(X_test) = \", X_test.shape\n",
    "print \"Size(y_test_one_hot) = \", y_test_one_hot.shape"
   ]
  },
  {
   "cell_type": "markdown",
   "metadata": {},
   "source": [
    "### Building the logisitic model"
   ]
  },
  {
   "cell_type": "code",
   "execution_count": 106,
   "metadata": {},
   "outputs": [
    {
     "name": "stdout",
     "output_type": "stream",
     "text": [
      "_________________________________________________________________\n",
      "Layer (type)                 Output Shape              Param #   \n",
      "=================================================================\n",
      "dense_13 (Dense)             (None, 3)                 15        \n",
      "=================================================================\n",
      "Total params: 15\n",
      "Trainable params: 15\n",
      "Non-trainable params: 0\n",
      "_________________________________________________________________\n"
     ]
    }
   ],
   "source": [
    "from keras.models import Sequential\n",
    "from keras.layers import Dense, Activation\n",
    "NB_CLASSES = 3\n",
    "INPUT_DIM  = 4\n",
    "\n",
    "model = Sequential()\n",
    "model.add(Dense(NB_CLASSES, activation='softmax', input_shape=(INPUT_DIM,)))\n",
    "model.summary()"
   ]
  },
  {
   "cell_type": "markdown",
   "metadata": {},
   "source": [
    "### Compiling the model"
   ]
  },
  {
   "cell_type": "code",
   "execution_count": 107,
   "metadata": {
    "collapsed": true
   },
   "outputs": [],
   "source": [
    "from keras.optimizers import SGD\n",
    "\n",
    "OPTIMIZER = SGD(lr=0.1)\n",
    "model.compile(optimizer=OPTIMIZER, loss='categorical_crossentropy', metrics=['accuracy'])"
   ]
  },
  {
   "cell_type": "markdown",
   "metadata": {},
   "source": [
    "### Fitting the model"
   ]
  },
  {
   "cell_type": "code",
   "execution_count": 108,
   "metadata": {},
   "outputs": [
    {
     "name": "stdout",
     "output_type": "stream",
     "text": [
      "Epoch 1/50\n",
      "120/120 [==============================] - 0s - loss: 1.7363 - acc: 0.4417         \n",
      "Epoch 2/50\n",
      "120/120 [==============================] - 0s - loss: 0.8274 - acc: 0.6667     \n",
      "Epoch 3/50\n",
      "120/120 [==============================] - 0s - loss: 1.4059 - acc: 0.5833     \n",
      "Epoch 4/50\n",
      "120/120 [==============================] - 0s - loss: 0.9177 - acc: 0.7000     \n",
      "Epoch 5/50\n",
      "120/120 [==============================] - 0s - loss: 0.7768 - acc: 0.6583     \n",
      "Epoch 6/50\n",
      "120/120 [==============================] - 0s - loss: 0.7282 - acc: 0.7083     \n",
      "Epoch 7/50\n",
      "120/120 [==============================] - 0s - loss: 1.2313 - acc: 0.6250     \n",
      "Epoch 8/50\n",
      "120/120 [==============================] - 0s - loss: 0.4122 - acc: 0.8333     \n",
      "Epoch 9/50\n",
      "120/120 [==============================] - 0s - loss: 0.7366 - acc: 0.7167     \n",
      "Epoch 10/50\n",
      "120/120 [==============================] - 0s - loss: 0.8081 - acc: 0.6583     \n",
      "Epoch 11/50\n",
      "120/120 [==============================] - 0s - loss: 0.7152 - acc: 0.7250     \n",
      "Epoch 12/50\n",
      "120/120 [==============================] - 0s - loss: 0.6005 - acc: 0.7000     \n",
      "Epoch 13/50\n",
      "120/120 [==============================] - 0s - loss: 0.4631 - acc: 0.7917     \n",
      "Epoch 14/50\n",
      "120/120 [==============================] - 0s - loss: 0.3256 - acc: 0.8833     \n",
      "Epoch 15/50\n",
      "120/120 [==============================] - 0s - loss: 0.6012 - acc: 0.7250     \n",
      "Epoch 16/50\n",
      "120/120 [==============================] - 0s - loss: 0.3088 - acc: 0.8750     \n",
      "Epoch 17/50\n",
      "120/120 [==============================] - 0s - loss: 0.3820 - acc: 0.7917     \n",
      "Epoch 18/50\n",
      "120/120 [==============================] - 0s - loss: 0.2847 - acc: 0.8750     \n",
      "Epoch 19/50\n",
      "120/120 [==============================] - 0s - loss: 0.3621 - acc: 0.8417     \n",
      "Epoch 20/50\n",
      "120/120 [==============================] - 0s - loss: 0.4552 - acc: 0.7583     \n",
      "Epoch 21/50\n",
      "120/120 [==============================] - 0s - loss: 0.3669 - acc: 0.8333     \n",
      "Epoch 22/50\n",
      "120/120 [==============================] - 0s - loss: 0.2743 - acc: 0.8917     \n",
      "Epoch 23/50\n",
      "120/120 [==============================] - 0s - loss: 0.2418 - acc: 0.9250     \n",
      "Epoch 24/50\n",
      "120/120 [==============================] - 0s - loss: 0.2296 - acc: 0.9250     \n",
      "Epoch 25/50\n",
      "120/120 [==============================] - 0s - loss: 0.3767 - acc: 0.8250     \n",
      "Epoch 26/50\n",
      "120/120 [==============================] - 0s - loss: 0.2870 - acc: 0.8750     \n",
      "Epoch 27/50\n",
      "120/120 [==============================] - 0s - loss: 0.2346 - acc: 0.9167     \n",
      "Epoch 28/50\n",
      "120/120 [==============================] - 0s - loss: 0.2313 - acc: 0.9250     \n",
      "Epoch 29/50\n",
      "120/120 [==============================] - 0s - loss: 0.2281 - acc: 0.9333     \n",
      "Epoch 30/50\n",
      "120/120 [==============================] - 0s - loss: 0.2493 - acc: 0.9250     \n",
      "Epoch 31/50\n",
      "120/120 [==============================] - 0s - loss: 0.3396 - acc: 0.8583     \n",
      "Epoch 32/50\n",
      "120/120 [==============================] - 0s - loss: 0.2521 - acc: 0.9083     \n",
      "Epoch 33/50\n",
      "120/120 [==============================] - 0s - loss: 0.2322 - acc: 0.9250     \n",
      "Epoch 34/50\n",
      "120/120 [==============================] - 0s - loss: 0.2277 - acc: 0.9000     \n",
      "Epoch 35/50\n",
      "120/120 [==============================] - 0s - loss: 0.2807 - acc: 0.8917     \n",
      "Epoch 36/50\n",
      "120/120 [==============================] - 0s - loss: 0.1870 - acc: 0.9417     \n",
      "Epoch 37/50\n",
      "120/120 [==============================] - 0s - loss: 0.2828 - acc: 0.8833     \n",
      "Epoch 38/50\n",
      "120/120 [==============================] - 0s - loss: 0.2242 - acc: 0.9417     \n",
      "Epoch 39/50\n",
      "120/120 [==============================] - 0s - loss: 0.2970 - acc: 0.8833     \n",
      "Epoch 40/50\n",
      "120/120 [==============================] - 0s - loss: 0.1816 - acc: 0.9583     \n",
      "Epoch 41/50\n",
      "120/120 [==============================] - 0s - loss: 0.2257 - acc: 0.9167     \n",
      "Epoch 42/50\n",
      "120/120 [==============================] - 0s - loss: 0.2134 - acc: 0.9167     \n",
      "Epoch 43/50\n",
      "120/120 [==============================] - 0s - loss: 0.1924 - acc: 0.9333     \n",
      "Epoch 44/50\n",
      "120/120 [==============================] - 0s - loss: 0.1854 - acc: 0.9583     \n",
      "Epoch 45/50\n",
      "120/120 [==============================] - 0s - loss: 0.1825 - acc: 0.9417     \n",
      "Epoch 46/50\n",
      "120/120 [==============================] - 0s - loss: 0.2456 - acc: 0.9250     \n",
      "Epoch 47/50\n",
      "120/120 [==============================] - 0s - loss: 0.1863 - acc: 0.9167     \n",
      "Epoch 48/50\n",
      "120/120 [==============================] - ETA: 0s - loss: 0.7698 - acc: 0.750 - 0s - loss: 0.2170 - acc: 0.9083     \n",
      "Epoch 49/50\n",
      "120/120 [==============================] - 0s - loss: 0.2334 - acc: 0.9167     \n",
      "Epoch 50/50\n",
      "120/120 [==============================] - 0s - loss: 0.1805 - acc: 0.9250     \n"
     ]
    }
   ],
   "source": [
    "BATCH_SIZE = 8\n",
    "EPOCHES = 50\n",
    "VERBOSE = 1\n",
    "\n",
    "model_history = model.fit(x=X_train, y=y_train_one_hot, batch_size=BATCH_SIZE, \n",
    "                          epochs=EPOCHES, verbose=VERBOSE)"
   ]
  },
  {
   "cell_type": "markdown",
   "metadata": {},
   "source": [
    "### Evaluating the model"
   ]
  },
  {
   "cell_type": "code",
   "execution_count": 109,
   "metadata": {},
   "outputs": [
    {
     "name": "stdout",
     "output_type": "stream",
     "text": [
      "('Test score:', 0.10371842235326767)\n",
      "('Test accuracy:', 0.96666663885116577)\n"
     ]
    }
   ],
   "source": [
    "score = model.evaluate(X_test, y_test_one_hot, verbose=0)\n",
    "print('Test score:', score[0]) \n",
    "print('Test accuracy:', score[1])"
   ]
  },
  {
   "cell_type": "markdown",
   "metadata": {},
   "source": [
    "### Predicting the class"
   ]
  },
  {
   "cell_type": "code",
   "execution_count": 110,
   "metadata": {},
   "outputs": [
    {
     "name": "stdout",
     "output_type": "stream",
     "text": [
      "True class =  [ 0.  1.  0.] Predicted class =  2\n"
     ]
    }
   ],
   "source": [
    "y_probability = model.predict(X_test)\n",
    "y_classes = y_probability.argmax(axis=-1)\n",
    "print \"True class = \", y_test_one_hot[10], \"Predicted class = \", y_classes[10]"
   ]
  },
  {
   "cell_type": "markdown",
   "metadata": {},
   "source": [
    "### Plotting the model performances"
   ]
  },
  {
   "cell_type": "code",
   "execution_count": 111,
   "metadata": {},
   "outputs": [
    {
     "data": {
      "image/png": "[encoded data removed]",
      "text/plain": [
       "<matplotlib.figure.Figure at 0x7f4e9241a750>"
      ]
     },
     "metadata": {},
     "output_type": "display_data"
    },
    {
     "data": {
      "image/png": "[encoded data removed]",
      "text/plain": [
       "<matplotlib.figure.Figure at 0x7f4e91760a50>"
      ]
     },
     "metadata": {},
     "output_type": "display_data"
    }
   ],
   "source": [
    "import matplotlib.pyplot as plt\n",
    "%matplotlib inline\n",
    "\n",
    "def plot_history(network_history):\n",
    "    plt.figure()\n",
    "    plt.xlabel('Epochs')\n",
    "    plt.ylabel('Loss')\n",
    "    plt.plot(network_history.history['loss'])\n",
    "    plt.legend(['Training'])\n",
    "\n",
    "    plt.figure()\n",
    "    plt.xlabel('Epochs')\n",
    "    plt.ylabel('Accuracy')\n",
    "    plt.plot(network_history.history['acc'])\n",
    "    plt.legend(['Training'], loc='lower right')\n",
    "    plt.show()\n",
    "\n",
    "plot_history(model_history)"
   ]
  }
 ],
 "metadata": {
  "kernelspec": {
   "display_name": "Python 2",
   "language": "python",
   "name": "python2"
  },
  "language_info": {
   "codemirror_mode": {
    "name": "ipython",
    "version": 2
   },
   "file_extension": ".py",
   "mimetype": "text/x-python",
   "name": "python",
   "nbconvert_exporter": "python",
   "pygments_lexer": "ipython2",
   "version": "2.7.13"
  }
 },
 "nbformat": 4,
 "nbformat_minor": 2
}
