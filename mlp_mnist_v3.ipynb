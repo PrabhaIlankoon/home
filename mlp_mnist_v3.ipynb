{
 "cells": [
  {
   "cell_type": "markdown",
   "metadata": {},
   "source": [
    "## Multi Layer Perceptron for MNIST"
   ]
  },
  {
   "cell_type": "markdown",
   "metadata": {},
   "source": [
    "### Dataset loading and the model building"
   ]
  },
  {
   "cell_type": "code",
   "execution_count": 30,
   "metadata": {},
   "outputs": [
    {
     "name": "stdout",
     "output_type": "stream",
     "text": [
      "Train on 42000 samples, validate on 18000 samples\n",
      "Epoch 1/3\n",
      "42000/42000 [==============================] - 9s 207us/step - loss: 0.3110 - acc: 0.9094 - val_loss: 0.1790 - val_acc: 0.9462\n",
      "Epoch 2/3\n",
      "42000/42000 [==============================] - 8s 193us/step - loss: 0.1266 - acc: 0.9603 - val_loss: 0.1360 - val_acc: 0.9590\n",
      "Epoch 3/3\n",
      "42000/42000 [==============================] - 8s 191us/step - loss: 0.0834 - acc: 0.9739 - val_loss: 0.1219 - val_acc: 0.9645\n",
      "10000/10000 [==============================] - 1s 60us/step\n",
      "('Test loss = ', 0.10736036267727614, 'Test accuracy = ', 0.9654)\n"
     ]
    }
   ],
   "source": [
    "import tensorflow as tf\n",
    "\n",
    "mnist = tf.keras.datasets.mnist\n",
    "\n",
    "(x_train, y_train), (x_test, y_test) = mnist.load_data()\n",
    "\n",
    "x_train = tf.keras.utils.normalize(x_train, axis=1)\n",
    "x_test   = tf.keras.utils.normalize(x_test, axis=1)\n",
    "\n",
    "model = tf.keras.models.Sequential()\n",
    "model.add(tf.keras.layers.Flatten())\n",
    "model.add(tf.keras.layers.Dense(128, activation=tf.nn.relu))\n",
    "model.add(tf.keras.layers.Dense(128, activation=tf.nn.relu))\n",
    "model.add(tf.keras.layers.Dense(10, activation=tf.nn.softmax))\n",
    "\n",
    "model.compile(optimizer=tf.keras.optimizers.Adam(), loss=tf.keras.losses.sparse_categorical_crossentropy, metrics=['accuracy'])\n",
    "model.fit(x=x_train, y=y_train, epochs=3, validation_split=.3)"
   ]
  },
  {
   "cell_type": "markdown",
   "metadata": {},
   "source": [
    "### Evaluating the model on the test dataset"
   ]
  },
  {
   "cell_type": "code",
   "execution_count": 44,
   "metadata": {},
   "outputs": [
    {
     "name": "stdout",
     "output_type": "stream",
     "text": [
      "10000/10000 [==============================] - 1s 60us/step\n",
      "Test loss =     0.11  and Test accuracy =     0.97\n"
     ]
    }
   ],
   "source": [
    "test_loss, test_acc = model.evaluate(x=x_test, y=y_test)\n",
    "print 'Test loss = %8.2f' %test_loss, ' and Test accuracy = %8.2f' %test_acc"
   ]
  }
 ],
 "metadata": {
  "kernelspec": {
   "display_name": "Python 2",
   "language": "python",
   "name": "python2"
  },
  "language_info": {
   "codemirror_mode": {
    "name": "ipython",
    "version": 2
   },
   "file_extension": ".py",
   "mimetype": "text/x-python",
   "name": "python",
   "nbconvert_exporter": "python",
   "pygments_lexer": "ipython2",
   "version": "2.7.15"
  }
 },
 "nbformat": 4,
 "nbformat_minor": 2
}
