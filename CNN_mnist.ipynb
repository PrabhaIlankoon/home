{
  "nbformat": 4,
  "nbformat_minor": 0,
  "metadata": {
    "colab": {
      "name": "CNN_mnist.ipynb",
      "version": "0.3.2",
      "provenance": [],
      "collapsed_sections": []
    },
    "language_info": {
      "codemirror_mode": {
        "name": "ipython",
        "version": 2
      },
      "file_extension": ".py",
      "mimetype": "text/x-python",
      "name": "python",
      "nbconvert_exporter": "python",
      "pygments_lexer": "ipython2",
      "version": "2.7.13"
    },
    "kernelspec": {
      "name": "python2",
      "display_name": "Python 2"
    },
    "accelerator": "TPU"
  },
  "cells": [
    {
      "cell_type": "markdown",
      "metadata": {
        "id": "dl8gU9GOty21",
        "colab_type": "text"
      },
      "source": [
        "# Keras - Classifying MNIST dataset with CNN"
      ]
    },
    {
      "cell_type": "markdown",
      "metadata": {
        "id": "q_UWJysWty27",
        "colab_type": "text"
      },
      "source": [
        "From Wikipedia, the free encyclopedia (https://en.wikipedia.org/wiki/MNIST_database)\n",
        "\n",
        "The MNIST database (Modified National Institute of Standards and Technology database) is a large database of handwritten digits that is commonly used for training various image processing systems.The database is also widely used for training and testing in the field of machine learning. It was created by \"re-mixing\" the samples from NIST's original datasets. The creators felt that since NIST's training dataset was taken from American Census Bureau employees, while the testing dataset was taken from American high school students, it was not well-suited for machine learning experiments. Furthermore, the black and white images from NIST were normalized to fit into a 28x28 pixel bounding box and anti-aliased, which introduced grayscale levels.\n",
        "\n",
        "The MNIST database contains 60,000 training images and 10,000 testing images. Half of the training set and half of the test set were taken from NIST's training dataset, while the other half of the training set and the other half of the test set were taken from NIST's testing dataset. There have been a number of scientific papers on attempts to achieve the lowest error rate; one paper, using a hierarchical system of convolutional neural networks, manages to get an error rate on the MNIST database of 0.23 percent. The original creators of the database keep a list of some of the methods tested on it. In their original paper, they use a support vector machine to get an error rate of 0.8 percent.An extended dataset similar to MNIST called EMNIST has been published in 2017, which contains 240,000 training images, and 40,000 testing images of handwritten digits.\n",
        "\n",
        "THE MNIST DATABASE of handwritten digits - http://yann.lecun.com/exdb/mnist/"
      ]
    },
    {
      "cell_type": "markdown",
      "metadata": {
        "id": "jb2UL5Dvty29",
        "colab_type": "text"
      },
      "source": [
        "### Loading the MNIST dataset"
      ]
    },
    {
      "cell_type": "code",
      "metadata": {
        "id": "JWshYbqVty3B",
        "colab_type": "code",
        "outputId": "e599fd74-b2c9-41c8-ba79-2f27a1e47b65",
        "colab": {
          "base_uri": "https://localhost:8080/",
          "height": 54
        }
      },
      "source": [
        "from keras.datasets import mnist #importing the MNIST dataset\n",
        "(x_train, y_train), (x_test, y_test) = mnist.load_data()\n",
        "print \"x_train shape = \", x_train.shape, \"y_train shape = \", y_train.shape\n",
        "print \"x_test shape = \", x_test.shape, \"y_test shape = \", y_test.shape"
      ],
      "execution_count": 31,
      "outputs": [
        {
          "output_type": "stream",
          "text": [
            "x_train shape =  (60000, 28, 28) y_train shape =  (60000,)\n",
            "x_test shape =  (10000, 28, 28) y_test shape =  (10000,)\n"
          ],
          "name": "stdout"
        }
      ]
    },
    {
      "cell_type": "markdown",
      "metadata": {
        "id": "9Cp_mT0zty3P",
        "colab_type": "text"
      },
      "source": [
        "### Plotting digits"
      ]
    },
    {
      "cell_type": "code",
      "metadata": {
        "id": "vj7pMx2hty3R",
        "colab_type": "code",
        "outputId": "a6be6b93-ef68-4225-949c-5a1e9bbcb4dd",
        "colab": {
          "base_uri": "https://localhost:8080/",
          "height": 287
        }
      },
      "source": [
        "import matplotlib.pyplot as plt\n",
        "%matplotlib inline\n",
        "plt.imshow(x_train[0]) #plots the first digit stored in the training dataset"
      ],
      "execution_count": 32,
      "outputs": [
        {
          "output_type": "execute_result",
          "data": {
            "text/plain": [
              "<matplotlib.image.AxesImage at 0x7fbc700a7390>"
            ]
          },
          "metadata": {
            "tags": []
          },
          "execution_count": 32
        },
        {
          "output_type": "display_data",
          "data": {
            "image/png": "[encoded data removed]",
            "text/plain": [
              "<Figure size 432x288 with 1 Axes>"
            ]
          },
          "metadata": {
            "tags": []
          }
        }
      ]
    },
    {
      "cell_type": "code",
      "metadata": {
        "id": "Sx2XeDJ-ty3a",
        "colab_type": "code",
        "outputId": "21631029-4649-4ce3-bc3d-229da8646bd2",
        "colab": {
          "base_uri": "https://localhost:8080/",
          "height": 287
        }
      },
      "source": [
        "plt.imshow(x_test[0]) #plots the first digit stored in the testing dataset"
      ],
      "execution_count": 33,
      "outputs": [
        {
          "output_type": "execute_result",
          "data": {
            "text/plain": [
              "<matplotlib.image.AxesImage at 0x7fbc70081e50>"
            ]
          },
          "metadata": {
            "tags": []
          },
          "execution_count": 33
        },
        {
          "output_type": "display_data",
          "data": {
            "image/png": "[encoded data removed]",
            "text/plain": [
              "<Figure size 432x288 with 1 Axes>"
            ]
          },
          "metadata": {
            "tags": []
          }
        }
      ]
    },
    {
      "cell_type": "markdown",
      "metadata": {
        "id": "-cJoxO-gty3l",
        "colab_type": "text"
      },
      "source": [
        "### Casting inputs to float32"
      ]
    },
    {
      "cell_type": "code",
      "metadata": {
        "id": "ifw3qyEBty3n",
        "colab_type": "code",
        "colab": {}
      },
      "source": [
        "x_train = x_train.astype('float32')\n",
        "x_test  = x_test.astype('float32')"
      ],
      "execution_count": 0,
      "outputs": []
    },
    {
      "cell_type": "markdown",
      "metadata": {
        "id": "GSiJF5J0ty36",
        "colab_type": "text"
      },
      "source": [
        "### Normalizing the inputs"
      ]
    },
    {
      "cell_type": "code",
      "metadata": {
        "id": "uiwDoSNgty38",
        "colab_type": "code",
        "colab": {}
      },
      "source": [
        "x_train /= 255\n",
        "x_test  /= 255"
      ],
      "execution_count": 0,
      "outputs": []
    },
    {
      "cell_type": "markdown",
      "metadata": {
        "id": "bac9WQD6g4TN",
        "colab_type": "text"
      },
      "source": [
        "###Reshaping the dataset"
      ]
    },
    {
      "cell_type": "markdown",
      "metadata": {
        "id": "gjw4hbGCiCbD",
        "colab_type": "text"
      },
      "source": [
        "Next, we need to reshape our dataset inputs (x_train and x_test) to the shape that our model expects when we train the model. The first number is the number of images (60,000 for x_train and 10,000 for x_test). Then comes the shape of each image (28x28). The last number is 1, which signifies that the images are greyscale."
      ]
    },
    {
      "cell_type": "code",
      "metadata": {
        "id": "5qe-uFwba2Vb",
        "colab_type": "code",
        "colab": {}
      },
      "source": [
        "x_train = x_train.reshape(60000, 28, 28, 1)\n",
        "x_test = x_test.reshape(10000, 28, 28, 1)"
      ],
      "execution_count": 0,
      "outputs": []
    },
    {
      "cell_type": "markdown",
      "metadata": {
        "id": "YKsHKrFkty4E",
        "colab_type": "text"
      },
      "source": [
        "### Converting labels to one-hot vectors"
      ]
    },
    {
      "cell_type": "code",
      "metadata": {
        "id": "_inee25Ety4F",
        "colab_type": "code",
        "outputId": "80218610-ff2b-4b5c-ce97-d260a1bf9728",
        "colab": {
          "base_uri": "https://localhost:8080/",
          "height": 90
        }
      },
      "source": [
        "from keras.utils import np_utils\n",
        "\n",
        "NB_CLASSES = 10 # (number of classes)\n",
        "y_train_one_hot = np_utils.to_categorical(y_train, NB_CLASSES) \n",
        "y_test_one_hot  = np_utils.to_categorical(y_test, NB_CLASSES)\n",
        "print \"Dimension of y_train_one_hot = \", y_train_one_hot.shape\n",
        "print \"Dimension of y_test_one_hot  = \", y_test_one_hot.shape\n",
        "print y_train[0], \"=>\", y_train_one_hot[0]\n",
        "print y_test[0],  \"=>\", y_test_one_hot[0]"
      ],
      "execution_count": 37,
      "outputs": [
        {
          "output_type": "stream",
          "text": [
            "Dimension of y_train_one_hot =  (60000, 10)\n",
            "Dimension of y_test_one_hot  =  (10000, 10)\n",
            "5 => [0. 0. 0. 0. 0. 1. 0. 0. 0. 0.]\n",
            "7 => [0. 0. 0. 0. 0. 0. 0. 1. 0. 0.]\n"
          ],
          "name": "stdout"
        }
      ]
    },
    {
      "cell_type": "markdown",
      "metadata": {
        "id": "IvLumHv9ty4O",
        "colab_type": "text"
      },
      "source": [
        "### Building the CNN model"
      ]
    },
    {
      "cell_type": "code",
      "metadata": {
        "id": "-TOU5-H_eDk5",
        "colab_type": "code",
        "outputId": "ff3c8fc6-07ee-45d1-ccf3-207c2393bdef",
        "colab": {
          "base_uri": "https://localhost:8080/",
          "height": 439
        }
      },
      "source": [
        "from keras.models import Sequential\n",
        "from keras.layers import Dense, Conv2D, MaxPool2D, Flatten\n",
        "import keras\n",
        "\n",
        "model = Sequential()\n",
        "#C1 Convolutional Layer, padding='same' means the input and the output has the\n",
        "#same length\n",
        "model.add(Conv2D(filters=6, kernel_size=(5,5), strides=(1,1), \n",
        "                 activation='tanh', input_shape=(28,28, 1), padding='same'))\n",
        "#S2 Pooling Layer, padding='valid' means no padding\n",
        "model.add(MaxPool2D(pool_size=(2,2), strides=(1,1), padding='valid'))\n",
        "#C3 Convolutional Layer\n",
        "model.add(Conv2D(filters=16, kernel_size=(5,5), strides=(1,1), \n",
        "                 activation='tanh', padding='valid'))\n",
        "#S4 Pooling Layer\n",
        "model.add(MaxPool2D(pool_size=(2,2), strides=(2,2), padding='valid'))\n",
        "#C5 Convolutional Layer\n",
        "model.add(Conv2D(filters=120, kernel_size=(5,5), strides=(1,1), \n",
        "                 activation='tanh', padding='valid'))\n",
        "#Flatten the CNN output so that it can connect with the next\n",
        "#fully connected layer\n",
        "model.add(Flatten())\n",
        "#F6 Fully Connected Layer\n",
        "model.add(Dense(units=84, activation='tanh'))\n",
        "#Output Layer with softmax activation\n",
        "model.add(Dense(10, activation='softmax'))\n",
        "model.summary()"
      ],
      "execution_count": 38,
      "outputs": [
        {
          "output_type": "stream",
          "text": [
            "_________________________________________________________________\n",
            "Layer (type)                 Output Shape              Param #   \n",
            "=================================================================\n",
            "conv2d_7 (Conv2D)            (None, 28, 28, 6)         156       \n",
            "_________________________________________________________________\n",
            "max_pooling2d_5 (MaxPooling2 (None, 27, 27, 6)         0         \n",
            "_________________________________________________________________\n",
            "conv2d_8 (Conv2D)            (None, 23, 23, 16)        2416      \n",
            "_________________________________________________________________\n",
            "max_pooling2d_6 (MaxPooling2 (None, 11, 11, 16)        0         \n",
            "_________________________________________________________________\n",
            "conv2d_9 (Conv2D)            (None, 7, 7, 120)         48120     \n",
            "_________________________________________________________________\n",
            "flatten_3 (Flatten)          (None, 5880)              0         \n",
            "_________________________________________________________________\n",
            "dense_5 (Dense)              (None, 84)                494004    \n",
            "_________________________________________________________________\n",
            "dense_6 (Dense)              (None, 10)                850       \n",
            "=================================================================\n",
            "Total params: 545,546\n",
            "Trainable params: 545,546\n",
            "Non-trainable params: 0\n",
            "_________________________________________________________________\n"
          ],
          "name": "stdout"
        }
      ]
    },
    {
      "cell_type": "markdown",
      "metadata": {
        "id": "gbNKB3FRty4X",
        "colab_type": "text"
      },
      "source": [
        "### Compiling the model"
      ]
    },
    {
      "cell_type": "code",
      "metadata": {
        "id": "h0NqGfXRty4Y",
        "colab_type": "code",
        "colab": {}
      },
      "source": [
        "from keras.optimizers import SGD\n",
        "\n",
        "OPTIMIZER = SGD(lr=0.1)\n",
        "model.compile(optimizer=OPTIMIZER, loss=keras.losses.categorical_crossentropy, \n",
        "              metrics=['accuracy'])"
      ],
      "execution_count": 0,
      "outputs": []
    },
    {
      "cell_type": "markdown",
      "metadata": {
        "id": "O0dFmxXKty4h",
        "colab_type": "text"
      },
      "source": [
        "### Fitting the model"
      ]
    },
    {
      "cell_type": "code",
      "metadata": {
        "id": "bogLH8ZsT-HH",
        "colab_type": "code",
        "colab": {
          "base_uri": "https://localhost:8080/",
          "height": 770
        },
        "outputId": "239468c1-7bfa-4a8a-fad2-a35ab758ca15"
      },
      "source": [
        "model_history = model.fit(x=x_train, y=y_train_one_hot, epochs=20, batch_size=128, validation_data=(x_test, y_test_one_hot), verbose=1)"
      ],
      "execution_count": 40,
      "outputs": [
        {
          "output_type": "stream",
          "text": [
            "Train on 60000 samples, validate on 10000 samples\n",
            "Epoch 1/20\n",
            "60000/60000 [==============================] - 6s 100us/step - loss: 0.2764 - acc: 0.9194 - val_loss: 0.1255 - val_acc: 0.9644\n",
            "Epoch 2/20\n",
            "60000/60000 [==============================] - 5s 89us/step - loss: 0.0989 - acc: 0.9712 - val_loss: 0.0742 - val_acc: 0.9766\n",
            "Epoch 3/20\n",
            "60000/60000 [==============================] - 5s 89us/step - loss: 0.0631 - acc: 0.9821 - val_loss: 0.0662 - val_acc: 0.9796\n",
            "Epoch 4/20\n",
            "60000/60000 [==============================] - 5s 87us/step - loss: 0.0472 - acc: 0.9863 - val_loss: 0.0453 - val_acc: 0.9870\n",
            "Epoch 5/20\n",
            "60000/60000 [==============================] - 5s 87us/step - loss: 0.0375 - acc: 0.9891 - val_loss: 0.0405 - val_acc: 0.9880\n",
            "Epoch 6/20\n",
            "60000/60000 [==============================] - 5s 87us/step - loss: 0.0309 - acc: 0.9911 - val_loss: 0.0388 - val_acc: 0.9884\n",
            "Epoch 7/20\n",
            "60000/60000 [==============================] - 5s 87us/step - loss: 0.0259 - acc: 0.9931 - val_loss: 0.0546 - val_acc: 0.9820\n",
            "Epoch 8/20\n",
            "60000/60000 [==============================] - 5s 88us/step - loss: 0.0222 - acc: 0.9940 - val_loss: 0.0342 - val_acc: 0.9888\n",
            "Epoch 9/20\n",
            "60000/60000 [==============================] - 5s 87us/step - loss: 0.0189 - acc: 0.9953 - val_loss: 0.0324 - val_acc: 0.9893\n",
            "Epoch 10/20\n",
            "60000/60000 [==============================] - 5s 87us/step - loss: 0.0158 - acc: 0.9964 - val_loss: 0.0293 - val_acc: 0.9901\n",
            "Epoch 11/20\n",
            "60000/60000 [==============================] - 5s 87us/step - loss: 0.0139 - acc: 0.9970 - val_loss: 0.0275 - val_acc: 0.9905\n",
            "Epoch 12/20\n",
            "60000/60000 [==============================] - 5s 88us/step - loss: 0.0120 - acc: 0.9977 - val_loss: 0.0284 - val_acc: 0.9901\n",
            "Epoch 13/20\n",
            "60000/60000 [==============================] - 5s 87us/step - loss: 0.0105 - acc: 0.9979 - val_loss: 0.0281 - val_acc: 0.9912\n",
            "Epoch 14/20\n",
            "60000/60000 [==============================] - 5s 88us/step - loss: 0.0092 - acc: 0.9986 - val_loss: 0.0283 - val_acc: 0.9908\n",
            "Epoch 15/20\n",
            "60000/60000 [==============================] - 5s 86us/step - loss: 0.0081 - acc: 0.9987 - val_loss: 0.0268 - val_acc: 0.9919\n",
            "Epoch 16/20\n",
            "60000/60000 [==============================] - 5s 85us/step - loss: 0.0073 - acc: 0.9989 - val_loss: 0.0261 - val_acc: 0.9913\n",
            "Epoch 17/20\n",
            "60000/60000 [==============================] - 5s 87us/step - loss: 0.0065 - acc: 0.9991 - val_loss: 0.0262 - val_acc: 0.9916\n",
            "Epoch 18/20\n",
            "60000/60000 [==============================] - 5s 87us/step - loss: 0.0058 - acc: 0.9992 - val_loss: 0.0277 - val_acc: 0.9914\n",
            "Epoch 19/20\n",
            "60000/60000 [==============================] - 5s 87us/step - loss: 0.0055 - acc: 0.9992 - val_loss: 0.0260 - val_acc: 0.9919\n",
            "Epoch 20/20\n",
            "60000/60000 [==============================] - 5s 86us/step - loss: 0.0046 - acc: 0.9995 - val_loss: 0.0263 - val_acc: 0.9918\n"
          ],
          "name": "stdout"
        }
      ]
    },
    {
      "cell_type": "markdown",
      "metadata": {
        "id": "g5ONisrMty4q",
        "colab_type": "text"
      },
      "source": [
        "### Evaluating the model"
      ]
    },
    {
      "cell_type": "code",
      "metadata": {
        "id": "O7kggasgty4s",
        "colab_type": "code",
        "outputId": "070aa30a-dc27-4539-b52d-1914d9110d4d",
        "colab": {
          "base_uri": "https://localhost:8080/",
          "height": 35
        }
      },
      "source": [
        "score = model.evaluate(x_test, y_test_one_hot, verbose=2) \n",
        "print('Test accuracy:', score[1])"
      ],
      "execution_count": 41,
      "outputs": [
        {
          "output_type": "stream",
          "text": [
            "('Test accuracy:', 0.9918)\n"
          ],
          "name": "stdout"
        }
      ]
    },
    {
      "cell_type": "markdown",
      "metadata": {
        "id": "LatZgVljty43",
        "colab_type": "text"
      },
      "source": [
        "### Predicting the class"
      ]
    },
    {
      "cell_type": "code",
      "metadata": {
        "id": "nJAEYvsity44",
        "colab_type": "code",
        "outputId": "705b81f8-ad3d-4a16-87d7-eee1fdde5356",
        "colab": {
          "base_uri": "https://localhost:8080/",
          "height": 35
        }
      },
      "source": [
        "y_probability = model.predict(x_test)\n",
        "y_classes = y_probability.argmax(axis=-1)\n",
        "print \"True class = \", y_test[0], \"Predicted class = \", y_classes[0]"
      ],
      "execution_count": 42,
      "outputs": [
        {
          "output_type": "stream",
          "text": [
            "True class =  7 Predicted class =  7\n"
          ],
          "name": "stdout"
        }
      ]
    },
    {
      "cell_type": "markdown",
      "metadata": {
        "id": "FPKfLDjuty4_",
        "colab_type": "text"
      },
      "source": [
        "### Plotting the model performances"
      ]
    },
    {
      "cell_type": "code",
      "metadata": {
        "id": "JWJPrt7Mty5B",
        "colab_type": "code",
        "outputId": "072ad1de-e890-42f0-8720-076f79876a3b",
        "colab": {
          "base_uri": "https://localhost:8080/",
          "height": 549
        }
      },
      "source": [
        "import matplotlib.pyplot as plt\n",
        "%matplotlib inline\n",
        "\n",
        "def plot_history(network_history):\n",
        "    plt.figure()\n",
        "    plt.xlabel('Epochs')\n",
        "    plt.ylabel('Loss')\n",
        "    plt.plot(network_history.history['loss'])\n",
        "    plt.plot(network_history.history['val_loss'])\n",
        "    plt.legend(['Training', 'Validation'])\n",
        "\n",
        "    plt.figure()\n",
        "    plt.xlabel('Epochs')\n",
        "    plt.ylabel('Accuracy')\n",
        "    plt.plot(network_history.history['acc'])\n",
        "    plt.plot(network_history.history['val_acc'])\n",
        "    plt.legend(['Training', 'Validation'], loc='lower right')\n",
        "    plt.show()\n",
        "\n",
        "plot_history(model_history)"
      ],
      "execution_count": 43,
      "outputs": [
        {
          "output_type": "display_data",
          "data": {
            "image/png": "[encoded data removed]",
            "text/plain": [
              "<Figure size 432x288 with 1 Axes>"
            ]
          },
          "metadata": {
            "tags": []
          }
        },
        {
          "output_type": "display_data",
          "data": {
            "image/png": "[encoded data removed]",
            "text/plain": [
              "<Figure size 432x288 with 1 Axes>"
            ]
          },
          "metadata": {
            "tags": []
          }
        }
      ]
    },
    {
      "cell_type": "markdown",
      "metadata": {
        "id": "v_cwTde_ty5I",
        "colab_type": "text"
      },
      "source": [
        "### Saving the trained model and its weights"
      ]
    },
    {
      "cell_type": "code",
      "metadata": {
        "id": "8QFDIC2Gty5K",
        "colab_type": "code",
        "colab": {}
      },
      "source": [
        "json_string = model.to_json() # as json \n",
        "open('mlp_mnist_v1_model.json', 'w').write(json_string)\n",
        "# save the weights in h5 format \n",
        "model.save_weights('mlp_mnist_v1_wts.h5')"
      ],
      "execution_count": 0,
      "outputs": []
    },
    {
      "cell_type": "markdown",
      "metadata": {
        "id": "TC7vLwbuty5Q",
        "colab_type": "text"
      },
      "source": [
        "### Retrieving a trained model and its weights"
      ]
    },
    {
      "cell_type": "code",
      "metadata": {
        "id": "qnzna-b0ty5S",
        "colab_type": "code",
        "outputId": "2dceb3ba-5366-4054-eb90-0bc2ac6e0df5",
        "colab": {
          "base_uri": "https://localhost:8080/",
          "height": 476
        }
      },
      "source": [
        "from keras.models import model_from_json\n",
        "model1 = model_from_json(open('mlp_mnist_v1_model.json').read())\n",
        "model1.load_weights('mlp_mnist_v1_wts.h5')\n",
        "model1.summary()\n",
        "model1.compile(optimizer='sgd', loss='categorical_crossentropy', \n",
        "               metrics=['accuracy'])\n",
        "score = model1.evaluate(x_test, y_test_one_hot, verbose=0) \n",
        "print('Test accuracy:', score[1])\n",
        "\n",
        "y_probability = model.predict(x_test)\n",
        "y_classes = y_probability.argmax(axis=-1)\n",
        "print \"True class = \", y_test[0], \"Predicted class = \", y_classes[0]"
      ],
      "execution_count": 45,
      "outputs": [
        {
          "output_type": "stream",
          "text": [
            "_________________________________________________________________\n",
            "Layer (type)                 Output Shape              Param #   \n",
            "=================================================================\n",
            "conv2d_7 (Conv2D)            (None, 28, 28, 6)         156       \n",
            "_________________________________________________________________\n",
            "max_pooling2d_5 (MaxPooling2 (None, 27, 27, 6)         0         \n",
            "_________________________________________________________________\n",
            "conv2d_8 (Conv2D)            (None, 23, 23, 16)        2416      \n",
            "_________________________________________________________________\n",
            "max_pooling2d_6 (MaxPooling2 (None, 11, 11, 16)        0         \n",
            "_________________________________________________________________\n",
            "conv2d_9 (Conv2D)            (None, 7, 7, 120)         48120     \n",
            "_________________________________________________________________\n",
            "flatten_3 (Flatten)          (None, 5880)              0         \n",
            "_________________________________________________________________\n",
            "dense_5 (Dense)              (None, 84)                494004    \n",
            "_________________________________________________________________\n",
            "dense_6 (Dense)              (None, 10)                850       \n",
            "=================================================================\n",
            "Total params: 545,546\n",
            "Trainable params: 545,546\n",
            "Non-trainable params: 0\n",
            "_________________________________________________________________\n",
            "('Test accuracy:', 0.9918)\n",
            "True class =  7 Predicted class =  7\n"
          ],
          "name": "stdout"
        }
      ]
    }
  ]
}