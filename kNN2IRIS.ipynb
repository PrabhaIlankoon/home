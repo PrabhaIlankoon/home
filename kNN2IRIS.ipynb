{
  "nbformat": 4,
  "nbformat_minor": 0,
  "metadata": {
    "colab": {
      "name": "kNN2IRIS.ipynb",
      "version": "0.3.2",
      "provenance": [],
      "collapsed_sections": []
    },
    "kernelspec": {
      "name": "python2",
      "display_name": "Python 2"
    }
  },
  "cells": [
    {
      "cell_type": "markdown",
      "metadata": {
        "id": "OxKlXxLuIJxQ",
        "colab_type": "text"
      },
      "source": [
        "# k Nearest Neighbour Algorithm to IRIS Dataset\n"
      ]
    },
    {
      "cell_type": "markdown",
      "metadata": {
        "id": "Z5ZqK9LXIgWJ",
        "colab_type": "text"
      },
      "source": [
        "## Loading the IRIS Dataset\n"
      ]
    },
    {
      "cell_type": "code",
      "metadata": {
        "id": "EEH4LLTF3oTT",
        "colab_type": "code",
        "colab": {}
      },
      "source": [
        "from sklearn.datasets import load_iris"
      ],
      "execution_count": 0,
      "outputs": []
    },
    {
      "cell_type": "code",
      "metadata": {
        "id": "rTLVFqey4FWW",
        "colab_type": "code",
        "colab": {}
      },
      "source": [
        "iris = load_iris()"
      ],
      "execution_count": 0,
      "outputs": []
    },
    {
      "cell_type": "code",
      "metadata": {
        "id": "TePzJWd74I1j",
        "colab_type": "code",
        "colab": {}
      },
      "source": [
        "X = iris.data\n",
        "y = iris.target"
      ],
      "execution_count": 0,
      "outputs": []
    },
    {
      "cell_type": "code",
      "metadata": {
        "id": "ZdTTKnXk9g9F",
        "colab_type": "code",
        "outputId": "f91e12eb-97b5-4833-bef0-54f6a0313952",
        "colab": {
          "base_uri": "https://localhost:8080/",
          "height": 54
        }
      },
      "source": [
        "print \"size(X) = \", X.shape\n",
        "print \"size(y) = \", y.shape"
      ],
      "execution_count": 0,
      "outputs": [
        {
          "output_type": "stream",
          "text": [
            "size(X) =  (150, 4)\n",
            "size(y) =  (150,)\n"
          ],
          "name": "stdout"
        }
      ]
    },
    {
      "cell_type": "markdown",
      "metadata": {
        "id": "LEhH2PFSI8QV",
        "colab_type": "text"
      },
      "source": [
        "##Spliting the Dataset to Train and Test Datasets"
      ]
    },
    {
      "cell_type": "code",
      "metadata": {
        "id": "pZa_TvWq93CW",
        "colab_type": "code",
        "outputId": "79566ed5-90f0-46f7-c1ce-670005b523df",
        "colab": {
          "base_uri": "https://localhost:8080/",
          "height": 90
        }
      },
      "source": [
        "from sklearn.model_selection import train_test_split\n",
        "X_train, X_test, y_train, y_test = train_test_split(X, y, test_size=0.2)\n",
        "print \"Size(X_train) = \", X_train.shape\n",
        "print \"Size(y_train) = \", y_train.shape\n",
        "print \"Size(X_test) = \", X_test.shape\n",
        "print \"Size(y_test) = \", y_test.shape"
      ],
      "execution_count": 0,
      "outputs": [
        {
          "output_type": "stream",
          "text": [
            "Size(X_train) =  (120, 4)\n",
            "Size(y_train) =  (120,)\n",
            "Size(X_test) =  (30, 4)\n",
            "Size(y_test) =  (30,)\n"
          ],
          "name": "stdout"
        }
      ]
    },
    {
      "cell_type": "markdown",
      "metadata": {
        "id": "3WZ4wzm7JV3l",
        "colab_type": "text"
      },
      "source": [
        "##Fitting the k Nearest Neighbour Model to the Training Dataset"
      ]
    },
    {
      "cell_type": "code",
      "metadata": {
        "id": "cGFT9KUJ_uIj",
        "colab_type": "code",
        "outputId": "81d79d89-fa97-4dc0-b3a8-4ebedb431e80",
        "colab": {
          "base_uri": "https://localhost:8080/",
          "height": 72
        }
      },
      "source": [
        "from sklearn.neighbors import KNeighborsClassifier\n",
        "from sklearn import metrics\n",
        "\n",
        "knn = KNeighborsClassifier(n_neighbors=5)\n",
        "knn.fit(X_train, y_train)\n",
        "y_pred = knn.predict(X_test)\n",
        "print \"y_test = \", y_test\n",
        "print \"y_pred = \", y_pred\n",
        "score = metrics.accuracy_score(y_test, y_pred)\n",
        "print \"Accuracy Score = \", score"
      ],
      "execution_count": 0,
      "outputs": [
        {
          "output_type": "stream",
          "text": [
            "y_test =  [2 2 1 2 1 1 1 0 2 0 2 1 2 1 2 2 0 1 2 2 2 0 2 2 1 2 0 1 0 2]\n",
            "y_pred =  [2 2 1 2 1 1 1 0 2 0 2 1 2 1 2 2 0 1 2 2 2 0 2 2 1 2 0 1 0 1]\n",
            "Accuracy Score =  0.9666666666666667\n"
          ],
          "name": "stdout"
        }
      ]
    },
    {
      "cell_type": "markdown",
      "metadata": {
        "id": "itzuu7UjJwEh",
        "colab_type": "text"
      },
      "source": [
        "##Testing the Accuracy of KNN for different values of k"
      ]
    },
    {
      "cell_type": "code",
      "metadata": {
        "id": "682GlzURCHjQ",
        "colab_type": "code",
        "colab": {}
      },
      "source": [
        "k_range = range(1,26)\n",
        "scores = {}\n",
        "scores_list = []\n",
        "for k in k_range:\n",
        "  knn = KNeighborsClassifier(n_neighbors=k)\n",
        "  knn.fit(X_train, y_train)\n",
        "  y_pred = knn.predict(X_test)\n",
        "  scores[k] = metrics.accuracy_score(y_test, y_pred)\n",
        "  scores_list.append(metrics.accuracy_score(y_test, y_pred))"
      ],
      "execution_count": 0,
      "outputs": []
    },
    {
      "cell_type": "code",
      "metadata": {
        "id": "cKzfTkHJEbGy",
        "colab_type": "code",
        "outputId": "ff8daa68-1e24-4c97-f3ac-d98d3a3ae4cf",
        "colab": {
          "base_uri": "https://localhost:8080/",
          "height": 295
        }
      },
      "source": [
        "import matplotlib.pyplot as plt\n",
        "%matplotlib inline\n",
        "\n",
        "plt.plot(k_range, scores_list)\n",
        "plt.xlabel('Value of k for kNN')\n",
        "plt.ylabel('Testing Accuracy')\n",
        "plt.title('Testing Accuracy against k')\n",
        "plt.grid()"
      ],
      "execution_count": 0,
      "outputs": [
        {
          "output_type": "display_data",
          "data": {
            "image/png": "[encoded data removed]",
            "text/plain": [
              "<Figure size 432x288 with 1 Axes>"
            ]
          },
          "metadata": {
            "tags": []
          }
        }
      ]
    }
  ]
}