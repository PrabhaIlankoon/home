{
  "nbformat": 4,
  "nbformat_minor": 0,
  "metadata": {
    "colab": {
      "name": "ImportIRIS2ColabNotebook.ipynb",
      "version": "0.3.2",
      "provenance": [],
      "collapsed_sections": []
    },
    "kernelspec": {
      "name": "python2",
      "display_name": "Python 2"
    }
  },
  "cells": [
    {
      "cell_type": "markdown",
      "metadata": {
        "id": "4dTuZl_2NEV2",
        "colab_type": "text"
      },
      "source": [
        "# Importing CSV file (e.g. IRIS) to a CoLab Notebook"
      ]
    },
    {
      "cell_type": "code",
      "metadata": {
        "id": "CCAuRRfQNgG1",
        "colab_type": "code",
        "colab": {}
      },
      "source": [
        "from google.colab import files"
      ],
      "execution_count": 0,
      "outputs": []
    },
    {
      "cell_type": "code",
      "metadata": {
        "id": "8hycABJNNqVt",
        "colab_type": "code",
        "outputId": "f3f9deef-b268-43e4-e0b7-d6bd7eaca421",
        "colab": {
          "resources": {
            "http://localhost:8080/nbextensions/google.colab/files.js": {
              "data": "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",
              "ok": true,
              "headers": [
                [
                  "content-type",
                  "application/javascript"
                ]
              ],
              "status": 200,
              "status_text": "OK"
            }
          },
          "base_uri": "https://localhost:8080/",
          "height": 84
        }
      },
      "source": [
        "uploaded = files.upload()"
      ],
      "execution_count": 2,
      "outputs": [
        {
          "output_type": "display_data",
          "data": {
            "text/plain": [
              "<IPython.core.display.HTML object>"
            ],
            "text/html": [
              "\n",
              "     <input type=\"file\" id=\"files-5e483878-b379-4e77-b9e8-6610675e5677\" name=\"files[]\" multiple disabled />\n",
              "     <output id=\"result-5e483878-b379-4e77-b9e8-6610675e5677\">\n",
              "      Upload widget is only available when the cell has been executed in the\n",
              "      current browser session. Please rerun this cell to enable.\n",
              "      </output>\n",
              "      <script src=\"/nbextensions/google.colab/files.js\"></script> "
            ]
          },
          "metadata": {
            "tags": []
          }
        },
        {
          "output_type": "stream",
          "text": [
            "Saving IRIS.csv to IRIS.csv\n"
          ],
          "name": "stdout"
        }
      ]
    },
    {
      "cell_type": "code",
      "metadata": {
        "id": "C1fy0d2toLAk",
        "colab_type": "code",
        "outputId": "82a35675-c7dd-4226-eee9-c958f2c245f2",
        "colab": {
          "base_uri": "https://localhost:8080/",
          "height": 35
        }
      },
      "source": [
        "for fn in uploaded.keys():\n",
        "  print('User uploaded file \"{name}\" with length {length} bytes'.format(\n",
        "      name=fn, length=len(uploaded[fn])))"
      ],
      "execution_count": 3,
      "outputs": [
        {
          "output_type": "stream",
          "text": [
            "User uploaded file \"IRIS.csv\" with length 2614 bytes\n"
          ],
          "name": "stdout"
        }
      ]
    },
    {
      "cell_type": "code",
      "metadata": {
        "id": "fo-qogEWo6B1",
        "colab_type": "code",
        "outputId": "16e6d981-ca6d-4ef8-8213-4ca8cef06ed0",
        "colab": {
          "base_uri": "https://localhost:8080/",
          "height": 55
        }
      },
      "source": [
        "uploaded"
      ],
      "execution_count": 4,
      "outputs": [
        {
          "output_type": "execute_result",
          "data": {
            "text/plain": [
              "{u'IRIS.csv': 'sepal_length,sepal_width,petal_length,petal_width,class\\n5.1,3.5,1.4,0.2,0\\n4.9,3,1.4,0.2,0\\n4.7,3.2,1.3,0.2,0\\n4.6,3.1,1.5,0.2,0\\n5,3.6,1.4,0.2,0\\n5.4,3.9,1.7,0.4,0\\n4.6,3.4,1.4,0.3,0\\n5,3.4,1.5,0.2,0\\n4.4,2.9,1.4,0.2,0\\n4.9,3.1,1.5,0.1,0\\n5.4,3.7,1.5,0.2,0\\n4.8,3.4,1.6,0.2,0\\n4.8,3,1.4,0.1,0\\n4.3,3,1.1,0.1,0\\n5.8,4,1.2,0.2,0\\n5.7,4.4,1.5,0.4,0\\n5.4,3.9,1.3,0.4,0\\n5.1,3.5,1.4,0.3,0\\n5.7,3.8,1.7,0.3,0\\n5.1,3.8,1.5,0.3,0\\n5.4,3.4,1.7,0.2,0\\n5.1,3.7,1.5,0.4,0\\n4.6,3.6,1,0.2,0\\n5.1,3.3,1.7,0.5,0\\n4.8,3.4,1.9,0.2,0\\n5,3,1.6,0.2,0\\n5,3.4,1.6,0.4,0\\n5.2,3.5,1.5,0.2,0\\n5.2,3.4,1.4,0.2,0\\n4.7,3.2,1.6,0.2,0\\n4.8,3.1,1.6,0.2,0\\n5.4,3.4,1.5,0.4,0\\n5.2,4.1,1.5,0.1,0\\n5.5,4.2,1.4,0.2,0\\n4.9,3.1,1.5,0.1,0\\n5,3.2,1.2,0.2,0\\n5.5,3.5,1.3,0.2,0\\n4.9,3.1,1.5,0.1,0\\n4.4,3,1.3,0.2,0\\n5.1,3.4,1.5,0.2,0\\n5,3.5,1.3,0.3,0\\n4.5,2.3,1.3,0.3,0\\n4.4,3.2,1.3,0.2,0\\n5,3.5,1.6,0.6,0\\n5.1,3.8,1.9,0.4,0\\n4.8,3,1.4,0.3,0\\n5.1,3.8,1.6,0.2,0\\n4.6,3.2,1.4,0.2,0\\n5.3,3.7,1.5,0.2,0\\n5,3.3,1.4,0.2,0\\n7,3.2,4.7,1.4,1\\n6.4,3.2,4.5,1.5,1\\n6.9,3.1,4.9,1.5,1\\n5.5,2.3,4,1.3,1\\n6.5,2.8,4.6,1.5,1\\n5.7,2.8,4.5,1.3,1\\n6.3,3.3,4.7,1.6,1\\n4.9,2.4,3.3,1,1\\n6.6,2.9,4.6,1.3,1\\n5.2,2.7,3.9,1.4,1\\n5,2,3.5,1,1\\n5.9,3,4.2,1.5,1\\n6,2.2,4,1,1\\n6.1,2.9,4.7,1.4,1\\n5.6,2.9,3.6,1.3,1\\n6.7,3.1,4.4,1.4,1\\n5.6,3,4.5,1.5,1\\n5.8,2.7,4.1,1,1\\n6.2,2.2,4.5,1.5,1\\n5.6,2.5,3.9,1.1,1\\n5.9,3.2,4.8,1.8,1\\n6.1,2.8,4,1.3,1\\n6.3,2.5,4.9,1.5,1\\n6.1,2.8,4.7,1.2,1\\n6.4,2.9,4.3,1.3,1\\n6.6,3,4.4,1.4,1\\n6.8,2.8,4.8,1.4,1\\n6.7,3,5,1.7,1\\n6,2.9,4.5,1.5,1\\n5.7,2.6,3.5,1,1\\n5.5,2.4,3.8,1.1,1\\n5.5,2.4,3.7,1,1\\n5.8,2.7,3.9,1.2,1\\n6,2.7,5.1,1.6,1\\n5.4,3,4.5,1.5,1\\n6,3.4,4.5,1.6,1\\n6.7,3.1,4.7,1.5,1\\n6.3,2.3,4.4,1.3,1\\n5.6,3,4.1,1.3,1\\n5.5,2.5,4,1.3,1\\n5.5,2.6,4.4,1.2,1\\n6.1,3,4.6,1.4,1\\n5.8,2.6,4,1.2,1\\n5,2.3,3.3,1,1\\n5.6,2.7,4.2,1.3,1\\n5.7,3,4.2,1.2,1\\n5.7,2.9,4.2,1.3,1\\n6.2,2.9,4.3,1.3,1\\n5.1,2.5,3,1.1,1\\n5.7,2.8,4.1,1.3,1\\n6.3,3.3,6,2.5,2\\n5.8,2.7,5.1,1.9,2\\n7.1,3,5.9,2.1,2\\n6.3,2.9,5.6,1.8,2\\n6.5,3,5.8,2.2,2\\n7.6,3,6.6,2.1,2\\n4.9,2.5,4.5,1.7,2\\n7.3,2.9,6.3,1.8,2\\n6.7,2.5,5.8,1.8,2\\n7.2,3.6,6.1,2.5,2\\n6.5,3.2,5.1,2,2\\n6.4,2.7,5.3,1.9,2\\n6.8,3,5.5,2.1,2\\n5.7,2.5,5,2,2\\n5.8,2.8,5.1,2.4,2\\n6.4,3.2,5.3,2.3,2\\n6.5,3,5.5,1.8,2\\n7.7,3.8,6.7,2.2,2\\n7.7,2.6,6.9,2.3,2\\n6,2.2,5,1.5,2\\n6.9,3.2,5.7,2.3,2\\n5.6,2.8,4.9,2,2\\n7.7,2.8,6.7,2,2\\n6.3,2.7,4.9,1.8,2\\n6.7,3.3,5.7,2.1,2\\n7.2,3.2,6,1.8,2\\n6.2,2.8,4.8,1.8,2\\n6.1,3,4.9,1.8,2\\n6.4,2.8,5.6,2.1,2\\n7.2,3,5.8,1.6,2\\n7.4,2.8,6.1,1.9,2\\n7.9,3.8,6.4,2,2\\n6.4,2.8,5.6,2.2,2\\n6.3,2.8,5.1,1.5,2\\n6.1,2.6,5.6,1.4,2\\n7.7,3,6.1,2.3,2\\n6.3,3.4,5.6,2.4,2\\n6.4,3.1,5.5,1.8,2\\n6,3,4.8,1.8,2\\n6.9,3.1,5.4,2.1,2\\n6.7,3.1,5.6,2.4,2\\n6.9,3.1,5.1,2.3,2\\n5.8,2.7,5.1,1.9,2\\n6.8,3.2,5.9,2.3,2\\n6.7,3.3,5.7,2.5,2\\n6.7,3,5.2,2.3,2\\n6.3,2.5,5,1.9,2\\n6.5,3,5.2,2,2\\n6.2,3.4,5.4,2.3,2\\n5.9,3,5.1,1.8,2\\n'}"
            ]
          },
          "metadata": {
            "tags": []
          },
          "execution_count": 4
        }
      ]
    },
    {
      "cell_type": "markdown",
      "metadata": {
        "id": "Uph8HhfmN70b",
        "colab_type": "text"
      },
      "source": [
        "##Store the CSV File Data in a Pandas Dataframe"
      ]
    },
    {
      "cell_type": "code",
      "metadata": {
        "id": "xZq0YilcpfHp",
        "colab_type": "code",
        "colab": {}
      },
      "source": [
        "import io\n",
        "import pandas as pd"
      ],
      "execution_count": 0,
      "outputs": []
    },
    {
      "cell_type": "code",
      "metadata": {
        "id": "bjlpIB8ppoH7",
        "colab_type": "code",
        "colab": {}
      },
      "source": [
        "df = pd.read_csv(io.StringIO(uploaded['IRIS.csv'].decode('utf-8')))"
      ],
      "execution_count": 0,
      "outputs": []
    },
    {
      "cell_type": "code",
      "metadata": {
        "id": "XaR45fSTqIRA",
        "colab_type": "code",
        "outputId": "8d59df55-f8ed-409f-a097-8c4c05a482f4",
        "colab": {
          "base_uri": "https://localhost:8080/",
          "height": 206
        }
      },
      "source": [
        "df.head()"
      ],
      "execution_count": 7,
      "outputs": [
        {
          "output_type": "execute_result",
          "data": {
            "text/html": [
              "<div>\n",
              "<style scoped>\n",
              "    .dataframe tbody tr th:only-of-type {\n",
              "        vertical-align: middle;\n",
              "    }\n",
              "\n",
              "    .dataframe tbody tr th {\n",
              "        vertical-align: top;\n",
              "    }\n",
              "\n",
              "    .dataframe thead th {\n",
              "        text-align: right;\n",
              "    }\n",
              "</style>\n",
              "<table border=\"1\" class=\"dataframe\">\n",
              "  <thead>\n",
              "    <tr style=\"text-align: right;\">\n",
              "      <th></th>\n",
              "      <th>sepal_length</th>\n",
              "      <th>sepal_width</th>\n",
              "      <th>petal_length</th>\n",
              "      <th>petal_width</th>\n",
              "      <th>class</th>\n",
              "    </tr>\n",
              "  </thead>\n",
              "  <tbody>\n",
              "    <tr>\n",
              "      <th>0</th>\n",
              "      <td>5.1</td>\n",
              "      <td>3.5</td>\n",
              "      <td>1.4</td>\n",
              "      <td>0.2</td>\n",
              "      <td>0</td>\n",
              "    </tr>\n",
              "    <tr>\n",
              "      <th>1</th>\n",
              "      <td>4.9</td>\n",
              "      <td>3.0</td>\n",
              "      <td>1.4</td>\n",
              "      <td>0.2</td>\n",
              "      <td>0</td>\n",
              "    </tr>\n",
              "    <tr>\n",
              "      <th>2</th>\n",
              "      <td>4.7</td>\n",
              "      <td>3.2</td>\n",
              "      <td>1.3</td>\n",
              "      <td>0.2</td>\n",
              "      <td>0</td>\n",
              "    </tr>\n",
              "    <tr>\n",
              "      <th>3</th>\n",
              "      <td>4.6</td>\n",
              "      <td>3.1</td>\n",
              "      <td>1.5</td>\n",
              "      <td>0.2</td>\n",
              "      <td>0</td>\n",
              "    </tr>\n",
              "    <tr>\n",
              "      <th>4</th>\n",
              "      <td>5.0</td>\n",
              "      <td>3.6</td>\n",
              "      <td>1.4</td>\n",
              "      <td>0.2</td>\n",
              "      <td>0</td>\n",
              "    </tr>\n",
              "  </tbody>\n",
              "</table>\n",
              "</div>"
            ],
            "text/plain": [
              "   sepal_length  sepal_width  petal_length  petal_width  class\n",
              "0           5.1          3.5           1.4          0.2      0\n",
              "1           4.9          3.0           1.4          0.2      0\n",
              "2           4.7          3.2           1.3          0.2      0\n",
              "3           4.6          3.1           1.5          0.2      0\n",
              "4           5.0          3.6           1.4          0.2      0"
            ]
          },
          "metadata": {
            "tags": []
          },
          "execution_count": 7
        }
      ]
    },
    {
      "cell_type": "markdown",
      "metadata": {
        "id": "Hnvrqu00Oiaq",
        "colab_type": "text"
      },
      "source": [
        "##Creating the Dataset"
      ]
    },
    {
      "cell_type": "code",
      "metadata": {
        "id": "SDyE-R2Mrgvi",
        "colab_type": "code",
        "colab": {}
      },
      "source": [
        "dataset = df.values\n",
        "X = dataset[:,0:4].astype('float32')\n",
        "y = dataset[:,4]"
      ],
      "execution_count": 0,
      "outputs": []
    },
    {
      "cell_type": "markdown",
      "metadata": {
        "id": "B_EldZ9PO_2O",
        "colab_type": "text"
      },
      "source": [
        "###Converting y values to one-hot representation"
      ]
    },
    {
      "cell_type": "code",
      "metadata": {
        "id": "w0cpco5isOGy",
        "colab_type": "code",
        "outputId": "83bf5375-02bf-4191-f51b-b431ec3c3954",
        "colab": {
          "base_uri": "https://localhost:8080/",
          "height": 54
        }
      },
      "source": [
        "from keras.utils import np_utils\n",
        "\n",
        "NB_CLASSES = 3\n",
        "y_one_hot = np_utils.to_categorical(y, NB_CLASSES)\n",
        "print \"Size(X) = \", X.shape\n",
        "print \"Size(y_one_hot) = \", y_one_hot.shape"
      ],
      "execution_count": 0,
      "outputs": [
        {
          "output_type": "stream",
          "text": [
            "Size(X) =  (150, 4)\n",
            "Size(y_one_hot) =  (150, 3)\n"
          ],
          "name": "stdout"
        }
      ]
    },
    {
      "cell_type": "markdown",
      "metadata": {
        "id": "NWbN0YQiPXvh",
        "colab_type": "text"
      },
      "source": [
        "###Spliting the dataset to training and testing datasets"
      ]
    },
    {
      "cell_type": "code",
      "metadata": {
        "id": "tyRb6IvtsnfH",
        "colab_type": "code",
        "outputId": "4e4cb3ca-52f2-4a61-a168-d7745ff074a5",
        "colab": {
          "base_uri": "https://localhost:8080/",
          "height": 90
        }
      },
      "source": [
        "from sklearn.model_selection import train_test_split\n",
        "X_train, X_test, y_train_one_hot, y_test_one_hot = train_test_split(X, y_one_hot, test_size=0.2)\n",
        "\n",
        "print \"Size(X_train) = \", X_train.shape\n",
        "print \"Size(y_train_one_hot) = \", y_train_one_hot.shape\n",
        "print \"Size(X_test) = \", X_test.shape\n",
        "print \"Size(y_test_one_hot) = \", y_test_one_hot.shape"
      ],
      "execution_count": 0,
      "outputs": [
        {
          "output_type": "stream",
          "text": [
            "Size(X_train) =  (120, 4)\n",
            "Size(y_train_one_hot) =  (120, 3)\n",
            "Size(X_test) =  (30, 4)\n",
            "Size(y_test_one_hot) =  (30, 3)\n"
          ],
          "name": "stdout"
        }
      ]
    },
    {
      "cell_type": "markdown",
      "metadata": {
        "id": "pfe4j8tpQHcU",
        "colab_type": "text"
      },
      "source": [
        "##Fitting a Logistic Regression Model to the IRIS Dataset"
      ]
    },
    {
      "cell_type": "markdown",
      "metadata": {
        "id": "_S0vLxKgt9oz",
        "colab_type": "text"
      },
      "source": [
        "###Creating the logistic model"
      ]
    },
    {
      "cell_type": "code",
      "metadata": {
        "id": "3YZm5h9gs2Mn",
        "colab_type": "code",
        "outputId": "b5caf97d-efc6-4c6a-9ab8-2bb863772fcd",
        "colab": {
          "base_uri": "https://localhost:8080/",
          "height": 331
        }
      },
      "source": [
        "from keras.models import Sequential\n",
        "from keras.layers import Dense, Activation\n",
        "NB_CLASSES = 3\n",
        "INPUT_DIM  = 4\n",
        "\n",
        "model = Sequential()\n",
        "model.add(Dense(NB_CLASSES, activation='softmax', input_shape=(INPUT_DIM,)))\n",
        "model.summary()"
      ],
      "execution_count": 0,
      "outputs": [
        {
          "output_type": "stream",
          "text": [
            "WARNING: Logging before flag parsing goes to stderr.\n",
            "W0707 13:50:39.630455 139939638048640 deprecation_wrapper.py:119] From /usr/local/lib/python2.7/dist-packages/keras/backend/tensorflow_backend.py:74: The name tf.get_default_graph is deprecated. Please use tf.compat.v1.get_default_graph instead.\n",
            "\n",
            "W0707 13:50:39.679632 139939638048640 deprecation_wrapper.py:119] From /usr/local/lib/python2.7/dist-packages/keras/backend/tensorflow_backend.py:517: The name tf.placeholder is deprecated. Please use tf.compat.v1.placeholder instead.\n",
            "\n",
            "W0707 13:50:39.686115 139939638048640 deprecation_wrapper.py:119] From /usr/local/lib/python2.7/dist-packages/keras/backend/tensorflow_backend.py:4138: The name tf.random_uniform is deprecated. Please use tf.random.uniform instead.\n",
            "\n"
          ],
          "name": "stderr"
        },
        {
          "output_type": "stream",
          "text": [
            "_________________________________________________________________\n",
            "Layer (type)                 Output Shape              Param #   \n",
            "=================================================================\n",
            "dense_1 (Dense)              (None, 3)                 15        \n",
            "=================================================================\n",
            "Total params: 15\n",
            "Trainable params: 15\n",
            "Non-trainable params: 0\n",
            "_________________________________________________________________\n"
          ],
          "name": "stdout"
        }
      ]
    },
    {
      "cell_type": "markdown",
      "metadata": {
        "id": "QBpdYWQ6uQu7",
        "colab_type": "text"
      },
      "source": [
        "###Defining the optimizer and compiling the model"
      ]
    },
    {
      "cell_type": "code",
      "metadata": {
        "id": "-73q_GCTs5V-",
        "colab_type": "code",
        "colab": {}
      },
      "source": [
        "from keras.optimizers import SGD\n",
        "\n",
        "OPTIMIZER = SGD(lr=0.1)\n",
        "model.compile(optimizer=OPTIMIZER, loss='categorical_crossentropy', metrics=['accuracy'])"
      ],
      "execution_count": 0,
      "outputs": []
    },
    {
      "cell_type": "markdown",
      "metadata": {
        "id": "ngktgCCTumT9",
        "colab_type": "text"
      },
      "source": [
        "###Fitting the model"
      ]
    },
    {
      "cell_type": "code",
      "metadata": {
        "id": "4S6T53Ess_If",
        "colab_type": "code",
        "outputId": "67bb1735-4066-4e9b-ed07-7f4c9df9c717",
        "colab": {
          "base_uri": "https://localhost:8080/",
          "height": 1000
        }
      },
      "source": [
        "BATCH_SIZE = 8\n",
        "EPOCHES = 50\n",
        "VERBOSE = 1\n",
        "\n",
        "model_history = model.fit(x=X_train, y=y_train_one_hot, batch_size=BATCH_SIZE, \n",
        "                          epochs=EPOCHES, verbose=VERBOSE)"
      ],
      "execution_count": 0,
      "outputs": [
        {
          "output_type": "stream",
          "text": [
            "W0707 13:51:25.759929 139939638048640 deprecation.py:323] From /usr/local/lib/python2.7/dist-packages/tensorflow/python/ops/math_grad.py:1250: where (from tensorflow.python.ops.array_ops) is deprecated and will be removed in a future version.\n",
            "Instructions for updating:\n",
            "Use tf.where in 2.0, which has the same broadcast rule as np.where\n",
            "W0707 13:51:25.797925 139939638048640 deprecation_wrapper.py:119] From /usr/local/lib/python2.7/dist-packages/keras/backend/tensorflow_backend.py:986: The name tf.assign_add is deprecated. Please use tf.compat.v1.assign_add instead.\n",
            "\n"
          ],
          "name": "stderr"
        },
        {
          "output_type": "stream",
          "text": [
            "Epoch 1/50\n",
            "120/120 [==============================] - 1s 5ms/step - loss: 1.3085 - acc: 0.5833\n",
            "Epoch 2/50\n",
            "120/120 [==============================] - 0s 136us/step - loss: 0.9663 - acc: 0.6417\n",
            "Epoch 3/50\n",
            "120/120 [==============================] - 0s 128us/step - loss: 0.7151 - acc: 0.7500\n",
            "Epoch 4/50\n",
            "120/120 [==============================] - 0s 137us/step - loss: 0.7873 - acc: 0.7333\n",
            "Epoch 5/50\n",
            "120/120 [==============================] - 0s 130us/step - loss: 0.6223 - acc: 0.7333\n",
            "Epoch 6/50\n",
            "120/120 [==============================] - 0s 145us/step - loss: 0.4764 - acc: 0.8000\n",
            "Epoch 7/50\n",
            "120/120 [==============================] - 0s 139us/step - loss: 0.5552 - acc: 0.7750\n",
            "Epoch 8/50\n",
            "120/120 [==============================] - 0s 146us/step - loss: 0.4003 - acc: 0.8333\n",
            "Epoch 9/50\n",
            "120/120 [==============================] - 0s 139us/step - loss: 0.3964 - acc: 0.8333\n",
            "Epoch 10/50\n",
            "120/120 [==============================] - 0s 132us/step - loss: 0.4914 - acc: 0.8000\n",
            "Epoch 11/50\n",
            "120/120 [==============================] - 0s 143us/step - loss: 0.4811 - acc: 0.8583\n",
            "Epoch 12/50\n",
            "120/120 [==============================] - 0s 140us/step - loss: 0.3732 - acc: 0.8333\n",
            "Epoch 13/50\n",
            "120/120 [==============================] - 0s 189us/step - loss: 0.2652 - acc: 0.9083\n",
            "Epoch 14/50\n",
            "120/120 [==============================] - 0s 145us/step - loss: 0.5852 - acc: 0.7083\n",
            "Epoch 15/50\n",
            "120/120 [==============================] - 0s 141us/step - loss: 0.4826 - acc: 0.7667\n",
            "Epoch 16/50\n",
            "120/120 [==============================] - 0s 133us/step - loss: 0.3698 - acc: 0.8500\n",
            "Epoch 17/50\n",
            "120/120 [==============================] - 0s 138us/step - loss: 0.3173 - acc: 0.8750\n",
            "Epoch 18/50\n",
            "120/120 [==============================] - 0s 139us/step - loss: 0.3058 - acc: 0.8917\n",
            "Epoch 19/50\n",
            "120/120 [==============================] - 0s 147us/step - loss: 0.3866 - acc: 0.8667\n",
            "Epoch 20/50\n",
            "120/120 [==============================] - 0s 140us/step - loss: 0.3275 - acc: 0.8583\n",
            "Epoch 21/50\n",
            "120/120 [==============================] - 0s 143us/step - loss: 0.3042 - acc: 0.9000\n",
            "Epoch 22/50\n",
            "120/120 [==============================] - 0s 142us/step - loss: 0.2758 - acc: 0.8833\n",
            "Epoch 23/50\n",
            "120/120 [==============================] - 0s 146us/step - loss: 0.2171 - acc: 0.9333\n",
            "Epoch 24/50\n",
            "120/120 [==============================] - 0s 136us/step - loss: 0.3420 - acc: 0.8667\n",
            "Epoch 25/50\n",
            "120/120 [==============================] - 0s 167us/step - loss: 0.2299 - acc: 0.9083\n",
            "Epoch 26/50\n",
            "120/120 [==============================] - 0s 147us/step - loss: 0.2033 - acc: 0.9333\n",
            "Epoch 27/50\n",
            "120/120 [==============================] - 0s 148us/step - loss: 0.2689 - acc: 0.8750\n",
            "Epoch 28/50\n",
            "120/120 [==============================] - 0s 127us/step - loss: 0.1924 - acc: 0.9583\n",
            "Epoch 29/50\n",
            "120/120 [==============================] - 0s 172us/step - loss: 0.2536 - acc: 0.8833\n",
            "Epoch 30/50\n",
            "120/120 [==============================] - 0s 138us/step - loss: 0.3132 - acc: 0.8667\n",
            "Epoch 31/50\n",
            "120/120 [==============================] - 0s 141us/step - loss: 0.2011 - acc: 0.9083\n",
            "Epoch 32/50\n",
            "120/120 [==============================] - 0s 136us/step - loss: 0.2011 - acc: 0.9333\n",
            "Epoch 33/50\n",
            "120/120 [==============================] - 0s 132us/step - loss: 0.2523 - acc: 0.9167\n",
            "Epoch 34/50\n",
            "120/120 [==============================] - 0s 136us/step - loss: 0.2500 - acc: 0.8917\n",
            "Epoch 35/50\n",
            "120/120 [==============================] - 0s 137us/step - loss: 0.2355 - acc: 0.9000\n",
            "Epoch 36/50\n",
            "120/120 [==============================] - 0s 131us/step - loss: 0.1819 - acc: 0.9333\n",
            "Epoch 37/50\n",
            "120/120 [==============================] - 0s 130us/step - loss: 0.2203 - acc: 0.9167\n",
            "Epoch 38/50\n",
            "120/120 [==============================] - 0s 158us/step - loss: 0.2630 - acc: 0.8667\n",
            "Epoch 39/50\n",
            "120/120 [==============================] - 0s 159us/step - loss: 0.1966 - acc: 0.9250\n",
            "Epoch 40/50\n",
            "120/120 [==============================] - 0s 150us/step - loss: 0.1920 - acc: 0.9167\n",
            "Epoch 41/50\n",
            "120/120 [==============================] - 0s 149us/step - loss: 0.1958 - acc: 0.9417\n",
            "Epoch 42/50\n",
            "120/120 [==============================] - 0s 136us/step - loss: 0.1920 - acc: 0.9500\n",
            "Epoch 43/50\n",
            "120/120 [==============================] - 0s 127us/step - loss: 0.1817 - acc: 0.9500\n",
            "Epoch 44/50\n",
            "120/120 [==============================] - 0s 133us/step - loss: 0.1934 - acc: 0.9250\n",
            "Epoch 45/50\n",
            "120/120 [==============================] - 0s 144us/step - loss: 0.2414 - acc: 0.9250\n",
            "Epoch 46/50\n",
            "120/120 [==============================] - 0s 128us/step - loss: 0.1502 - acc: 0.9583\n",
            "Epoch 47/50\n",
            "120/120 [==============================] - 0s 125us/step - loss: 0.2048 - acc: 0.9167\n",
            "Epoch 48/50\n",
            "120/120 [==============================] - 0s 130us/step - loss: 0.1697 - acc: 0.9500\n",
            "Epoch 49/50\n",
            "120/120 [==============================] - 0s 123us/step - loss: 0.2140 - acc: 0.9333\n",
            "Epoch 50/50\n",
            "120/120 [==============================] - 0s 129us/step - loss: 0.1523 - acc: 0.9417\n"
          ],
          "name": "stdout"
        }
      ]
    },
    {
      "cell_type": "markdown",
      "metadata": {
        "id": "ioKxjALUuyPD",
        "colab_type": "text"
      },
      "source": [
        "###Evaluating the model"
      ]
    },
    {
      "cell_type": "code",
      "metadata": {
        "id": "I51S8Q8UtJux",
        "colab_type": "code",
        "outputId": "21787ced-efc3-4611-a15d-53b619b1c4e9",
        "colab": {
          "base_uri": "https://localhost:8080/",
          "height": 54
        }
      },
      "source": [
        "score = model.evaluate(X_test, y_test_one_hot, verbose=0)\n",
        "print('Test score:', score[0]) \n",
        "print('Test accuracy:', score[1])"
      ],
      "execution_count": 0,
      "outputs": [
        {
          "output_type": "stream",
          "text": [
            "('Test score:', 0.12529069185256958)\n",
            "('Test accuracy:', 1.0)\n"
          ],
          "name": "stdout"
        }
      ]
    },
    {
      "cell_type": "code",
      "metadata": {
        "id": "ybEnt_QHtQ8M",
        "colab_type": "code",
        "outputId": "9821439b-94be-439f-c912-25be7682324d",
        "colab": {
          "base_uri": "https://localhost:8080/",
          "height": 35
        }
      },
      "source": [
        "y_probability = model.predict(X_test)\n",
        "y_classes = y_probability.argmax(axis=-1)\n",
        "print \"True class = \", y_test_one_hot[0], \"Predicted class = \", y_classes[0]"
      ],
      "execution_count": 0,
      "outputs": [
        {
          "output_type": "stream",
          "text": [
            "True class =  [0. 0. 1.] Predicted class =  2\n"
          ],
          "name": "stdout"
        }
      ]
    },
    {
      "cell_type": "code",
      "metadata": {
        "id": "BbG547b9tkW3",
        "colab_type": "code",
        "outputId": "611bd93c-0c48-462a-d19b-31d521349e0d",
        "colab": {
          "base_uri": "https://localhost:8080/",
          "height": 549
        }
      },
      "source": [
        "import matplotlib.pyplot as plt\n",
        "%matplotlib inline\n",
        "\n",
        "def plot_history(network_history):\n",
        "    plt.figure()\n",
        "    plt.xlabel('Epochs')\n",
        "    plt.ylabel('Loss')\n",
        "    plt.plot(network_history.history['loss'])\n",
        "    plt.legend(['Training'])\n",
        "\n",
        "    plt.figure()\n",
        "    plt.xlabel('Epochs')\n",
        "    plt.ylabel('Accuracy')\n",
        "    plt.plot(network_history.history['acc'])\n",
        "    plt.legend(['Training'], loc='lower right')\n",
        "    plt.show()\n",
        "\n",
        "plot_history(model_history)"
      ],
      "execution_count": 0,
      "outputs": [
        {
          "output_type": "display_data",
          "data": {
            "image/png": "[encoded data removed]",
            "text/plain": [
              "<Figure size 432x288 with 1 Axes>"
            ]
          },
          "metadata": {
            "tags": []
          }
        },
        {
          "output_type": "display_data",
          "data": {
            "image/png": "[encoded data removed]",
            "text/plain": [
              "<Figure size 432x288 with 1 Axes>"
            ]
          },
          "metadata": {
            "tags": []
          }
        }
      ]
    }
  ]
}