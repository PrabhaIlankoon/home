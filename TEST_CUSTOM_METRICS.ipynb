{
 "cells": [
  {
   "cell_type": "markdown",
   "metadata": {},
   "source": [
    "### Defining the custom metrics"
   ]
  },
  {
   "cell_type": "code",
   "execution_count": 20,
   "metadata": {},
   "outputs": [],
   "source": [
    "from keras import backend as K\n",
    "\n",
    "def rmse(y_true, y_pred):\n",
    "    return K.sqrt(K.mean(K.square(y_pred - y_true), axis=-1))\n",
    "\n",
    "def rsquare (y_true, y_pred):\n",
    "    mse_model = K.mean(K.square(y_pred - y_true), axis=-1)   \n",
    "    y_true_bar = K.mean(y_true, axis=-1)\n",
    "    mse_baseline = K.mean(K.square(y_true - y_true_bar), axis=-1)\n",
    "    return (1 - mse_model/mse_baseline)"
   ]
  },
  {
   "cell_type": "markdown",
   "metadata": {},
   "source": [
    "#### Generating 'sine' values"
   ]
  },
  {
   "cell_type": "code",
   "execution_count": 21,
   "metadata": {},
   "outputs": [
    {
     "name": "stdout",
     "output_type": "stream",
     "text": [
      "(1000, 1)\n"
     ]
    }
   ],
   "source": [
    "import numpy as np\n",
    "step_size = (20*np.pi/1000)\n",
    "points = np.arange(1000) #returns evenly space points b/w 0 and 1000\n",
    "points = step_size*points  #now distance b/w two points is 20*np.pi/1000\n",
    "dataset = np.sin(points)[:,None] #creates sine values at generated points\n",
    "\n",
    "print dataset.shape"
   ]
  },
  {
   "cell_type": "markdown",
   "metadata": {},
   "source": [
    "#### Plotting the generated sine values"
   ]
  },
  {
   "cell_type": "code",
   "execution_count": 22,
   "metadata": {},
   "outputs": [
    {
     "data": {
      "image/png": "[encoded data removed]",
      "text/plain": [
       "<matplotlib.figure.Figure at 0x7fe1f54dbd50>"
      ]
     },
     "metadata": {},
     "output_type": "display_data"
    }
   ],
   "source": [
    "import matplotlib.pyplot as plt\n",
    "plt.plot(dataset)\n",
    "plt.show()"
   ]
  },
  {
   "cell_type": "markdown",
   "metadata": {},
   "source": [
    "#### Function - Generate X and Y for the model"
   ]
  },
  {
   "cell_type": "code",
   "execution_count": 23,
   "metadata": {},
   "outputs": [],
   "source": [
    "# convert an array of values into a dataset matrix\n",
    "# look_back looks back previous (look_back - 1) datapoints\n",
    "def create_dataset(dataset, look_back=1):\n",
    "    dataX, dataY = [], []\n",
    "    for i in range(len(dataset)-look_back):\n",
    "        dataX.append(dataset[i:(i+look_back), 0])\n",
    "        dataY.append(dataset[i + look_back, 0])\n",
    "    return np.array(dataX), np.array(dataY)"
   ]
  },
  {
   "cell_type": "markdown",
   "metadata": {},
   "source": [
    "#### Normalizing the dateset"
   ]
  },
  {
   "cell_type": "code",
   "execution_count": 24,
   "metadata": {},
   "outputs": [],
   "source": [
    "from sklearn.preprocessing import MinMaxScaler\n",
    "\n",
    "scaler = MinMaxScaler(feature_range=(0, 1))\n",
    "dataset = scaler.fit_transform(dataset) #normalize dataset into the range (0, 1)"
   ]
  },
  {
   "cell_type": "markdown",
   "metadata": {},
   "source": [
    "#### Splitting the dataset into train and test datasets"
   ]
  },
  {
   "cell_type": "code",
   "execution_count": 25,
   "metadata": {},
   "outputs": [
    {
     "name": "stdout",
     "output_type": "stream",
     "text": [
      "(670, 1)\n",
      "(330, 1)\n"
     ]
    }
   ],
   "source": [
    "train_size = int(len(dataset)*0.67)\n",
    "test_size   = len(dataset) - train_size\n",
    "train, test = dataset[0:train_size,:], dataset[train_size:len(dataset),:]\n",
    "\n",
    "print train.shape\n",
    "print test.shape"
   ]
  },
  {
   "cell_type": "markdown",
   "metadata": {},
   "source": [
    "#### Window of 'look_back' time steps"
   ]
  },
  {
   "cell_type": "code",
   "execution_count": 26,
   "metadata": {},
   "outputs": [
    {
     "name": "stdout",
     "output_type": "stream",
     "text": [
      "(620, 50)\n",
      "(620,)\n",
      "(280, 50)\n",
      "(280,)\n"
     ]
    }
   ],
   "source": [
    "look_back = 50\n",
    "\n",
    "trainX, trainY = create_dataset(train, look_back)\n",
    "testX, testY = create_dataset(test, look_back)\n",
    "\n",
    "print trainX.shape\n",
    "print trainY.shape\n",
    "print testX.shape\n",
    "print testY.shape"
   ]
  },
  {
   "cell_type": "markdown",
   "metadata": {},
   "source": [
    "#### Reshaping the trainX and testX into a format that is expected by Conv1D network. i.e. [samples, time steps, features]."
   ]
  },
  {
   "cell_type": "code",
   "execution_count": 27,
   "metadata": {},
   "outputs": [
    {
     "name": "stdout",
     "output_type": "stream",
     "text": [
      "trainX shape =  (620, 50, 1)\n",
      "testX shape   =  (280, 50, 1)\n",
      "[[0.5       ]\n",
      " [0.53139526]\n",
      " [0.56266662]\n",
      " [0.59369066]\n",
      " [0.62434494]\n",
      " [0.6545085 ]\n",
      " [0.68406228]\n",
      " [0.71288965]\n",
      " [0.74087684]\n",
      " [0.7679134 ]\n",
      " [0.79389263]\n",
      " [0.81871199]\n",
      " [0.84227355]\n",
      " [0.86448431]\n",
      " [0.88525662]\n",
      " [0.9045085 ]\n",
      " [0.92216396]\n",
      " [0.93815334]\n",
      " [0.95241353]\n",
      " [0.96488824]\n",
      " [0.97552826]\n",
      " [0.98429158]\n",
      " [0.99114363]\n",
      " [0.99605735]\n",
      " [0.99901336]\n",
      " [1.        ]\n",
      " [0.99901336]\n",
      " [0.99605735]\n",
      " [0.99114363]\n",
      " [0.98429158]\n",
      " [0.97552826]\n",
      " [0.96488824]\n",
      " [0.95241353]\n",
      " [0.93815334]\n",
      " [0.92216396]\n",
      " [0.9045085 ]\n",
      " [0.88525662]\n",
      " [0.86448431]\n",
      " [0.84227355]\n",
      " [0.81871199]\n",
      " [0.79389263]\n",
      " [0.7679134 ]\n",
      " [0.74087684]\n",
      " [0.71288965]\n",
      " [0.68406228]\n",
      " [0.6545085 ]\n",
      " [0.62434494]\n",
      " [0.59369066]\n",
      " [0.56266662]\n",
      " [0.53139526]] => 0.49999999999999983\n",
      "[[0.53139526]\n",
      " [0.56266662]\n",
      " [0.59369066]\n",
      " [0.62434494]\n",
      " [0.6545085 ]\n",
      " [0.68406228]\n",
      " [0.71288965]\n",
      " [0.74087684]\n",
      " [0.7679134 ]\n",
      " [0.79389263]\n",
      " [0.81871199]\n",
      " [0.84227355]\n",
      " [0.86448431]\n",
      " [0.88525662]\n",
      " [0.9045085 ]\n",
      " [0.92216396]\n",
      " [0.93815334]\n",
      " [0.95241353]\n",
      " [0.96488824]\n",
      " [0.97552826]\n",
      " [0.98429158]\n",
      " [0.99114363]\n",
      " [0.99605735]\n",
      " [0.99901336]\n",
      " [1.        ]\n",
      " [0.99901336]\n",
      " [0.99605735]\n",
      " [0.99114363]\n",
      " [0.98429158]\n",
      " [0.97552826]\n",
      " [0.96488824]\n",
      " [0.95241353]\n",
      " [0.93815334]\n",
      " [0.92216396]\n",
      " [0.9045085 ]\n",
      " [0.88525662]\n",
      " [0.86448431]\n",
      " [0.84227355]\n",
      " [0.81871199]\n",
      " [0.79389263]\n",
      " [0.7679134 ]\n",
      " [0.74087684]\n",
      " [0.71288965]\n",
      " [0.68406228]\n",
      " [0.6545085 ]\n",
      " [0.62434494]\n",
      " [0.59369066]\n",
      " [0.56266662]\n",
      " [0.53139526]\n",
      " [0.5       ]] => 0.4686047402353433\n"
     ]
    }
   ],
   "source": [
    "trainX = np.reshape(trainX, (trainX.shape[0], trainX.shape[1], 1))\n",
    "testX = np.reshape(testX, (testX.shape[0], testX.shape[1], 1))\n",
    "\n",
    "print 'trainX shape = ', trainX.shape\n",
    "print 'testX shape   = ', testX.shape\n",
    "\n",
    "print trainX[0], '=>' , trainY[0]\n",
    "print trainX[1], '=>' , trainY[1]"
   ]
  },
  {
   "cell_type": "markdown",
   "metadata": {},
   "source": [
    "#### Building the model"
   ]
  },
  {
   "cell_type": "code",
   "execution_count": 28,
   "metadata": {},
   "outputs": [
    {
     "name": "stdout",
     "output_type": "stream",
     "text": [
      "Epoch 1/20\n",
      "620/620 [==============================] - 5s 9ms/step - loss: 0.3211 - rsquare: 0.2250\n",
      "Epoch 2/20\n",
      "620/620 [==============================] - 4s 7ms/step - loss: 0.0496 - rsquare: 0.9785\n",
      "Epoch 3/20\n",
      "620/620 [==============================] - 4s 7ms/step - loss: 0.0400 - rsquare: 0.9879\n",
      "Epoch 4/20\n",
      "620/620 [==============================] - 4s 7ms/step - loss: 0.0342 - rsquare: 0.9893\n",
      "Epoch 5/20\n",
      "620/620 [==============================] - 5s 8ms/step - loss: 0.0242 - rsquare: 0.9947\n",
      "Epoch 6/20\n",
      "620/620 [==============================] - 4s 7ms/step - loss: 0.0422 - rsquare: 0.9848\n",
      "Epoch 7/20\n",
      "620/620 [==============================] - 4s 7ms/step - loss: 0.0378 - rsquare: 0.9885\n",
      "Epoch 8/20\n",
      "620/620 [==============================] - 4s 7ms/step - loss: 0.0240 - rsquare: 0.9950\n",
      "Epoch 9/20\n",
      "620/620 [==============================] - 4s 7ms/step - loss: 0.0205 - rsquare: 0.9961\n",
      "Epoch 10/20\n",
      "620/620 [==============================] - 4s 7ms/step - loss: 0.0188 - rsquare: 0.9972\n",
      "Epoch 11/20\n",
      "620/620 [==============================] - 4s 7ms/step - loss: 0.0177 - rsquare: 0.9973\n",
      "Epoch 12/20\n",
      "620/620 [==============================] - 4s 7ms/step - loss: 0.0301 - rsquare: 0.9926\n",
      "Epoch 13/20\n",
      "620/620 [==============================] - 4s 7ms/step - loss: 0.0348 - rsquare: 0.9897\n",
      "Epoch 14/20\n",
      "620/620 [==============================] - 4s 7ms/step - loss: 0.0157 - rsquare: 0.9977\n",
      "Epoch 15/20\n",
      "620/620 [==============================] - 4s 7ms/step - loss: 0.0228 - rsquare: 0.9952\n",
      "Epoch 16/20\n",
      "620/620 [==============================] - 5s 7ms/step - loss: 0.0372 - rsquare: 0.9893\n",
      "Epoch 17/20\n",
      "620/620 [==============================] - 4s 7ms/step - loss: 0.0296 - rsquare: 0.9930\n",
      "Epoch 18/20\n",
      "620/620 [==============================] - 4s 7ms/step - loss: 0.0176 - rsquare: 0.9972\n",
      "Epoch 19/20\n",
      "620/620 [==============================] - 4s 7ms/step - loss: 0.0180 - rsquare: 0.9973\n",
      "Epoch 20/20\n",
      "620/620 [==============================] - 4s 7ms/step - loss: 0.0213 - rsquare: 0.9964\n"
     ]
    },
    {
     "data": {
      "text/plain": [
       "<keras.callbacks.History at 0x7fe1d02fc950>"
      ]
     },
     "execution_count": 28,
     "metadata": {},
     "output_type": "execute_result"
    }
   ],
   "source": [
    "from keras.models import Sequential\n",
    "from keras.layers import Dense, Conv1D, Dropout, MaxPooling1D, Flatten\n",
    "\n",
    "verbose, epochs, batch_size = 1, 20, 64\n",
    "n_timesteps, n_features, n_outputs = look_back, 1, 1\n",
    "model = Sequential()\n",
    "model.add(Conv1D(filters=512, kernel_size=3, activation='relu', input_shape=(n_timesteps, n_features)))\n",
    "model.add(Conv1D(filters=512, kernel_size=3, activation='relu'))\n",
    "model.add(Conv1D(filters=512, kernel_size=3, activation='relu'))\n",
    "model.add(Dropout(0.5))\n",
    "model.add(MaxPooling1D(pool_size=2))\n",
    "model.add(Flatten())\n",
    "model.add(Dense(200, activation='relu'))\n",
    "model.add(Dense(50, activation='relu'))\n",
    "model.add(Dense(n_outputs, activation='linear'))\n",
    "model.compile(loss=rmse, optimizer='adam', metrics=[rsquare])\n",
    "model.fit(trainX, trainY, epochs=epochs, batch_size=batch_size, verbose=verbose)"
   ]
  },
  {
   "cell_type": "code",
   "execution_count": 29,
   "metadata": {},
   "outputs": [
    {
     "name": "stdout",
     "output_type": "stream",
     "text": [
      "620/620 [==============================] - 6s 10ms/step\n",
      "('Train Score: ', [0.1197078917475958, -inf])\n",
      "280/280 [==============================] - 3s 10ms/step\n",
      "('Test Score: ', [0.11799457417135792, -inf])\n"
     ]
    }
   ],
   "source": [
    "trainScore = model.evaluate(trainX, trainY, batch_size=1, verbose=1)\n",
    "print('Train Score: ', trainScore)\n",
    "testScore = model.evaluate(testX, testY, batch_size=1, verbose=1)\n",
    "print('Test Score: ', testScore)"
   ]
  },
  {
   "cell_type": "markdown",
   "metadata": {},
   "source": [
    "#### Predicting Future Values of Sine Function"
   ]
  },
  {
   "cell_type": "code",
   "execution_count": 30,
   "metadata": {},
   "outputs": [],
   "source": [
    "look_ahead = 250\n",
    "trainPredict = [np.vstack([trainX[-1][1:], trainY[-1]])]\n",
    "predictions = np.zeros((look_ahead,1))\n",
    "for i in range(look_ahead):\n",
    "    prediction = model.predict(np.array([trainPredict[-1]]), batch_size=1)\n",
    "    predictions[i] = prediction\n",
    "    trainPredict.append(np.vstack([trainPredict[-1][1:],prediction]))"
   ]
  },
  {
   "cell_type": "code",
   "execution_count": 31,
   "metadata": {},
   "outputs": [
    {
     "data": {
      "image/png": "[encoded data removed]",
      "text/plain": [
       "<matplotlib.figure.Figure at 0x7fe1f78e72d0>"
      ]
     },
     "metadata": {},
     "output_type": "display_data"
    }
   ],
   "source": [
    "plt.figure(figsize=(12,5))\n",
    "# plt.plot(np.arange(len(trainX)),np.squeeze(trainX))\n",
    "# plt.plot(np.arange(200),scaler.inverse_transform(np.squeeze(trainPredict)[:,None][1:]))\n",
    "# plt.plot(np.arange(200),scaler.inverse_transform(np.squeeze(testY)[:,None][:200]),'r')\n",
    "plt.plot(np.arange(look_ahead),predictions,'r',label=\"prediction\")\n",
    "plt.plot(np.arange(look_ahead),dataset[train_size:(train_size+look_ahead)],label=\"test function\")\n",
    "plt.legend()\n",
    "plt.show()"
   ]
  }
 ],
 "metadata": {
  "kernelspec": {
   "display_name": "Python 2",
   "language": "python",
   "name": "python2"
  },
  "language_info": {
   "codemirror_mode": {
    "name": "ipython",
    "version": 2
   },
   "file_extension": ".py",
   "mimetype": "text/x-python",
   "name": "python",
   "nbconvert_exporter": "python",
   "pygments_lexer": "ipython2",
   "version": "2.7.15"
  }
 },
 "nbformat": 4,
 "nbformat_minor": 2
}
