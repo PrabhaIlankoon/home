{
 "cells": [
  {
   "cell_type": "markdown",
   "metadata": {},
   "source": [
    "#### Generating 'sine' values"
   ]
  },
  {
   "cell_type": "code",
   "execution_count": 12,
   "metadata": {},
   "outputs": [],
   "source": [
    "import numpy as np\n",
    "step_size = (20*np.pi/1000)\n",
    "points = np.arange(1000) #returns evenly space points b/w 0 and 1000\n",
    "points = step_size*points  #now distance b/w two points is 20*np.pi/1000\n",
    "dataset = np.sin(points)[:,None] #creates sine values at generated points"
   ]
  },
  {
   "cell_type": "markdown",
   "metadata": {},
   "source": [
    "#### Plotting the generated sine values"
   ]
  },
  {
   "cell_type": "code",
   "execution_count": 13,
   "metadata": {},
   "outputs": [
    {
     "data": {
      "image/png": "[encoded data removed]",
      "text/plain": [
       "<matplotlib.figure.Figure at 0x7ff679391bd0>"
      ]
     },
     "metadata": {},
     "output_type": "display_data"
    }
   ],
   "source": [
    "import matplotlib.pyplot as plt\n",
    "plt.plot(dataset)\n",
    "plt.show()"
   ]
  },
  {
   "cell_type": "markdown",
   "metadata": {},
   "source": [
    "#### Function - Generate X and Y for the LSTM"
   ]
  },
  {
   "cell_type": "code",
   "execution_count": 14,
   "metadata": {},
   "outputs": [],
   "source": [
    "# convert an array of values into a dataset matrix\n",
    "# look_back looks back previous (look_back - 1) datapoints\n",
    "def create_dataset(dataset, look_back=1):\n",
    "    dataX, dataY = [], []\n",
    "    for i in range(len(dataset)-look_back):\n",
    "        dataX.append(dataset[i:(i+look_back), 0])\n",
    "        dataY.append(dataset[i + look_back, 0])\n",
    "    return np.array(dataX), np.array(dataY)"
   ]
  },
  {
   "cell_type": "markdown",
   "metadata": {},
   "source": [
    "#### Normalizing the dateset"
   ]
  },
  {
   "cell_type": "code",
   "execution_count": 15,
   "metadata": {},
   "outputs": [],
   "source": [
    "from sklearn.preprocessing import MinMaxScaler\n",
    "\n",
    "scaler = MinMaxScaler(feature_range=(0, 1))\n",
    "dataset = scaler.fit_transform(dataset) #normalize dataset into the range (0, 1)"
   ]
  },
  {
   "cell_type": "markdown",
   "metadata": {},
   "source": [
    "#### Splitting the dataset into train and test datasets"
   ]
  },
  {
   "cell_type": "code",
   "execution_count": 16,
   "metadata": {},
   "outputs": [],
   "source": [
    "train_size = int(len(dataset)*0.67)\n",
    "test_size   = len(dataset) - train_size\n",
    "train, test = dataset[0:train_size,:], dataset[train_size:len(dataset),:]"
   ]
  },
  {
   "cell_type": "markdown",
   "metadata": {},
   "source": [
    "#### Window of 5 time steps"
   ]
  },
  {
   "cell_type": "code",
   "execution_count": 17,
   "metadata": {},
   "outputs": [
    {
     "name": "stdout",
     "output_type": "stream",
     "text": [
      "(650, 20)\n",
      "(650,)\n",
      "(310, 20)\n",
      "(310,)\n"
     ]
    }
   ],
   "source": [
    "look_back = 20\n",
    "\n",
    "trainX, trainY = create_dataset(train, look_back)\n",
    "testX, testY = create_dataset(test, look_back)\n",
    "\n",
    "print trainX.shape\n",
    "print trainY.shape\n",
    "print testX.shape\n",
    "print testY.shape"
   ]
  },
  {
   "cell_type": "markdown",
   "metadata": {},
   "source": [
    "#### Reshaping the trainX and testX into a format that is expected by an LSTM network. i.e. [samples, time steps, features]."
   ]
  },
  {
   "cell_type": "code",
   "execution_count": 18,
   "metadata": {},
   "outputs": [
    {
     "name": "stdout",
     "output_type": "stream",
     "text": [
      "trainX shape =  (650, 20, 1)\n",
      "testX shape   =  (310, 20, 1)\n",
      "[[0.5       ]\n",
      " [0.53139526]\n",
      " [0.56266662]\n",
      " [0.59369066]\n",
      " [0.62434494]\n",
      " [0.6545085 ]\n",
      " [0.68406228]\n",
      " [0.71288965]\n",
      " [0.74087684]\n",
      " [0.7679134 ]\n",
      " [0.79389263]\n",
      " [0.81871199]\n",
      " [0.84227355]\n",
      " [0.86448431]\n",
      " [0.88525662]\n",
      " [0.9045085 ]\n",
      " [0.92216396]\n",
      " [0.93815334]\n",
      " [0.95241353]\n",
      " [0.96488824]] => 0.9755282581475768\n",
      "[[0.53139526]\n",
      " [0.56266662]\n",
      " [0.59369066]\n",
      " [0.62434494]\n",
      " [0.6545085 ]\n",
      " [0.68406228]\n",
      " [0.71288965]\n",
      " [0.74087684]\n",
      " [0.7679134 ]\n",
      " [0.79389263]\n",
      " [0.81871199]\n",
      " [0.84227355]\n",
      " [0.86448431]\n",
      " [0.88525662]\n",
      " [0.9045085 ]\n",
      " [0.92216396]\n",
      " [0.93815334]\n",
      " [0.95241353]\n",
      " [0.96488824]\n",
      " [0.97552826]] => 0.9842915805643155\n"
     ]
    }
   ],
   "source": [
    "trainX = np.reshape(trainX, (trainX.shape[0], trainX.shape[1], 1))\n",
    "testX = np.reshape(testX, (testX.shape[0], testX.shape[1], 1))\n",
    "\n",
    "print 'trainX shape = ', trainX.shape\n",
    "print 'testX shape   = ', testX.shape\n",
    "\n",
    "print trainX[0], '=>' , trainY[0]\n",
    "print trainX[1], '=>' , trainY[1]"
   ]
  },
  {
   "cell_type": "markdown",
   "metadata": {},
   "source": [
    "#### Building the LSTM model"
   ]
  },
  {
   "cell_type": "code",
   "execution_count": 19,
   "metadata": {},
   "outputs": [
    {
     "name": "stderr",
     "output_type": "stream",
     "text": [
      "/home/tgi/anaconda2/envs/tensorflow/lib/python2.7/site-packages/ipykernel_launcher.py:5: UserWarning: The `input_dim` and `input_length` arguments in recurrent layers are deprecated. Use `input_shape` instead.\n",
      "  \"\"\"\n",
      "/home/tgi/anaconda2/envs/tensorflow/lib/python2.7/site-packages/ipykernel_launcher.py:5: UserWarning: Update your `LSTM` call to the Keras 2 API: `LSTM(32, input_shape=(None, 1))`\n",
      "  \"\"\"\n"
     ]
    },
    {
     "name": "stdout",
     "output_type": "stream",
     "text": [
      "Epoch 1/100\n",
      "650/650 [==============================] - 30s 46ms/step - loss: 0.0270 - acc: 0.0200\n",
      "Epoch 2/100\n",
      "650/650 [==============================] - 30s 47ms/step - loss: 0.0065 - acc: 0.0200\n",
      "Epoch 3/100\n",
      "650/650 [==============================] - 25s 38ms/step - loss: 0.0056 - acc: 0.0200\n",
      "Epoch 4/100\n",
      "650/650 [==============================] - 24s 37ms/step - loss: 0.0052 - acc: 0.0200\n",
      "Epoch 5/100\n",
      "650/650 [==============================] - 25s 38ms/step - loss: 0.0038 - acc: 0.0200\n",
      "Epoch 6/100\n",
      "650/650 [==============================] - 26s 39ms/step - loss: 0.0039 - acc: 0.0200\n",
      "Epoch 7/100\n",
      "650/650 [==============================] - 35s 54ms/step - loss: 0.0032 - acc: 0.0200\n",
      "Epoch 8/100\n",
      "650/650 [==============================] - 26s 40ms/step - loss: 0.0033 - acc: 0.0200\n",
      "Epoch 9/100\n",
      "650/650 [==============================] - 31s 48ms/step - loss: 0.0029 - acc: 0.0200\n",
      "Epoch 10/100\n",
      "650/650 [==============================] - 26s 40ms/step - loss: 0.0032 - acc: 0.0200\n",
      "Epoch 11/100\n",
      "650/650 [==============================] - 27s 42ms/step - loss: 0.0027 - acc: 0.0200\n",
      "Epoch 12/100\n",
      "650/650 [==============================] - 26s 41ms/step - loss: 0.0026 - acc: 0.0200\n",
      "Epoch 13/100\n",
      "650/650 [==============================] - 25s 39ms/step - loss: 0.0024 - acc: 0.0200\n",
      "Epoch 14/100\n",
      "650/650 [==============================] - 27s 42ms/step - loss: 0.0026 - acc: 0.0200\n",
      "Epoch 15/100\n",
      "650/650 [==============================] - 26s 39ms/step - loss: 0.0025 - acc: 0.0200\n",
      "Epoch 16/100\n",
      "650/650 [==============================] - 28s 43ms/step - loss: 0.0024 - acc: 0.0200\n",
      "Epoch 17/100\n",
      "650/650 [==============================] - 28s 43ms/step - loss: 0.0026 - acc: 0.0200\n",
      "Epoch 18/100\n",
      "650/650 [==============================] - 28s 43ms/step - loss: 0.0024 - acc: 0.0200\n",
      "Epoch 19/100\n",
      "650/650 [==============================] - 29s 44ms/step - loss: 0.0023 - acc: 0.0200\n",
      "Epoch 20/100\n",
      "650/650 [==============================] - 29s 44ms/step - loss: 0.0021 - acc: 0.0200\n",
      "Epoch 21/100\n",
      "650/650 [==============================] - 28s 43ms/step - loss: 0.0023 - acc: 0.0200\n",
      "Epoch 22/100\n",
      "650/650 [==============================] - 29s 44ms/step - loss: 0.0021 - acc: 0.0200\n",
      "Epoch 23/100\n",
      "650/650 [==============================] - 28s 43ms/step - loss: 0.0024 - acc: 0.0200\n",
      "Epoch 24/100\n",
      "650/650 [==============================] - 28s 43ms/step - loss: 0.0021 - acc: 0.0200\n",
      "Epoch 25/100\n",
      "650/650 [==============================] - 28s 43ms/step - loss: 0.0025 - acc: 0.0200\n",
      "Epoch 26/100\n",
      "650/650 [==============================] - 29s 45ms/step - loss: 0.0020 - acc: 0.0200\n",
      "Epoch 27/100\n",
      "650/650 [==============================] - 30s 47ms/step - loss: 0.0022 - acc: 0.0200\n",
      "Epoch 28/100\n",
      "650/650 [==============================] - 30s 47ms/step - loss: 0.0021 - acc: 0.0200\n",
      "Epoch 29/100\n",
      "650/650 [==============================] - 28s 44ms/step - loss: 0.0019 - acc: 0.0200\n",
      "Epoch 30/100\n",
      "650/650 [==============================] - 31s 48ms/step - loss: 0.0021 - acc: 0.0200\n",
      "Epoch 31/100\n",
      "650/650 [==============================] - 35s 54ms/step - loss: 0.0024 - acc: 0.0200\n",
      "Epoch 32/100\n",
      "650/650 [==============================] - 25s 38ms/step - loss: 0.0021 - acc: 0.0200\n",
      "Epoch 33/100\n",
      "650/650 [==============================] - 26s 40ms/step - loss: 0.0019 - acc: 0.0200\n",
      "Epoch 34/100\n",
      "650/650 [==============================] - 26s 39ms/step - loss: 0.0023 - acc: 0.0200\n",
      "Epoch 35/100\n",
      "650/650 [==============================] - 25s 39ms/step - loss: 0.0020 - acc: 0.0200\n",
      "Epoch 36/100\n",
      "650/650 [==============================] - 28s 43ms/step - loss: 0.0021 - acc: 0.0200\n",
      "Epoch 37/100\n",
      "650/650 [==============================] - 27s 42ms/step - loss: 0.0019 - acc: 0.0200\n",
      "Epoch 38/100\n",
      "650/650 [==============================] - 29s 45ms/step - loss: 0.0020 - acc: 0.0200\n",
      "Epoch 39/100\n",
      "650/650 [==============================] - 25s 39ms/step - loss: 0.0022 - acc: 0.0200\n",
      "Epoch 40/100\n",
      "650/650 [==============================] - 24s 37ms/step - loss: 0.0023 - acc: 0.0200\n",
      "Epoch 41/100\n",
      "650/650 [==============================] - 25s 38ms/step - loss: 0.0020 - acc: 0.0200\n",
      "Epoch 42/100\n",
      "650/650 [==============================] - 30s 46ms/step - loss: 0.0018 - acc: 0.0200\n",
      "Epoch 43/100\n",
      "650/650 [==============================] - 32s 49ms/step - loss: 0.0021 - acc: 0.0200\n",
      "Epoch 44/100\n",
      "650/650 [==============================] - 30s 46ms/step - loss: 0.0022 - acc: 0.0200\n",
      "Epoch 45/100\n",
      "650/650 [==============================] - 31s 47ms/step - loss: 0.0021 - acc: 0.0200\n",
      "Epoch 46/100\n",
      "650/650 [==============================] - 32s 49ms/step - loss: 0.0019 - acc: 0.0200\n",
      "Epoch 47/100\n",
      "650/650 [==============================] - 32s 49ms/step - loss: 0.0022 - acc: 0.0200\n",
      "Epoch 48/100\n",
      "650/650 [==============================] - 32s 49ms/step - loss: 0.0023 - acc: 0.0200\n",
      "Epoch 49/100\n",
      "650/650 [==============================] - 33s 51ms/step - loss: 0.0020 - acc: 0.0200\n",
      "Epoch 50/100\n",
      "650/650 [==============================] - 31s 48ms/step - loss: 0.0023 - acc: 0.0200\n",
      "Epoch 51/100\n",
      "650/650 [==============================] - 32s 49ms/step - loss: 0.0021 - acc: 0.0200\n",
      "Epoch 52/100\n",
      "650/650 [==============================] - 31s 48ms/step - loss: 0.0021 - acc: 0.0200\n",
      "Epoch 53/100\n",
      "650/650 [==============================] - 33s 50ms/step - loss: 0.0021 - acc: 0.0200\n",
      "Epoch 54/100\n",
      "650/650 [==============================] - 35s 54ms/step - loss: 0.0022 - acc: 0.0200\n",
      "Epoch 55/100\n",
      "650/650 [==============================] - 29s 45ms/step - loss: 0.0022 - acc: 0.0200\n",
      "Epoch 56/100\n",
      "650/650 [==============================] - 36s 55ms/step - loss: 0.0019 - acc: 0.0200\n",
      "Epoch 57/100\n",
      "650/650 [==============================] - 31s 47ms/step - loss: 0.0022 - acc: 0.0200\n",
      "Epoch 58/100\n",
      "650/650 [==============================] - 31s 47ms/step - loss: 0.0020 - acc: 0.0200\n",
      "Epoch 59/100\n",
      "650/650 [==============================] - 33s 51ms/step - loss: 0.0019 - acc: 0.0200\n",
      "Epoch 60/100\n",
      "650/650 [==============================] - 33s 52ms/step - loss: 0.0017 - acc: 0.0200\n",
      "Epoch 61/100\n",
      "650/650 [==============================] - 33s 50ms/step - loss: 0.0022 - acc: 0.0200\n",
      "Epoch 62/100\n",
      "650/650 [==============================] - 33s 51ms/step - loss: 0.0022 - acc: 0.0200\n",
      "Epoch 63/100\n",
      "650/650 [==============================] - 31s 47ms/step - loss: 0.0020 - acc: 0.0200\n",
      "Epoch 64/100\n",
      "650/650 [==============================] - 35s 53ms/step - loss: 0.0021 - acc: 0.0200\n",
      "Epoch 65/100\n",
      "650/650 [==============================] - 27s 41ms/step - loss: 0.0020 - acc: 0.0200\n",
      "Epoch 66/100\n",
      "650/650 [==============================] - 34s 52ms/step - loss: 0.0021 - acc: 0.0200\n",
      "Epoch 67/100\n",
      "650/650 [==============================] - 38s 58ms/step - loss: 0.0023 - acc: 0.0200\n",
      "Epoch 68/100\n",
      "650/650 [==============================] - 45s 69ms/step - loss: 0.0020 - acc: 0.0200\n",
      "Epoch 69/100\n",
      "650/650 [==============================] - 45s 69ms/step - loss: 0.0019 - acc: 0.0200\n",
      "Epoch 70/100\n",
      "650/650 [==============================] - 46s 71ms/step - loss: 0.0021 - acc: 0.0200\n",
      "Epoch 71/100\n",
      "650/650 [==============================] - 46s 71ms/step - loss: 0.0019 - acc: 0.0200\n",
      "Epoch 72/100\n",
      "650/650 [==============================] - 43s 67ms/step - loss: 0.0021 - acc: 0.0200\n",
      "Epoch 73/100\n",
      "650/650 [==============================] - 42s 64ms/step - loss: 0.0021 - acc: 0.0200\n",
      "Epoch 74/100\n",
      "650/650 [==============================] - 44s 68ms/step - loss: 0.0019 - acc: 0.0200\n",
      "Epoch 75/100\n",
      "650/650 [==============================] - 46s 71ms/step - loss: 0.0019 - acc: 0.0200\n",
      "Epoch 76/100\n",
      "650/650 [==============================] - 44s 68ms/step - loss: 0.0021 - acc: 0.0200\n",
      "Epoch 77/100\n",
      "650/650 [==============================] - 43s 67ms/step - loss: 0.0020 - acc: 0.0200\n",
      "Epoch 78/100\n",
      "650/650 [==============================] - 45s 70ms/step - loss: 0.0021 - acc: 0.0200\n",
      "Epoch 79/100\n",
      "650/650 [==============================] - 45s 70ms/step - loss: 0.0020 - acc: 0.0200\n",
      "Epoch 80/100\n",
      "650/650 [==============================] - 43s 67ms/step - loss: 0.0017 - acc: 0.0200\n",
      "Epoch 81/100\n",
      "650/650 [==============================] - 46s 71ms/step - loss: 0.0021 - acc: 0.0200\n",
      "Epoch 82/100\n",
      "650/650 [==============================] - 47s 73ms/step - loss: 0.0020 - acc: 0.0200\n",
      "Epoch 83/100\n"
     ]
    },
    {
     "name": "stdout",
     "output_type": "stream",
     "text": [
      "650/650 [==============================] - 45s 69ms/step - loss: 0.0022 - acc: 0.0200\n",
      "Epoch 84/100\n",
      "650/650 [==============================] - 47s 72ms/step - loss: 0.0018 - acc: 0.0200\n",
      "Epoch 85/100\n",
      "650/650 [==============================] - 45s 70ms/step - loss: 0.0018 - acc: 0.0200\n",
      "Epoch 86/100\n",
      "650/650 [==============================] - 45s 69ms/step - loss: 0.0020 - acc: 0.0200\n",
      "Epoch 87/100\n",
      "650/650 [==============================] - 48s 73ms/step - loss: 0.0019 - acc: 0.0200\n",
      "Epoch 88/100\n",
      "650/650 [==============================] - 42s 64ms/step - loss: 0.0019 - acc: 0.0200\n",
      "Epoch 89/100\n",
      "650/650 [==============================] - 42s 64ms/step - loss: 0.0020 - acc: 0.0200\n",
      "Epoch 90/100\n",
      "650/650 [==============================] - 45s 70ms/step - loss: 0.0022 - acc: 0.0200\n",
      "Epoch 91/100\n",
      "650/650 [==============================] - 49s 76ms/step - loss: 0.0022 - acc: 0.0200\n",
      "Epoch 92/100\n",
      "650/650 [==============================] - 45s 69ms/step - loss: 0.0016 - acc: 0.0200\n",
      "Epoch 93/100\n",
      "650/650 [==============================] - 47s 73ms/step - loss: 0.0016 - acc: 0.0200\n",
      "Epoch 94/100\n",
      "650/650 [==============================] - 46s 71ms/step - loss: 0.0017 - acc: 0.0200\n",
      "Epoch 95/100\n",
      "650/650 [==============================] - 46s 70ms/step - loss: 0.0020 - acc: 0.0200\n",
      "Epoch 96/100\n",
      "650/650 [==============================] - 48s 75ms/step - loss: 0.0021 - acc: 0.0200\n",
      "Epoch 97/100\n",
      "650/650 [==============================] - 44s 68ms/step - loss: 0.0022 - acc: 0.0200\n",
      "Epoch 98/100\n",
      "650/650 [==============================] - 37s 57ms/step - loss: 0.0023 - acc: 0.0200\n",
      "Epoch 99/100\n",
      "650/650 [==============================] - 41s 62ms/step - loss: 0.0018 - acc: 0.0200\n",
      "Epoch 100/100\n",
      "650/650 [==============================] - 49s 75ms/step - loss: 0.0019 - acc: 0.0200\n"
     ]
    },
    {
     "data": {
      "text/plain": [
       "<keras.callbacks.History at 0x7ff63d16ca90>"
      ]
     },
     "execution_count": 19,
     "metadata": {},
     "output_type": "execute_result"
    }
   ],
   "source": [
    "from keras.models import Sequential\n",
    "from keras.layers import Dense, LSTM, Dropout\n",
    "\n",
    "model = Sequential()\n",
    "model.add(LSTM(32, input_dim=1))\n",
    "model.add(Dropout(0.3))\n",
    "model.add(Dense(1))\n",
    "model.compile(loss='mean_squared_error', optimizer='adam', metrics=['accuracy'])\n",
    "model.fit(trainX, trainY, epochs=100, batch_size=1, verbose=1)"
   ]
  },
  {
   "cell_type": "code",
   "execution_count": 20,
   "metadata": {},
   "outputs": [
    {
     "name": "stdout",
     "output_type": "stream",
     "text": [
      "650/650 [==============================] - 2s 3ms/step\n",
      "('Train Score: ', [4.2306207760516986e-05, 0.02])\n",
      "310/310 [==============================] - 1s 2ms/step\n",
      "('Test Score: ', [4.116879557235892e-05, 0.01935483870967742])\n"
     ]
    }
   ],
   "source": [
    "trainScore = model.evaluate(trainX, trainY, batch_size=1, verbose=1)\n",
    "print('Train Score: ', trainScore)\n",
    "testScore = model.evaluate(testX, testY, batch_size=1, verbose=1)\n",
    "print('Test Score: ', testScore)"
   ]
  },
  {
   "cell_type": "markdown",
   "metadata": {},
   "source": [
    "#### Predicting Future Values of Sine Function"
   ]
  },
  {
   "cell_type": "code",
   "execution_count": 21,
   "metadata": {},
   "outputs": [],
   "source": [
    "look_ahead = 250\n",
    "trainPredict = [np.vstack([trainX[-1][1:], trainY[-1]])]\n",
    "predictions = np.zeros((look_ahead,1))\n",
    "for i in range(look_ahead):\n",
    "    prediction = model.predict(np.array([trainPredict[-1]]), batch_size=1)\n",
    "    predictions[i] = prediction\n",
    "    trainPredict.append(np.vstack([trainPredict[-1][1:],prediction]))"
   ]
  },
  {
   "cell_type": "code",
   "execution_count": 22,
   "metadata": {},
   "outputs": [
    {
     "data": {
      "image/png": "[encoded data removed]",
      "text/plain": [
       "<matplotlib.figure.Figure at 0x7ff658114b10>"
      ]
     },
     "metadata": {},
     "output_type": "display_data"
    }
   ],
   "source": [
    "plt.figure(figsize=(12,5))\n",
    "# plt.plot(np.arange(len(trainX)),np.squeeze(trainX))\n",
    "# plt.plot(np.arange(200),scaler.inverse_transform(np.squeeze(trainPredict)[:,None][1:]))\n",
    "# plt.plot(np.arange(200),scaler.inverse_transform(np.squeeze(testY)[:,None][:200]),'r')\n",
    "plt.plot(np.arange(look_ahead),predictions,'r',label=\"prediction\")\n",
    "plt.plot(np.arange(look_ahead),dataset[train_size:(train_size+look_ahead)],label=\"test function\")\n",
    "plt.legend()\n",
    "plt.show()"
   ]
  }
 ],
 "metadata": {
  "kernelspec": {
   "display_name": "Python 2",
   "language": "python",
   "name": "python2"
  },
  "language_info": {
   "codemirror_mode": {
    "name": "ipython",
    "version": 2
   },
   "file_extension": ".py",
   "mimetype": "text/x-python",
   "name": "python",
   "nbconvert_exporter": "python",
   "pygments_lexer": "ipython2",
   "version": "2.7.15"
  }
 },
 "nbformat": 4,
 "nbformat_minor": 2
}
