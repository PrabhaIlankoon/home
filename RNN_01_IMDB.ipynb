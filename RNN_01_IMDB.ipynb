{
 "cells": [
  {
   "cell_type": "markdown",
   "metadata": {},
   "source": [
    "### Preparing the IMDB dataset"
   ]
  },
  {
   "cell_type": "code",
   "execution_count": 2,
   "metadata": {},
   "outputs": [
    {
     "name": "stdout",
     "output_type": "stream",
     "text": [
      "Loading data ...\n",
      "(25000, ' train sequences')\n",
      "(25000, ' test sequences')\n",
      "Pad sequence (samples by time)\n",
      "('input train shape:', (25000, 500))\n",
      "('input test shape:', (25000, 500))\n"
     ]
    }
   ],
   "source": [
    "from keras.datasets import imdb\n",
    "from keras.preprocessing import sequence\n",
    "\n",
    "max_features = 10000\n",
    "maxlen = 500\n",
    "batch_size = 32\n",
    "\n",
    "print('Loading data ...')\n",
    "(train_x, train_y), (test_x, test_y) = imdb.load_data(num_words=max_features)\n",
    "print(len(train_x), ' train sequences')\n",
    "print(len(test_x), ' test sequences')\n",
    "\n",
    "print('Pad sequence (samples by time)')\n",
    "train_x_cutoff = sequence.pad_sequences(train_x, maxlen)\n",
    "test_x_cutoff = sequence.pad_sequences(test_x, maxlen)\n",
    "print('input train shape:', train_x_cutoff.shape)\n",
    "print('input test shape:', test_x_cutoff.shape)"
   ]
  },
  {
   "cell_type": "markdown",
   "metadata": {},
   "source": [
    "### Training the model with Embedding and SimpleRNN layers"
   ]
  },
  {
   "cell_type": "code",
   "execution_count": 3,
   "metadata": {},
   "outputs": [
    {
     "name": "stdout",
     "output_type": "stream",
     "text": [
      "_________________________________________________________________\n",
      "Layer (type)                 Output Shape              Param #   \n",
      "=================================================================\n",
      "embedding_1 (Embedding)      (None, 500, 32)           320000    \n",
      "_________________________________________________________________\n",
      "simple_rnn_1 (SimpleRNN)     (None, 32)                2080      \n",
      "_________________________________________________________________\n",
      "dense_1 (Dense)              (None, 1)                 33        \n",
      "=================================================================\n",
      "Total params: 322,113\n",
      "Trainable params: 322,113\n",
      "Non-trainable params: 0\n",
      "_________________________________________________________________\n",
      "Train on 20000 samples, validate on 5000 samples\n",
      "Epoch 1/10\n",
      "20000/20000 [==============================] - 30s 1ms/step - loss: 0.6695 - acc: 0.5846 - val_loss: 0.6082 - val_acc: 0.6732\n",
      "Epoch 2/10\n",
      "20000/20000 [==============================] - 24s 1ms/step - loss: 0.4428 - acc: 0.8170 - val_loss: 0.4982 - val_acc: 0.7684\n",
      "Epoch 3/10\n",
      "20000/20000 [==============================] - 26s 1ms/step - loss: 0.3029 - acc: 0.8792 - val_loss: 0.3535 - val_acc: 0.8570\n",
      "Epoch 4/10\n",
      "20000/20000 [==============================] - 34s 2ms/step - loss: 0.2244 - acc: 0.9147 - val_loss: 0.3961 - val_acc: 0.8364\n",
      "Epoch 5/10\n",
      "20000/20000 [==============================] - 32s 2ms/step - loss: 0.1670 - acc: 0.9402 - val_loss: 0.4874 - val_acc: 0.7928\n",
      "Epoch 6/10\n",
      "20000/20000 [==============================] - 30s 2ms/step - loss: 0.1041 - acc: 0.9645 - val_loss: 0.4334 - val_acc: 0.8500\n",
      "Epoch 7/10\n",
      "20000/20000 [==============================] - 29s 1ms/step - loss: 0.0696 - acc: 0.9778 - val_loss: 0.4752 - val_acc: 0.8346\n",
      "Epoch 8/10\n",
      "20000/20000 [==============================] - 31s 2ms/step - loss: 0.0406 - acc: 0.9884 - val_loss: 0.5829 - val_acc: 0.8146\n",
      "Epoch 9/10\n",
      "20000/20000 [==============================] - 33s 2ms/step - loss: 0.0415 - acc: 0.9877 - val_loss: 0.6015 - val_acc: 0.8164\n",
      "Epoch 10/10\n",
      "20000/20000 [==============================] - 31s 2ms/step - loss: 0.0184 - acc: 0.9946 - val_loss: 0.7772 - val_acc: 0.7850\n"
     ]
    }
   ],
   "source": [
    "from keras.models import Sequential\n",
    "from keras.layers import Dense, Embedding, SimpleRNN\n",
    "\n",
    "emb_output_size = 32\n",
    "\n",
    "model = Sequential()\n",
    "model.add(Embedding(max_features, emb_output_size, input_length=maxlen))\n",
    "model.add(SimpleRNN(emb_output_size))\n",
    "#model.add(SimpleRNN(emb_output_size, return_sequences=True))\n",
    "#model.add(SimpleRNN(emb_output_size, return_sequences=True))\n",
    "#model.add(SimpleRNN(emb_output_size))\n",
    "model.add(Dense(1, activation='sigmoid'))\n",
    "model.compile(optimizer='rmsprop', loss='binary_crossentropy', metrics=['acc'])\n",
    "model.summary()\n",
    "history = model.fit(train_x_cutoff, train_y, epochs=10, batch_size=128, validation_split=0.2)"
   ]
  },
  {
   "cell_type": "markdown",
   "metadata": {},
   "source": [
    "### Plotting Results"
   ]
  },
  {
   "cell_type": "code",
   "execution_count": 5,
   "metadata": {},
   "outputs": [
    {
     "data": {
      "image/png": "[encoded data removed]",
      "text/plain": [
       "<Figure size 432x288 with 1 Axes>"
      ]
     },
     "metadata": {},
     "output_type": "display_data"
    },
    {
     "data": {
      "image/png": "[encoded data removed]",
      "text/plain": [
       "<Figure size 432x288 with 1 Axes>"
      ]
     },
     "metadata": {},
     "output_type": "display_data"
    }
   ],
   "source": [
    "import matplotlib.pyplot as plt\n",
    "\n",
    "acc = history.history['acc']\n",
    "val_acc = history.history['val_acc']\n",
    "loss = history.history['loss']\n",
    "val_loss = history.history['val_loss']\n",
    "\n",
    "epochs = range(1, len(acc) + 1)\n",
    "\n",
    "plt.plot(epochs, acc, 'bo', label = 'Training acc')\n",
    "plt.plot(epochs, val_acc, 'b', label = 'Validation acc')\n",
    "plt.title('Training and validation accuracy')\n",
    "plt.legend()\n",
    "\n",
    "plt.figure()\n",
    "\n",
    "plt.plot(epochs, loss, 'bo', label = 'Training loss')\n",
    "plt.plot(epochs, val_loss, 'b', label = 'Validation loss')\n",
    "plt.title('Training and validation loss')\n",
    "plt.legend()\n",
    "\n",
    "plt.show()"
   ]
  }
 ],
 "metadata": {
  "kernelspec": {
   "display_name": "Python 2",
   "language": "python",
   "name": "python2"
  },
  "language_info": {
   "codemirror_mode": {
    "name": "ipython",
    "version": 2
   },
   "file_extension": ".py",
   "mimetype": "text/x-python",
   "name": "python",
   "nbconvert_exporter": "python",
   "pygments_lexer": "ipython2",
   "version": "2.7.15"
  }
 },
 "nbformat": 4,
 "nbformat_minor": 2
}
